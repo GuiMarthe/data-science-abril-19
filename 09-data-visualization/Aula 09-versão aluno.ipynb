{
 "cells": [
  {
   "cell_type": "markdown",
   "metadata": {},
   "source": [
    "# Aula 09 - Visualização de dados para tomada de decisão\n",
    "(fortemente baseada no módulo de NumPy, Pandas e Matplotlib do _AI Programming with Python Nanodegree_ da Udacity)\n",
    "\n",
    "A exploração de dados de _qualquer_ dataset começa com a visualização univariada.\n",
    "* **Objetivo:** intuição de como cada variável é distribuída antes de pensar em interações mais complexas.\n",
    "![](http://www.tamarabroderick.com/img/dino_release.png)\n",
    "\n",
    "É nessa etapa que encontramos bizarrices como _outliers_ e onde descobrimos quais pedaços dos dados podem precisar de mais processamento.\n",
    "\n",
    "## Dados bonitos <3\n",
    "Um _dataset_ limpo é tabular e:\n",
    "* cada variável é uma coluna\n",
    "* cada observação é uma linha\n",
    "* cada tipo de unidade observacional é uma tabela\n",
    "\n",
    "**Vocês já devem saber como brincar disso, então vamos fazer de conta que o mundo é lindo e os dados são bonitos. Esse é o caso do nosso _dataset_**.\n",
    "\n",
    "## Pokemon\n",
    "![](https://media.giphy.com/media/10LKovKon8DENq/giphy.gif)\n",
    "O _dataset_ tem atributos utilizados para calcular quanto dano um ataque causará nos jogos de Pokémon (não o _card game_ nem Pokemon Go). Os atributos são:\n",
    "* #: número de cada Pokemon\n",
    "* Name: nome de cada Pokemon\n",
    "* Type 1: todo Pokemon tem um tipo que determina a resistência/fraqueza a ataques\n",
    "* Type 2: alguns Pokemons são _dual type_ e têm dois\n",
    "* Total: soma de todas as estatísticas a seguir. É um guia geral de quão forte o Pokemon é\n",
    "* HP: _hit points_ ou saúde. Define quanto dano um Pokemon aguenta antes de desmaiar\n",
    "* Attack: modificador base de ataques normais (ex.: _scratch_, _punch_, ...)\n",
    "* Defense: base de resistência a dano contra ataques normais\n",
    "* SP Atk: _special attack_. Modificador base para ataques especiais ( ex: _fire blast_, _bubble team_, ...)\n",
    "* SP Def: base de resistência contra ataques especiais\n",
    "* Speed: determina qual Pokemon começa atacando em cada rodada\n",
    "* Generation: geração em que o Pokemon apareceu\n",
    "* Legendary: binário para se o Pokemon é lendário ou não"
   ]
  },
  {
   "cell_type": "code",
   "execution_count": null,
   "metadata": {},
   "outputs": [],
   "source": [
    "import numpy as np\n",
    "import pandas as pd\n",
    "import seaborn as sns\n",
    "import matplotlib.pyplot as plt\n",
    "import re\n",
    "\n",
    "%matplotlib inline"
   ]
  },
  {
   "cell_type": "code",
   "execution_count": null,
   "metadata": {},
   "outputs": [],
   "source": [
    "pokemon = pd.read_csv('Pokemon.csv')\n",
    "pokemon.head()"
   ]
  },
  {
   "cell_type": "code",
   "execution_count": null,
   "metadata": {},
   "outputs": [],
   "source": [
    "pokemon.shape"
   ]
  },
  {
   "cell_type": "markdown",
   "metadata": {},
   "source": [
    "### Gráfico de barras, o mais tradicional\n",
    "Infalível para variáveis qualitativas!"
   ]
  },
  {
   "cell_type": "code",
   "execution_count": null,
   "metadata": {},
   "outputs": [],
   "source": []
  },
  {
   "cell_type": "markdown",
   "metadata": {},
   "source": [
    "Esse gráfico dá enfase pra parte temporal das gerações. Mas se estivermos interessados na ótica de quantos Pokemons apareceram em cada geração, pode ser mais interessante ordenar de forma decrescente."
   ]
  },
  {
   "cell_type": "code",
   "execution_count": null,
   "metadata": {},
   "outputs": [],
   "source": []
  },
  {
   "cell_type": "markdown",
   "metadata": {},
   "source": [
    "Mas isso foi um bocado manual... Podemos fazer isso programaticamente, porque Pandas <3"
   ]
  },
  {
   "cell_type": "code",
   "execution_count": null,
   "metadata": {},
   "outputs": [],
   "source": [
    "pokemon['Generation'].value_counts()"
   ]
  },
  {
   "cell_type": "code",
   "execution_count": null,
   "metadata": {},
   "outputs": [],
   "source": [
    "generation_order = pokemon['Generation'].value_counts().index\n",
    "generation_order"
   ]
  },
  {
   "cell_type": "code",
   "execution_count": null,
   "metadata": {},
   "outputs": [],
   "source": []
  },
  {
   "cell_type": "markdown",
   "metadata": {},
   "source": [
    "#### Outra variável: Tipo!\n",
    "Hora de dar o show (:\n",
    "![](https://media.giphy.com/media/ToMjGpys6SYsvUSE0JW/giphy.gif)"
   ]
  },
  {
   "cell_type": "code",
   "execution_count": null,
   "metadata": {},
   "outputs": [],
   "source": []
  },
  {
   "cell_type": "markdown",
   "metadata": {},
   "source": [
    "#### Gráfico de Barras, o resumão\n",
    "Gráficos de barras são usados para visualizarmos a distribuição de uma variável categórica.\n",
    "* Cada nível da variável é representado por uma barra.\n",
    "* A altura da barra indica a frequência dos dados naquele nível.\n",
    "\n",
    "### Gráfico de Pizza\n",
    "![](https://media.giphy.com/media/9fuvOqZ8tbZOU/giphy.gif)\n",
    "Utilizado para representar frequências representativas de variáveis categóricas."
   ]
  },
  {
   "cell_type": "code",
   "execution_count": null,
   "metadata": {},
   "outputs": [],
   "source": [
    "plt.pie(pokemon['Generation'].value_counts(),\n",
    "        labels = generation_order,\n",
    "        startangle = 90,\n",
    "        counterclock = False);"
   ]
  },
  {
   "cell_type": "markdown",
   "metadata": {},
   "source": [
    "E temos a versão donut, também."
   ]
  },
  {
   "cell_type": "code",
   "execution_count": null,
   "metadata": {},
   "outputs": [],
   "source": [
    "plt.pie(pokemon['Generation'].value_counts(),\n",
    "        labels = generation_order,\n",
    "        startangle = 90,\n",
    "        counterclock = False,\n",
    "        wedgeprops = {'width': 0.4});"
   ]
  },
  {
   "cell_type": "markdown",
   "metadata": {},
   "source": [
    "#### Quem odeia pizza?\n",
    "Eu, nesse caso. Não dá pra entender nada da informação e o gráfico fica pouco informativo. Se eu puder dar uma dica procês, ela é:\n",
    "> Não usem gráfico de pizza. Nunca. \n",
    "\n",
    "(Exceto pra fazer uma brincadeira sobre sabores de pizza).\n",
    "\n",
    "### Histograma\n",
    "Histogramas, por outro lado, são lindos.\n",
    "\n",
    "* Histogramas nos mostram a distribuição de variáveis numéricas.\n",
    "* É a versão quantitativa do gráfico de barras.\n",
    "* Porém, cada barra é agrupada por _bins_, que representam os valores num intervalo.\n",
    "\n",
    "Vamos olhar para a velocidade dos Pokemons."
   ]
  },
  {
   "cell_type": "code",
   "execution_count": null,
   "metadata": {},
   "outputs": [],
   "source": []
  },
  {
   "cell_type": "markdown",
   "metadata": {},
   "source": [
    "Repare que os limites das _bins_ não são valores inteiros porque forçamos o número de _bins_ pra algo mais ou menos tirado do sentido do vento. Mas podemos dar mais inteligência pra isso!\n",
    "Sabemos que a velocidade só assume valores inteiros e gostamos de múltiplos de 5."
   ]
  },
  {
   "cell_type": "code",
   "execution_count": null,
   "metadata": {},
   "outputs": [],
   "source": []
  },
  {
   "cell_type": "markdown",
   "metadata": {},
   "source": [
    "Agora eu tenho uma idéia muito mais clara das estatísticas descritivas desses dados... Lembrando que podemos acessar a versão numérica disso também:"
   ]
  },
  {
   "cell_type": "code",
   "execution_count": null,
   "metadata": {},
   "outputs": [],
   "source": [
    "pokemon['Speed'].describe()"
   ]
  },
  {
   "cell_type": "markdown",
   "metadata": {},
   "source": [
    "#### Que que acontece se eu usar uma _bin_ pequena demais, tipo 1?\n",
    "Hora de dar o show (:\n",
    "![](https://media.giphy.com/media/ToMjGpys6SYsvUSE0JW/giphy.gif)"
   ]
  },
  {
   "cell_type": "code",
   "execution_count": null,
   "metadata": {},
   "outputs": [],
   "source": []
  },
  {
   "cell_type": "markdown",
   "metadata": {},
   "source": [
    "Histogramas são legais porque falam da distribuição dos dados e a distribuição dos dados é relevante porque todo o mundo da estatística se baseia nisso! (Mas não pirem nisso agora, tem chão nesse bootcamp ainda (: )\n",
    "\n",
    "![](https://res.cloudinary.com/teepublic/image/private/s--R6U6EMSR--/t_Preview/b_rgb:ffffff,c_limit,f_jpg,h_600,q_90,w_600/v1519899416/production/designs/2408176_0.jpg)"
   ]
  },
  {
   "cell_type": "markdown",
   "metadata": {},
   "source": [
    "### Que que cê pode me dizer sobre os ataques e defesas dos Pokemons?\n",
    "Parece equilibrado?\n",
    "\n",
    "Hora de dar o show (:\n",
    "![](https://media.giphy.com/media/ToMjGpys6SYsvUSE0JW/giphy.gif)"
   ]
  },
  {
   "cell_type": "code",
   "execution_count": null,
   "metadata": {},
   "outputs": [],
   "source": []
  },
  {
   "cell_type": "markdown",
   "metadata": {},
   "source": [
    "**Em geral:**\n",
    "* Gráfico de barras para variáveis qualitativas\n",
    "* Histogramas para variáveis quantitativas\n",
    "\n",
    "#### Estatísticas descritivas e _outliers_\n",
    "Normalmente, montamos visualizações já pensando em quais são as perguntas que queremos responder e em qual é a finalidade da análise. Para treinar modelos, precisamos entender bem as relações entre os dados, bem como a possível necessidade de um bom trabalho de limpeza.\n",
    "\n",
    "Um simples gráfico dá várias informações sobre a distribuição dos dados logo de cara:\n",
    "* Os dados são simétricos ou assimétricos?\n",
    "* Os dados são unimodais ou bimodais?\n",
    "\n",
    "Histogramas com _outliers_ podem levar a conclusões erradas sobre a real distribuição dos dados."
   ]
  },
  {
   "cell_type": "code",
   "execution_count": null,
   "metadata": {},
   "outputs": [],
   "source": [
    "# Vamos olhar um pouquinho pros hit points dos Pokemons\n",
    "pokemon['HP'].describe()"
   ]
  },
  {
   "cell_type": "code",
   "execution_count": null,
   "metadata": {},
   "outputs": [],
   "source": [
    "bins = np.arange(0, pokemon['HP'].max() + 5, 5)\n",
    "plt.hist(data = pokemon,\n",
    "         x = 'HP',\n",
    "         bins = bins);"
   ]
  },
  {
   "cell_type": "markdown",
   "metadata": {},
   "source": [
    "Tem um maluco ali que bate com mais força que o resto, aparentemente..."
   ]
  },
  {
   "cell_type": "code",
   "execution_count": null,
   "metadata": {},
   "outputs": [],
   "source": []
  },
  {
   "cell_type": "markdown",
   "metadata": {},
   "source": [
    "## Gráficos de dispersão e correlação\n",
    "Em boa parte das vezes, estamos interessados em gráficos bivariados, porque queremos entender as relações entre variáveis.\n",
    "\n",
    "Um dos mais populares para isso é o gráfico de dispersão, que está diretamente ligado à correlação entre as variáveis.\n",
    "\n",
    "Com ele podemos ver, por exemplo, a relação entre Ataque e Defesa!"
   ]
  },
  {
   "cell_type": "code",
   "execution_count": null,
   "metadata": {},
   "outputs": [],
   "source": [
    "plt.scatter(data = pokemon,\n",
    "            x = 'Attack',\n",
    "            y = 'Defense');\n",
    "plt.xlabel('Attack');\n",
    "plt.ylabel('Defense');"
   ]
  },
  {
   "cell_type": "markdown",
   "metadata": {},
   "source": [
    "Parece que temos uma relação... Podemos fazer a mesma coisa com o `regplot` do `seaborn` que, de quebra, nos dá a linha de regressão linear do gráfico, além de mudara opacidade dos pontos."
   ]
  },
  {
   "cell_type": "code",
   "execution_count": null,
   "metadata": {},
   "outputs": [],
   "source": []
  },
  {
   "cell_type": "markdown",
   "metadata": {},
   "source": [
    "Conseguimos o mesmo fator de opacidade no `matplotlib` através do parâmetro `alpha`."
   ]
  },
  {
   "cell_type": "code",
   "execution_count": null,
   "metadata": {},
   "outputs": [],
   "source": []
  },
  {
   "cell_type": "markdown",
   "metadata": {},
   "source": [
    "Uma forma mais matemática de entender a relação entre variáveis é através do coeficiente de correlação de Pearson. Tenha em mente que ele só avalia a correlação _linear_ entre duas variáveis.\n",
    "![](https://statistics.laerd.com/statistical-guides/img/pearson-2-small.png)"
   ]
  },
  {
   "cell_type": "code",
   "execution_count": null,
   "metadata": {},
   "outputs": [],
   "source": [
    "pokemon[['Attack', 'Defense']].corr()"
   ]
  },
  {
   "cell_type": "markdown",
   "metadata": {},
   "source": [
    "## Boxplots\n",
    "Mais uma das minhas coisas prediletas no mundo <3 \n",
    "\n",
    "![](https://media.giphy.com/media/QbkL9WuorOlgI/giphy.gif)\n",
    "\n",
    "Boxplots são mais uma forma de mostrar a relação entre uma variável numérica e outra categórica. Além de ser uma visualização \"de cima\" da distribuição dos dados.\n",
    "\n",
    "![](https://cdn-images-1.medium.com/max/1600/1*2c21SkzJMf3frPXPAR_gZA.png)"
   ]
  },
  {
   "cell_type": "code",
   "execution_count": null,
   "metadata": {},
   "outputs": [],
   "source": [
    "sns.boxplot(data = pokemon,\n",
    "            x = 'Generation',\n",
    "            y = 'Speed',\n",
    "            color = base_color);"
   ]
  },
  {
   "cell_type": "markdown",
   "metadata": {},
   "source": [
    "## Heatmaps (ou mapas de calor)\n",
    "Uma forma muito rápida e visual de ter idéias da relação entre variáveis. Só funciona pra variáveis numéricas (né) e tem um bazilhão de formas diferentes de fazer, e de coisas diferentes.\n",
    "\n",
    "* [Uma pancada de exemplos da própria documentação do Seaborn](https://seaborn.pydata.org/generated/seaborn.heatmap.html)"
   ]
  },
  {
   "cell_type": "code",
   "execution_count": null,
   "metadata": {},
   "outputs": [],
   "source": [
    "sns.heatmap(data = pokemon[['Total',\n",
    "                            'HP',\n",
    "                            'Attack',\n",
    "                            'Defense',\n",
    "                            'Sp. Atk',\n",
    "                            'Sp. Def',\n",
    "                            'Speed',\n",
    "                            'Generation']].corr(),\n",
    "            cmap = 'viridis_r');"
   ]
  },
  {
   "cell_type": "markdown",
   "metadata": {},
   "source": [
    "# Agora me mostre o que você sabe.\n",
    "Vamos trocar de dataset para os resultados da pesquisa de 2017 do Kaggle, [The State of Data Science and Machine Learning](https://www.kaggle.com/surveys/2017)."
   ]
  },
  {
   "cell_type": "code",
   "execution_count": null,
   "metadata": {},
   "outputs": [],
   "source": [
    "mc_responses = pd.read_csv('kaggle-survey-2017/multipleChoiceResponses.csv', \n",
    "                           encoding = 'ISO-8859-1')\n",
    "mc_responses.head()"
   ]
  },
  {
   "cell_type": "markdown",
   "metadata": {},
   "source": [
    "### Qual será a idade dos cientistas de dados da pesquisa?\n",
    "Será que o perfil é de gente mais jovem? Quantos anos tem o mais velho?\n",
    "\n",
    "Para conseguir brincar, vamos transformar a variável de idade, `Age` em números inteiros."
   ]
  },
  {
   "cell_type": "code",
   "execution_count": null,
   "metadata": {},
   "outputs": [],
   "source": [
    "mc_responses_copy = mc_responses.copy()"
   ]
  },
  {
   "cell_type": "code",
   "execution_count": null,
   "metadata": {},
   "outputs": [],
   "source": [
    "mc_responses.Age.isnull().sum()"
   ]
  },
  {
   "cell_type": "code",
   "execution_count": null,
   "metadata": {},
   "outputs": [],
   "source": [
    "mc_responses.shape"
   ]
  },
  {
   "cell_type": "markdown",
   "metadata": {},
   "source": [
    "Ok, não são tantos nulos assim... Vamos substituí-los pelo quê? Podemos escolher 0, 1, a média, a mediana... O que preferimos?"
   ]
  },
  {
   "cell_type": "code",
   "execution_count": null,
   "metadata": {},
   "outputs": [],
   "source": [
    "# Eu tomei a decisão prévia de substituir por zero, porque queria dar destaque pra isso...\n",
    "# Mas, na prática, depende da finalidade da substituição.\n",
    "mc_responses['Age'] = mc_responses.Age.fillna(0).astype(int)"
   ]
  },
  {
   "cell_type": "code",
   "execution_count": null,
   "metadata": {},
   "outputs": [],
   "source": []
  },
  {
   "cell_type": "markdown",
   "metadata": {},
   "source": [
    "# Showtime!\n",
    "Ao invés de substituir os valores nulos por zero, troque pela média da idade. Em seguida, faça o histograma e troque a cor dele.\n",
    "\n",
    "**Dica:** use a [paleta de cores do Seaborn](https://seaborn.pydata.org/tutorial/color_palettes.html#palette-tutorial)!\n",
    "\n",
    "![](https://camo.githubusercontent.com/c0dbd3e526ee348950d56eb45be8d30858701bb7/68747470733a2f2f6d656469612e67697068792e636f6d2f6d656469612f7a787858594a71546c70426e4f2f67697068792e676966)"
   ]
  },
  {
   "cell_type": "code",
   "execution_count": null,
   "metadata": {},
   "outputs": [],
   "source": []
  },
  {
   "cell_type": "markdown",
   "metadata": {},
   "source": [
    "# Quais são as áreas de graduação dos cientistas de dados?"
   ]
  },
  {
   "cell_type": "code",
   "execution_count": null,
   "metadata": {},
   "outputs": [],
   "source": []
  },
  {
   "cell_type": "markdown",
   "metadata": {},
   "source": [
    "# Qual é o maior grau de graduação dentre os cientistas de dados?"
   ]
  },
  {
   "cell_type": "code",
   "execution_count": null,
   "metadata": {},
   "outputs": [],
   "source": []
  },
  {
   "cell_type": "markdown",
   "metadata": {},
   "source": [
    "# Tá, chega de brincadeira... Conversem com os amiguinhos e vamos resolver uns desafios desafiadores.\n",
    "## Qual é a correlação dos tempos das etapas de um projeto de data science de acordo com os pesquisados?\n",
    "As informações dos tempos existem nas colunas:\n",
    "* TimeGatheringData\n",
    "* TimeVisualizing\n",
    "* TimeModelBuilding\n",
    "* TimeFindingInsights\n",
    "* TimeProduction\n",
    "\n",
    "**Dica:** [esse tutorial](https://seaborn.pydata.org/examples/many_pairwise_correlations.html). E use apenas essas variáveis!"
   ]
  },
  {
   "cell_type": "code",
   "execution_count": null,
   "metadata": {},
   "outputs": [],
   "source": []
  },
  {
   "cell_type": "markdown",
   "metadata": {},
   "source": [
    "## % de tempo investido criando modelos?\n",
    "Use a variável `TimeModelBuilding` e pense numa visualização útil."
   ]
  },
  {
   "cell_type": "code",
   "execution_count": null,
   "metadata": {},
   "outputs": [],
   "source": []
  },
  {
   "cell_type": "markdown",
   "metadata": {},
   "source": [
    "## Quais foram os empregos anteriores dos cientistas de dados?\n",
    "Essa informação existe em `PastJobTitlesSelect`. Veja que essa coluna possui vários valores. Você precisará criar um método para reduzir a granularidade dessa coluna.\n",
    "\n",
    "**Dica:** A solução fica mais fácil se você usar [expressões regulares](https://pt.wikipedia.org/wiki/Express%C3%A3o_regular). Para testá-las use [esse site](https://regexr.com/)."
   ]
  },
  {
   "cell_type": "code",
   "execution_count": null,
   "metadata": {},
   "outputs": [],
   "source": []
  },
  {
   "cell_type": "markdown",
   "metadata": {},
   "source": [
    "# Links extras\n",
    "* Uma das análises desse dataset no blog do kaggle -> http://blog.kaggle.com/2017/10/30/introducing-kaggles-state-of-data-science-machine-learning-report-2017/\n",
    "* Joyplots -> http://blog.kaggle.com/2017/07/20/joyplots-tutorial-with-insect-data/\n",
    "* Plots de mapas -> http://blog.kaggle.com/2016/11/30/seventeen-ways-to-map-data-in-kaggle-kernels/\n",
    "* Pra inspirar -> https://informationisbeautiful.net/"
   ]
  },
  {
   "cell_type": "code",
   "execution_count": null,
   "metadata": {},
   "outputs": [],
   "source": []
  }
 ],
 "metadata": {
  "kernelspec": {
   "display_name": "Python 3",
   "language": "python",
   "name": "python3"
  },
  "language_info": {
   "codemirror_mode": {
    "name": "ipython",
    "version": 3
   },
   "file_extension": ".py",
   "mimetype": "text/x-python",
   "name": "python",
   "nbconvert_exporter": "python",
   "pygments_lexer": "ipython3",
   "version": "3.7.1"
  }
 },
 "nbformat": 4,
 "nbformat_minor": 2
}
