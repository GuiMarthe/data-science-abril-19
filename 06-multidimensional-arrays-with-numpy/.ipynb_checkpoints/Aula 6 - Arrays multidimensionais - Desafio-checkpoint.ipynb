{
 "cells": [
  {
   "cell_type": "markdown",
   "metadata": {},
   "source": [
    "## Case: Valor da ação\n",
    "Vamos dar uma investigada no dataset da ações da google. A principal pergunta que queremos responder é: existe alguma correlação entre o valor da ação e o volume negociado?"
   ]
  },
  {
   "cell_type": "code",
   "execution_count": null,
   "metadata": {
    "ExecuteTime": {
     "end_time": "2019-02-19T01:29:09.328772Z",
     "start_time": "2019-02-19T01:29:09.320755Z"
    }
   },
   "outputs": [],
   "source": [
    "#-- bibliotecas\n"
   ]
  },
  {
   "cell_type": "code",
   "execution_count": null,
   "metadata": {
    "ExecuteTime": {
     "end_time": "2019-02-18T10:08:40.924252Z",
     "start_time": "2019-02-18T10:08:40.832305Z"
    }
   },
   "outputs": [],
   "source": [
    "#-- lendo os dados das ações do google\n"
   ]
  },
  {
   "cell_type": "markdown",
   "metadata": {},
   "source": [
    "Vamos copiar apenas as colunas de interesse e transformá-las em numpy array"
   ]
  },
  {
   "cell_type": "code",
   "execution_count": null,
   "metadata": {
    "ExecuteTime": {
     "end_time": "2019-02-18T10:11:00.054742Z",
     "start_time": "2019-02-18T10:11:00.047745Z"
    }
   },
   "outputs": [],
   "source": [
    "#-- copiando as colunas de interesse\n",
    "close = np.array(google[['Close']])\n",
    "volume = np.array(google[['Volume']])"
   ]
  },
  {
   "cell_type": "markdown",
   "metadata": {},
   "source": [
    "Agora vamos plotar nossos pontos usando Matplotlib:"
   ]
  },
  {
   "cell_type": "code",
   "execution_count": null,
   "metadata": {
    "ExecuteTime": {
     "end_time": "2019-02-19T01:34:13.341307Z",
     "start_time": "2019-02-19T01:34:13.106210Z"
    }
   },
   "outputs": [],
   "source": [
    "#-- plotando um gráfico de dispersão\n"
   ]
  },
  {
   "cell_type": "markdown",
   "metadata": {},
   "source": [
    "O que você acha da correlação? Se você tivesse que advinhar o valor de uma ação de $1.100, qual seria seu melhor palpite?\n",
    "\n",
    "Talvez 1,8MM?\n",
    "\n",
    "Essa reta imaginária que visualizamos é um modelo que recebe a quantidade de ações negociadas e preve o valor da ação. Esse modelo pode ser visto como uma função `f(x) = y`, onde x é a quantidade de ações e y é o valor das ações.\n",
    "\n",
    "Vocês conseguem definir essa função?"
   ]
  },
  {
   "cell_type": "code",
   "execution_count": null,
   "metadata": {
    "ExecuteTime": {
     "end_time": "2019-02-18T10:17:02.751997Z",
     "start_time": "2019-02-18T10:17:02.664049Z"
    }
   },
   "outputs": [],
   "source": [
    "#-- calculando o coeficiente de pearson\n",
    "from scipy.stats.stats import pearsonr \n"
   ]
  },
  {
   "cell_type": "markdown",
   "metadata": {},
   "source": [
    "Vamos revistar nossa resposta anterior usando nossa nova função:"
   ]
  },
  {
   "cell_type": "code",
   "execution_count": null,
   "metadata": {
    "ExecuteTime": {
     "end_time": "2019-02-18T10:24:04.584719Z",
     "start_time": "2019-02-18T10:24:04.580721Z"
    }
   },
   "outputs": [],
   "source": [
    "def predict(p):\n",
    "    return 0.0006*p + 20"
   ]
  },
  {
   "cell_type": "code",
   "execution_count": null,
   "metadata": {
    "ExecuteTime": {
     "end_time": "2019-02-18T10:24:05.397132Z",
     "start_time": "2019-02-18T10:24:05.390138Z"
    }
   },
   "outputs": [],
   "source": [
    "#-- prevendo o valor de fechamento\n"
   ]
  },
  {
   "cell_type": "markdown",
   "metadata": {},
   "source": [
    "Porém nós achamos essa reta no olhão. Se usarmos um número ligeiramente diferente, como podemos saber se a reta é melhor ou pior que outras que tentamos? Vamos definir nossa função de erro, que vai contabilizar todos nossos erros:"
   ]
  },
  {
   "cell_type": "code",
   "execution_count": null,
   "metadata": {
    "ExecuteTime": {
     "end_time": "2019-02-18T10:24:08.753462Z",
     "start_time": "2019-02-18T10:24:08.749467Z"
    }
   },
   "outputs": [],
   "source": [
    "def error(y, yp):\n",
    "    return np.abs(y-yp).mean()"
   ]
  },
  {
   "cell_type": "code",
   "execution_count": null,
   "metadata": {
    "ExecuteTime": {
     "end_time": "2019-02-18T10:28:21.062953Z",
     "start_time": "2019-02-18T10:28:21.056955Z"
    }
   },
   "outputs": [],
   "source": [
    "#-- verificando o erro\n"
   ]
  },
  {
   "cell_type": "code",
   "execution_count": null,
   "metadata": {
    "ExecuteTime": {
     "end_time": "2019-02-18T10:29:08.583931Z",
     "start_time": "2019-02-18T10:29:08.162769Z"
    }
   },
   "outputs": [],
   "source": [
    "#-- plotando a reta\n",
    "pf = predict(volume)\n",
    "\n",
    "print(np.abs(pf-close).mean())\n",
    "plt.plot(volume, close, '.')\n",
    "plt.plot(volume, pf)"
   ]
  },
  {
   "cell_type": "markdown",
   "metadata": {},
   "source": [
    "Agora vamos comparar nossos resultados com os do sklearn. Aposto que os nossos são melhores!"
   ]
  },
  {
   "cell_type": "code",
   "execution_count": null,
   "metadata": {
    "ExecuteTime": {
     "end_time": "2019-02-18T10:29:53.115089Z",
     "start_time": "2019-02-18T10:29:51.925494Z"
    }
   },
   "outputs": [],
   "source": [
    "#-- trabalhando com um modelo de regressão\n",
    "from sklearn.linear_model import LinearRegression\n",
    "\n",
    "lr = LinearRegression()\n",
    "lr.fit(volume.reshape(-1,1), close)"
   ]
  },
  {
   "cell_type": "code",
   "execution_count": null,
   "metadata": {
    "ExecuteTime": {
     "end_time": "2019-02-18T10:30:08.130847Z",
     "start_time": "2019-02-18T10:30:08.124855Z"
    }
   },
   "outputs": [],
   "source": [
    "#-- prevendo o valor de fechamento\n",
    "lr.predict([[]])"
   ]
  },
  {
   "cell_type": "code",
   "execution_count": null,
   "metadata": {
    "ExecuteTime": {
     "end_time": "2019-02-18T10:30:16.562687Z",
     "start_time": "2019-02-18T10:30:16.555692Z"
    }
   },
   "outputs": [],
   "source": [
    "#-- printando os valores dos coeficientes da reta\n"
   ]
  }
 ],
 "metadata": {
  "kernelspec": {
   "display_name": "Python 3",
   "language": "python",
   "name": "python3"
  },
  "language_info": {
   "codemirror_mode": {
    "name": "ipython",
    "version": 3
   },
   "file_extension": ".py",
   "mimetype": "text/x-python",
   "name": "python",
   "nbconvert_exporter": "python",
   "pygments_lexer": "ipython3",
   "version": "3.6.8"
  },
  "toc": {
   "base_numbering": 1,
   "nav_menu": {},
   "number_sections": true,
   "sideBar": true,
   "skip_h1_title": false,
   "title_cell": "Table of Contents",
   "title_sidebar": "Contents",
   "toc_cell": false,
   "toc_position": {},
   "toc_section_display": true,
   "toc_window_display": false
  },
  "varInspector": {
   "cols": {
    "lenName": 16,
    "lenType": 16,
    "lenVar": 40
   },
   "kernels_config": {
    "python": {
     "delete_cmd_postfix": "",
     "delete_cmd_prefix": "del ",
     "library": "var_list.py",
     "varRefreshCmd": "print(var_dic_list())"
    },
    "r": {
     "delete_cmd_postfix": ") ",
     "delete_cmd_prefix": "rm(",
     "library": "var_list.r",
     "varRefreshCmd": "cat(var_dic_list()) "
    }
   },
   "types_to_exclude": [
    "module",
    "function",
    "builtin_function_or_method",
    "instance",
    "_Feature"
   ],
   "window_display": false
  }
 },
 "nbformat": 4,
 "nbformat_minor": 2
}
