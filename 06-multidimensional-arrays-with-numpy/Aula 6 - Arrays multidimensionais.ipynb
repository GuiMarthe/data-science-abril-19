{
 "cells": [
  {
   "cell_type": "markdown",
   "metadata": {},
   "source": [
    "# Aula 6 - Análise de dados com ARRAYS Multidimensionais\n",
    "![image.png](https://somostera.com/wp-content/uploads/2017/08/Tera_logo_250.jpg)"
   ]
  },
  {
   "cell_type": "markdown",
   "metadata": {
    "ExecuteTime": {
     "end_time": "2019-02-19T01:18:38.427639Z",
     "start_time": "2019-02-19T01:18:38.419642Z"
    }
   },
   "source": [
    "## Warm Up\n",
    "\n",
    "![image.png](https://media.giphy.com/media/xUA7b71qSL8niEMWU8/giphy.gif)"
   ]
  },
  {
   "cell_type": "markdown",
   "metadata": {},
   "source": [
    "## Expectativas!\n",
    "\n",
    "O que vocês esperam da aula de hoje?\n",
    "\n",
    "![image.png](https://img.buzzfeed.com/buzzfeed-static/static/enhanced/web04/2012/2/14/17/enhanced-buzz-8358-1329258536-95.jpg?downsize=800:*&output-format=auto&output-quality=auto)"
   ]
  },
  {
   "cell_type": "markdown",
   "metadata": {
    "ExecuteTime": {
     "end_time": "2019-02-19T01:25:09.915383Z",
     "start_time": "2019-02-19T01:25:09.907385Z"
    }
   },
   "source": [
    "# Índice\n",
    "\n",
    "- [WTF](#WTF??)\n",
    "- [Vantagem](#Tá,-qual-é-a-vantagem?)\n",
    "- [Universo Mágico das matrizes e álgebra linear](#NumPy-e-o-mágico-universo-das-matrizes-e-álgebra-linear)\n",
    "- [Mãos na massa](#Mãos-na-massa)\n",
    "- [Ferramentas legais](#Ferramentas-legais)\n",
    "- [Jogo rápido](#Jogo-rápido:)\n",
    "- [Array ou list?](#Array-ou-list?)\n",
    "- [Geradores](#Geradores)\n",
    "- [Indexação e atribuições](#Indexação-e-atribuições)\n",
    "- [Slicing](#Slicing)\n",
    "- [Bora trabalhar?](#Bora-trabalhar?)\n",
    "- [Máscaras Booleanas](#Acesso-com-máscaras-booleanas)\n",
    "- [Operações Matemáticas](#Operações-matemáticas-com-arrays)\n",
    "- [Operações Lógicas](#Operações-lógicas)\n",
    "- [Exercícios](#Exercícios!)\n",
    "- [Diferença entre View e Copy](#Views-vs-Copy)\n",
    "- [Usando imagens para explorar arrays](#Usando-imagens-para-explorar-arrays)\n",
    "- [Funções](#Funções)\n",
    "- [Gráficos](#Gráficos!)\n",
    "- [Exercícios](#Exercícios)\n",
    "- [Agregações](#Agregações)\n",
    "- [Outliers](#Outliers)"
   ]
  },
  {
   "cell_type": "markdown",
   "metadata": {
    "ExecuteTime": {
     "end_time": "2019-02-19T01:12:07.330827Z",
     "start_time": "2019-02-19T01:12:07.202841Z"
    }
   },
   "source": [
    "### WTF??\n",
    "\n",
    "![image.png](https://media.giphy.com/media/1PRfJv5tXRive/giphy.gif)"
   ]
  },
  {
   "cell_type": "markdown",
   "metadata": {},
   "source": [
    "Por partes:\n",
    "* _array_ é um vetor. Um vetor é uma lista!\n",
    "\n",
    "![image.png](https://imagens-revista.vivadecora.com.br/uploads/2018/04/Lista-de-compras-no-papel.jpg)\n",
    "\n",
    "* Um _array_ de duas dimensões é uma lista de listas.\n",
    "\n",
    "* _array_ multidimensional é um _array_ de _arrays_ ou uma lista de listas.\n",
    "![image.png](https://media.giphy.com/media/nMiaaz3g6SjrW/giphy.gif)\n",
    "\n",
    "### Tá, qual é a vantagem?"
   ]
  },
  {
   "cell_type": "code",
   "execution_count": null,
   "metadata": {
    "ExecuteTime": {
     "end_time": "2019-02-19T09:34:53.253960Z",
     "start_time": "2019-02-19T09:34:53.226972Z"
    }
   },
   "outputs": [],
   "source": [
    "\"\"\"\n",
    ".\n",
    ".\n",
    ".\n",
    ".\n",
    ".\n",
    ".\n",
    ".\n",
    ".\n",
    ".\n",
    ".\n",
    ".\n",
    ".\n",
    ".\n",
    ".\n",
    ".\n",
    ".\n",
    ".\n",
    ".\n",
    ".\n",
    ".\n",
    ".\n",
    ".\n",
    ".\n",
    ".\n",
    ".\n",
    ".\n",
    ".\n",
    ".\n",
    ".\n",
    ".\n",
    ".\n",
    ".\n",
    ".\n",
    ".\n",
    ".\n",
    ".\n",
    ".\n",
    ".\n",
    ".\n",
    ".\n",
    ".\n",
    ".\"\"\""
   ]
  },
  {
   "cell_type": "markdown",
   "metadata": {},
   "source": [
    "> - Alocação na memória\n",
    "- Operações com vetores\n",
    "- Seleções booleanas\n",
    "- Seleção e filtros\n",
    "\n",
    "![image.png](https://cdn-images-1.medium.com/max/1250/1*Ikn1J6siiiCSk4ivYUhdgw.png)\n",
    "\n",
    "\n",
    "## NumPy e o mágico universo das matrizes e álgebra linear\n",
    "NumPy vem de _Numerical Python_ e é uma biblioteca que permite a manipulação de dados em _arrays_.\n",
    "* Agora podemos ter sequências de valores n-dimensionais!\n",
    "* Construção de matrizes e, por sua vez, usar álgebra linear (cenas dos próximos episódios, em _machine learning_).\n",
    "    * Pandas <3\n",
    "* Um mundo de facilidade na manipulação de dados!\n",
    "\n",
    "Mais detalhes em: http://www.numpy.org/"
   ]
  },
  {
   "cell_type": "markdown",
   "metadata": {},
   "source": [
    ">Antes do NumPy, coisas muito simples ficavam consideravelmente complexas.\n",
    "Vamos criar um vetor e multiplicar cada um dos elementos dele por 2 e depois somar 5"
   ]
  },
  {
   "cell_type": "markdown",
   "metadata": {
    "ExecuteTime": {
     "end_time": "2019-02-16T21:05:22.681338Z",
     "start_time": "2019-02-16T21:05:22.677343Z"
    }
   },
   "source": [
    "### Ah! Sem NUMPY"
   ]
  },
  {
   "cell_type": "code",
   "execution_count": 4,
   "metadata": {
    "ExecuteTime": {
     "end_time": "2019-05-16T22:51:00.863719Z",
     "start_time": "2019-05-16T22:51:00.859741Z"
    }
   },
   "outputs": [],
   "source": [
    "vector = [-3, 10, 0, -15, -6]"
   ]
  },
  {
   "cell_type": "markdown",
   "metadata": {},
   "source": [
    "> Exercício"
   ]
  },
  {
   "cell_type": "code",
   "execution_count": 2,
   "metadata": {
    "ExecuteTime": {
     "end_time": "2019-05-16T22:45:45.424223Z",
     "start_time": "2019-05-16T22:45:45.408233Z"
    }
   },
   "outputs": [
    {
     "data": {
      "text/plain": [
       "[-1, 25, 5, -25, -7]"
      ]
     },
     "execution_count": 2,
     "metadata": {},
     "output_type": "execute_result"
    }
   ],
   "source": [
    "vector = [-3*2+5, 10*2+5, 0*2+5, -15*2+5, -6*2+5]\n",
    "vector"
   ]
  },
  {
   "cell_type": "code",
   "execution_count": null,
   "metadata": {
    "ExecuteTime": {
     "end_time": "2019-02-16T21:07:15.417293Z",
     "start_time": "2019-02-16T21:07:15.413314Z"
    }
   },
   "outputs": [],
   "source": []
  },
  {
   "cell_type": "markdown",
   "metadata": {},
   "source": [
    "**E com NumPy?**"
   ]
  },
  {
   "cell_type": "code",
   "execution_count": 3,
   "metadata": {
    "ExecuteTime": {
     "end_time": "2019-05-16T22:47:55.386010Z",
     "start_time": "2019-05-16T22:47:37.832998Z"
    }
   },
   "outputs": [],
   "source": [
    "# mais práticas de programação: vamos importar as bibliotecas agora\n",
    "import numpy as np\n",
    "import matplotlib.pyplot as plt\n",
    "#import utils\n",
    "import pandas as pd\n",
    "\n",
    "%matplotlib inline"
   ]
  },
  {
   "cell_type": "code",
   "execution_count": 5,
   "metadata": {
    "ExecuteTime": {
     "end_time": "2019-05-16T22:51:21.640677Z",
     "start_time": "2019-05-16T22:51:21.636679Z"
    }
   },
   "outputs": [],
   "source": [
    "vector_np = np.array(vector)"
   ]
  },
  {
   "cell_type": "code",
   "execution_count": 6,
   "metadata": {
    "ExecuteTime": {
     "end_time": "2019-05-16T22:51:25.522802Z",
     "start_time": "2019-05-16T22:51:25.517804Z"
    }
   },
   "outputs": [
    {
     "name": "stdout",
     "output_type": "stream",
     "text": [
      "<class 'list'>\n",
      "<class 'numpy.ndarray'>\n"
     ]
    }
   ],
   "source": [
    "print(type(vector))\n",
    "print(type(vector_np))"
   ]
  },
  {
   "cell_type": "code",
   "execution_count": 7,
   "metadata": {
    "ExecuteTime": {
     "end_time": "2019-05-16T22:52:14.692109Z",
     "start_time": "2019-05-16T22:52:14.685112Z"
    }
   },
   "outputs": [
    {
     "data": {
      "text/plain": [
       "array([ -1,  25,   5, -25,  -7])"
      ]
     },
     "execution_count": 7,
     "metadata": {},
     "output_type": "execute_result"
    }
   ],
   "source": [
    "(vector_np * 2) + 5"
   ]
  },
  {
   "cell_type": "markdown",
   "metadata": {},
   "source": [
    "### Hum, e como o Python entende um vetor do tipo lista??"
   ]
  },
  {
   "cell_type": "code",
   "execution_count": 9,
   "metadata": {
    "ExecuteTime": {
     "end_time": "2019-05-16T22:54:25.273379Z",
     "start_time": "2019-05-16T22:54:25.268383Z"
    }
   },
   "outputs": [
    {
     "data": {
      "text/plain": [
       "[-3, 10, 0, -15, -6, -3, 10, 0, -15, -6]"
      ]
     },
     "execution_count": 9,
     "metadata": {},
     "output_type": "execute_result"
    }
   ],
   "source": [
    "vector * 2"
   ]
  },
  {
   "cell_type": "markdown",
   "metadata": {},
   "source": [
    "#### A vida é mais bonita e natural com NumPy\n",
    "\n",
    "![img](http://gifs.eco.br/wp-content/uploads/2017/12/Gif-de-Cora%C3%A7%C3%A3o-Batendo.gif)\n",
    "\n",
    "### Mãos na massa\n",
    "Você é responsável pelo estoque de uma distribuidora e precisa calcular o preço total de uma compra. Como faz? (Nota: pensar em algoritmos é quebrar um grande problema em problemas menores.)\n",
    "* Cada item tem um preço.\n",
    "* Se mais de uma unidade de um item é comprada, o preço é multiplicado pela quantidade de itens.\n",
    "* Total da compra é a soma da multiplicação."
   ]
  },
  {
   "cell_type": "code",
   "execution_count": 12,
   "metadata": {
    "ExecuteTime": {
     "end_time": "2019-05-16T23:04:01.325015Z",
     "start_time": "2019-05-16T23:04:01.320016Z"
    }
   },
   "outputs": [],
   "source": [
    "n_items = np.array([101,   42,   18,   12,   5,  134])           # quantidade de itens comprados\n",
    "prices  = np.array([12.2, 3.9, 15.0, 2.75, 1.1, 0.99])"
   ]
  },
  {
   "cell_type": "markdown",
   "metadata": {},
   "source": [
    "![image.png](https://www.ethic.ninja/wp-content/uploads/2017/11/challenge-accepted-gif-9.gif)"
   ]
  },
  {
   "cell_type": "code",
   "execution_count": 14,
   "metadata": {
    "ExecuteTime": {
     "end_time": "2019-05-16T23:04:10.250495Z",
     "start_time": "2019-05-16T23:04:10.243500Z"
    }
   },
   "outputs": [
    {
     "name": "stdout",
     "output_type": "stream",
     "text": [
      "1837.1599999999999\n"
     ]
    }
   ],
   "source": [
    "# sem vantagens NumPy\n",
    "total = 0\n",
    "for i in range(len(n_items)):\n",
    "    total += n_items[i] * prices[i]\n",
    "    \n",
    "print(total)"
   ]
  },
  {
   "cell_type": "code",
   "execution_count": 16,
   "metadata": {
    "ExecuteTime": {
     "end_time": "2019-05-16T23:05:21.767983Z",
     "start_time": "2019-05-16T23:05:21.760987Z"
    }
   },
   "outputs": [
    {
     "data": {
      "text/plain": [
       "1837.1599999999999"
      ]
     },
     "execution_count": 16,
     "metadata": {},
     "output_type": "execute_result"
    }
   ],
   "source": [
    "# com vantagens NumPy\n",
    "np.sum(n_items * prices)"
   ]
  },
  {
   "cell_type": "markdown",
   "metadata": {},
   "source": [
    "#### Convencidos?\n",
    "E a mágica não para por aí...\n",
    "\n",
    "Podemos definir _arrays_ NumPy passando listas, como já vimos:"
   ]
  },
  {
   "cell_type": "code",
   "execution_count": null,
   "metadata": {},
   "outputs": [],
   "source": [
    "#-- bibliotecas para instalar\n",
    "!pip install pandas-datareader\n",
    "#!conda install -c anaconda pandas-datareader \n",
    "#import sys\n",
    "#!conda install --yes --prefix {sys.prefix} pandas-datareader"
   ]
  },
  {
   "cell_type": "code",
   "execution_count": 17,
   "metadata": {
    "ExecuteTime": {
     "end_time": "2019-05-16T23:06:13.703274Z",
     "start_time": "2019-05-16T23:06:07.976041Z"
    }
   },
   "outputs": [],
   "source": [
    "from datetime import date\n",
    "from pandas_datareader.data import DataReader"
   ]
  },
  {
   "cell_type": "code",
   "execution_count": 18,
   "metadata": {
    "ExecuteTime": {
     "end_time": "2019-05-16T23:09:52.307106Z",
     "start_time": "2019-05-16T23:09:52.304107Z"
    }
   },
   "outputs": [],
   "source": [
    "#-- difinindo as datas de exportação\n",
    "start = date(2019, 3, 1)\n",
    "end = date(2019, 4, 30)"
   ]
  },
  {
   "cell_type": "code",
   "execution_count": 19,
   "metadata": {
    "ExecuteTime": {
     "end_time": "2019-05-16T23:10:37.637863Z",
     "start_time": "2019-05-16T23:10:36.715187Z"
    }
   },
   "outputs": [],
   "source": [
    "#-- pegando os dados do google\n",
    "ticker = 'GOOG'\n",
    "data_source = 'yahoo'\n",
    "stock_data_google = DataReader(ticker, data_source, start, end)"
   ]
  },
  {
   "cell_type": "code",
   "execution_count": 20,
   "metadata": {
    "ExecuteTime": {
     "end_time": "2019-05-16T23:14:15.057446Z",
     "start_time": "2019-05-16T23:14:14.953506Z"
    }
   },
   "outputs": [
    {
     "data": {
      "text/html": [
       "<div>\n",
       "<style scoped>\n",
       "    .dataframe tbody tr th:only-of-type {\n",
       "        vertical-align: middle;\n",
       "    }\n",
       "\n",
       "    .dataframe tbody tr th {\n",
       "        vertical-align: top;\n",
       "    }\n",
       "\n",
       "    .dataframe thead th {\n",
       "        text-align: right;\n",
       "    }\n",
       "</style>\n",
       "<table border=\"1\" class=\"dataframe\">\n",
       "  <thead>\n",
       "    <tr style=\"text-align: right;\">\n",
       "      <th></th>\n",
       "      <th>High</th>\n",
       "      <th>Low</th>\n",
       "      <th>Open</th>\n",
       "      <th>Close</th>\n",
       "      <th>Volume</th>\n",
       "      <th>Adj Close</th>\n",
       "    </tr>\n",
       "    <tr>\n",
       "      <th>Date</th>\n",
       "      <th></th>\n",
       "      <th></th>\n",
       "      <th></th>\n",
       "      <th></th>\n",
       "      <th></th>\n",
       "      <th></th>\n",
       "    </tr>\n",
       "  </thead>\n",
       "  <tbody>\n",
       "    <tr>\n",
       "      <th>2019-03-01</th>\n",
       "      <td>1142.969971</td>\n",
       "      <td>1124.750000</td>\n",
       "      <td>1124.900024</td>\n",
       "      <td>1140.989990</td>\n",
       "      <td>1450300</td>\n",
       "      <td>1140.989990</td>\n",
       "    </tr>\n",
       "    <tr>\n",
       "      <th>2019-03-04</th>\n",
       "      <td>1158.280029</td>\n",
       "      <td>1130.689941</td>\n",
       "      <td>1146.989990</td>\n",
       "      <td>1147.800049</td>\n",
       "      <td>1446000</td>\n",
       "      <td>1147.800049</td>\n",
       "    </tr>\n",
       "    <tr>\n",
       "      <th>2019-03-05</th>\n",
       "      <td>1169.609985</td>\n",
       "      <td>1146.194946</td>\n",
       "      <td>1150.060059</td>\n",
       "      <td>1162.030029</td>\n",
       "      <td>1443200</td>\n",
       "      <td>1162.030029</td>\n",
       "    </tr>\n",
       "    <tr>\n",
       "      <th>2019-03-06</th>\n",
       "      <td>1167.566040</td>\n",
       "      <td>1155.489990</td>\n",
       "      <td>1162.489990</td>\n",
       "      <td>1157.859985</td>\n",
       "      <td>1099300</td>\n",
       "      <td>1157.859985</td>\n",
       "    </tr>\n",
       "    <tr>\n",
       "      <th>2019-03-07</th>\n",
       "      <td>1156.755005</td>\n",
       "      <td>1134.910034</td>\n",
       "      <td>1155.719971</td>\n",
       "      <td>1143.300049</td>\n",
       "      <td>1166100</td>\n",
       "      <td>1143.300049</td>\n",
       "    </tr>\n",
       "    <tr>\n",
       "      <th>2019-03-08</th>\n",
       "      <td>1147.079956</td>\n",
       "      <td>1123.300049</td>\n",
       "      <td>1126.729980</td>\n",
       "      <td>1142.319946</td>\n",
       "      <td>1212400</td>\n",
       "      <td>1142.319946</td>\n",
       "    </tr>\n",
       "    <tr>\n",
       "      <th>2019-03-11</th>\n",
       "      <td>1176.189941</td>\n",
       "      <td>1144.449951</td>\n",
       "      <td>1144.449951</td>\n",
       "      <td>1175.760010</td>\n",
       "      <td>1719200</td>\n",
       "      <td>1175.760010</td>\n",
       "    </tr>\n",
       "    <tr>\n",
       "      <th>2019-03-12</th>\n",
       "      <td>1200.000000</td>\n",
       "      <td>1178.260010</td>\n",
       "      <td>1178.260010</td>\n",
       "      <td>1193.199951</td>\n",
       "      <td>2013100</td>\n",
       "      <td>1193.199951</td>\n",
       "    </tr>\n",
       "    <tr>\n",
       "      <th>2019-03-13</th>\n",
       "      <td>1200.930054</td>\n",
       "      <td>1191.939941</td>\n",
       "      <td>1200.645020</td>\n",
       "      <td>1193.319946</td>\n",
       "      <td>1435900</td>\n",
       "      <td>1193.319946</td>\n",
       "    </tr>\n",
       "    <tr>\n",
       "      <th>2019-03-14</th>\n",
       "      <td>1197.880005</td>\n",
       "      <td>1184.479980</td>\n",
       "      <td>1194.510010</td>\n",
       "      <td>1185.550049</td>\n",
       "      <td>1172800</td>\n",
       "      <td>1185.550049</td>\n",
       "    </tr>\n",
       "    <tr>\n",
       "      <th>2019-03-15</th>\n",
       "      <td>1196.569946</td>\n",
       "      <td>1182.609985</td>\n",
       "      <td>1193.380005</td>\n",
       "      <td>1184.459961</td>\n",
       "      <td>2461800</td>\n",
       "      <td>1184.459961</td>\n",
       "    </tr>\n",
       "    <tr>\n",
       "      <th>2019-03-18</th>\n",
       "      <td>1190.000000</td>\n",
       "      <td>1177.421021</td>\n",
       "      <td>1183.300049</td>\n",
       "      <td>1184.260010</td>\n",
       "      <td>1292600</td>\n",
       "      <td>1184.260010</td>\n",
       "    </tr>\n",
       "    <tr>\n",
       "      <th>2019-03-19</th>\n",
       "      <td>1200.000000</td>\n",
       "      <td>1185.869995</td>\n",
       "      <td>1188.810059</td>\n",
       "      <td>1198.849976</td>\n",
       "      <td>1520700</td>\n",
       "      <td>1198.849976</td>\n",
       "    </tr>\n",
       "    <tr>\n",
       "      <th>2019-03-20</th>\n",
       "      <td>1227.140015</td>\n",
       "      <td>1196.170044</td>\n",
       "      <td>1197.349976</td>\n",
       "      <td>1223.969971</td>\n",
       "      <td>2227400</td>\n",
       "      <td>1223.969971</td>\n",
       "    </tr>\n",
       "    <tr>\n",
       "      <th>2019-03-21</th>\n",
       "      <td>1231.790039</td>\n",
       "      <td>1213.150024</td>\n",
       "      <td>1216.000000</td>\n",
       "      <td>1231.540039</td>\n",
       "      <td>1204000</td>\n",
       "      <td>1231.540039</td>\n",
       "    </tr>\n",
       "    <tr>\n",
       "      <th>2019-03-22</th>\n",
       "      <td>1230.000000</td>\n",
       "      <td>1202.824951</td>\n",
       "      <td>1226.319946</td>\n",
       "      <td>1205.500000</td>\n",
       "      <td>1714200</td>\n",
       "      <td>1205.500000</td>\n",
       "    </tr>\n",
       "    <tr>\n",
       "      <th>2019-03-25</th>\n",
       "      <td>1206.397949</td>\n",
       "      <td>1187.040039</td>\n",
       "      <td>1196.930054</td>\n",
       "      <td>1193.000000</td>\n",
       "      <td>1496800</td>\n",
       "      <td>1193.000000</td>\n",
       "    </tr>\n",
       "    <tr>\n",
       "      <th>2019-03-26</th>\n",
       "      <td>1202.829956</td>\n",
       "      <td>1176.719971</td>\n",
       "      <td>1198.530029</td>\n",
       "      <td>1184.619995</td>\n",
       "      <td>1901200</td>\n",
       "      <td>1184.619995</td>\n",
       "    </tr>\n",
       "    <tr>\n",
       "      <th>2019-03-27</th>\n",
       "      <td>1187.558960</td>\n",
       "      <td>1159.369995</td>\n",
       "      <td>1185.500000</td>\n",
       "      <td>1173.020020</td>\n",
       "      <td>1400200</td>\n",
       "      <td>1173.020020</td>\n",
       "    </tr>\n",
       "    <tr>\n",
       "      <th>2019-03-28</th>\n",
       "      <td>1171.564941</td>\n",
       "      <td>1159.431030</td>\n",
       "      <td>1171.540039</td>\n",
       "      <td>1168.489990</td>\n",
       "      <td>1012400</td>\n",
       "      <td>1168.489990</td>\n",
       "    </tr>\n",
       "    <tr>\n",
       "      <th>2019-03-29</th>\n",
       "      <td>1178.989990</td>\n",
       "      <td>1162.880005</td>\n",
       "      <td>1174.900024</td>\n",
       "      <td>1173.310059</td>\n",
       "      <td>1269900</td>\n",
       "      <td>1173.310059</td>\n",
       "    </tr>\n",
       "    <tr>\n",
       "      <th>2019-04-01</th>\n",
       "      <td>1196.660034</td>\n",
       "      <td>1182.000000</td>\n",
       "      <td>1184.099976</td>\n",
       "      <td>1194.430054</td>\n",
       "      <td>1252500</td>\n",
       "      <td>1194.430054</td>\n",
       "    </tr>\n",
       "    <tr>\n",
       "      <th>2019-04-02</th>\n",
       "      <td>1201.349976</td>\n",
       "      <td>1185.709961</td>\n",
       "      <td>1195.319946</td>\n",
       "      <td>1200.489990</td>\n",
       "      <td>827900</td>\n",
       "      <td>1200.489990</td>\n",
       "    </tr>\n",
       "    <tr>\n",
       "      <th>2019-04-03</th>\n",
       "      <td>1216.300049</td>\n",
       "      <td>1200.500000</td>\n",
       "      <td>1207.479980</td>\n",
       "      <td>1205.920044</td>\n",
       "      <td>1017800</td>\n",
       "      <td>1205.920044</td>\n",
       "    </tr>\n",
       "    <tr>\n",
       "      <th>2019-04-04</th>\n",
       "      <td>1215.670044</td>\n",
       "      <td>1204.130005</td>\n",
       "      <td>1205.939941</td>\n",
       "      <td>1215.000000</td>\n",
       "      <td>950000</td>\n",
       "      <td>1215.000000</td>\n",
       "    </tr>\n",
       "    <tr>\n",
       "      <th>2019-04-05</th>\n",
       "      <td>1216.219971</td>\n",
       "      <td>1205.030029</td>\n",
       "      <td>1214.989990</td>\n",
       "      <td>1207.150024</td>\n",
       "      <td>907200</td>\n",
       "      <td>1207.150024</td>\n",
       "    </tr>\n",
       "    <tr>\n",
       "      <th>2019-04-08</th>\n",
       "      <td>1208.689941</td>\n",
       "      <td>1199.859985</td>\n",
       "      <td>1207.890015</td>\n",
       "      <td>1203.839966</td>\n",
       "      <td>860200</td>\n",
       "      <td>1203.839966</td>\n",
       "    </tr>\n",
       "    <tr>\n",
       "      <th>2019-04-09</th>\n",
       "      <td>1202.290039</td>\n",
       "      <td>1193.079956</td>\n",
       "      <td>1196.000000</td>\n",
       "      <td>1197.250000</td>\n",
       "      <td>876400</td>\n",
       "      <td>1197.250000</td>\n",
       "    </tr>\n",
       "    <tr>\n",
       "      <th>2019-04-10</th>\n",
       "      <td>1203.785034</td>\n",
       "      <td>1196.435059</td>\n",
       "      <td>1200.680054</td>\n",
       "      <td>1202.160034</td>\n",
       "      <td>724600</td>\n",
       "      <td>1202.160034</td>\n",
       "    </tr>\n",
       "    <tr>\n",
       "      <th>2019-04-11</th>\n",
       "      <td>1207.959961</td>\n",
       "      <td>1200.130005</td>\n",
       "      <td>1203.959961</td>\n",
       "      <td>1204.619995</td>\n",
       "      <td>710200</td>\n",
       "      <td>1204.619995</td>\n",
       "    </tr>\n",
       "    <tr>\n",
       "      <th>2019-04-12</th>\n",
       "      <td>1218.349976</td>\n",
       "      <td>1208.109985</td>\n",
       "      <td>1210.000000</td>\n",
       "      <td>1217.869995</td>\n",
       "      <td>933400</td>\n",
       "      <td>1217.869995</td>\n",
       "    </tr>\n",
       "    <tr>\n",
       "      <th>2019-04-15</th>\n",
       "      <td>1224.199951</td>\n",
       "      <td>1209.109985</td>\n",
       "      <td>1218.000000</td>\n",
       "      <td>1221.099976</td>\n",
       "      <td>1187400</td>\n",
       "      <td>1221.099976</td>\n",
       "    </tr>\n",
       "    <tr>\n",
       "      <th>2019-04-16</th>\n",
       "      <td>1230.819946</td>\n",
       "      <td>1220.119995</td>\n",
       "      <td>1225.000000</td>\n",
       "      <td>1227.130005</td>\n",
       "      <td>856300</td>\n",
       "      <td>1227.130005</td>\n",
       "    </tr>\n",
       "    <tr>\n",
       "      <th>2019-04-17</th>\n",
       "      <td>1240.560059</td>\n",
       "      <td>1227.819946</td>\n",
       "      <td>1233.000000</td>\n",
       "      <td>1236.339966</td>\n",
       "      <td>1221900</td>\n",
       "      <td>1236.339966</td>\n",
       "    </tr>\n",
       "    <tr>\n",
       "      <th>2019-04-18</th>\n",
       "      <td>1242.000000</td>\n",
       "      <td>1234.609985</td>\n",
       "      <td>1239.180054</td>\n",
       "      <td>1236.369995</td>\n",
       "      <td>1331800</td>\n",
       "      <td>1236.369995</td>\n",
       "    </tr>\n",
       "    <tr>\n",
       "      <th>2019-04-22</th>\n",
       "      <td>1249.089966</td>\n",
       "      <td>1228.310059</td>\n",
       "      <td>1235.989990</td>\n",
       "      <td>1248.839966</td>\n",
       "      <td>807300</td>\n",
       "      <td>1248.839966</td>\n",
       "    </tr>\n",
       "    <tr>\n",
       "      <th>2019-04-23</th>\n",
       "      <td>1269.000000</td>\n",
       "      <td>1246.380005</td>\n",
       "      <td>1250.689941</td>\n",
       "      <td>1264.550049</td>\n",
       "      <td>1319900</td>\n",
       "      <td>1264.550049</td>\n",
       "    </tr>\n",
       "    <tr>\n",
       "      <th>2019-04-24</th>\n",
       "      <td>1268.010010</td>\n",
       "      <td>1255.000000</td>\n",
       "      <td>1264.119995</td>\n",
       "      <td>1256.000000</td>\n",
       "      <td>1018800</td>\n",
       "      <td>1256.000000</td>\n",
       "    </tr>\n",
       "    <tr>\n",
       "      <th>2019-04-25</th>\n",
       "      <td>1267.407959</td>\n",
       "      <td>1252.030029</td>\n",
       "      <td>1264.770020</td>\n",
       "      <td>1263.449951</td>\n",
       "      <td>1107300</td>\n",
       "      <td>1263.449951</td>\n",
       "    </tr>\n",
       "    <tr>\n",
       "      <th>2019-04-26</th>\n",
       "      <td>1273.069946</td>\n",
       "      <td>1260.319946</td>\n",
       "      <td>1269.000000</td>\n",
       "      <td>1272.180054</td>\n",
       "      <td>1241400</td>\n",
       "      <td>1272.180054</td>\n",
       "    </tr>\n",
       "    <tr>\n",
       "      <th>2019-04-29</th>\n",
       "      <td>1289.270020</td>\n",
       "      <td>1266.295044</td>\n",
       "      <td>1274.000000</td>\n",
       "      <td>1287.579956</td>\n",
       "      <td>2499400</td>\n",
       "      <td>1287.579956</td>\n",
       "    </tr>\n",
       "    <tr>\n",
       "      <th>2019-04-30</th>\n",
       "      <td>1192.810059</td>\n",
       "      <td>1175.000000</td>\n",
       "      <td>1185.000000</td>\n",
       "      <td>1188.479980</td>\n",
       "      <td>6207000</td>\n",
       "      <td>1188.479980</td>\n",
       "    </tr>\n",
       "    <tr>\n",
       "      <th>2019-05-01</th>\n",
       "      <td>1188.050049</td>\n",
       "      <td>1167.180054</td>\n",
       "      <td>1188.050049</td>\n",
       "      <td>1168.079956</td>\n",
       "      <td>2639200</td>\n",
       "      <td>1168.079956</td>\n",
       "    </tr>\n",
       "  </tbody>\n",
       "</table>\n",
       "</div>"
      ],
      "text/plain": [
       "                   High          Low         Open        Close   Volume  \\\n",
       "Date                                                                      \n",
       "2019-03-01  1142.969971  1124.750000  1124.900024  1140.989990  1450300   \n",
       "2019-03-04  1158.280029  1130.689941  1146.989990  1147.800049  1446000   \n",
       "2019-03-05  1169.609985  1146.194946  1150.060059  1162.030029  1443200   \n",
       "2019-03-06  1167.566040  1155.489990  1162.489990  1157.859985  1099300   \n",
       "2019-03-07  1156.755005  1134.910034  1155.719971  1143.300049  1166100   \n",
       "2019-03-08  1147.079956  1123.300049  1126.729980  1142.319946  1212400   \n",
       "2019-03-11  1176.189941  1144.449951  1144.449951  1175.760010  1719200   \n",
       "2019-03-12  1200.000000  1178.260010  1178.260010  1193.199951  2013100   \n",
       "2019-03-13  1200.930054  1191.939941  1200.645020  1193.319946  1435900   \n",
       "2019-03-14  1197.880005  1184.479980  1194.510010  1185.550049  1172800   \n",
       "2019-03-15  1196.569946  1182.609985  1193.380005  1184.459961  2461800   \n",
       "2019-03-18  1190.000000  1177.421021  1183.300049  1184.260010  1292600   \n",
       "2019-03-19  1200.000000  1185.869995  1188.810059  1198.849976  1520700   \n",
       "2019-03-20  1227.140015  1196.170044  1197.349976  1223.969971  2227400   \n",
       "2019-03-21  1231.790039  1213.150024  1216.000000  1231.540039  1204000   \n",
       "2019-03-22  1230.000000  1202.824951  1226.319946  1205.500000  1714200   \n",
       "2019-03-25  1206.397949  1187.040039  1196.930054  1193.000000  1496800   \n",
       "2019-03-26  1202.829956  1176.719971  1198.530029  1184.619995  1901200   \n",
       "2019-03-27  1187.558960  1159.369995  1185.500000  1173.020020  1400200   \n",
       "2019-03-28  1171.564941  1159.431030  1171.540039  1168.489990  1012400   \n",
       "2019-03-29  1178.989990  1162.880005  1174.900024  1173.310059  1269900   \n",
       "2019-04-01  1196.660034  1182.000000  1184.099976  1194.430054  1252500   \n",
       "2019-04-02  1201.349976  1185.709961  1195.319946  1200.489990   827900   \n",
       "2019-04-03  1216.300049  1200.500000  1207.479980  1205.920044  1017800   \n",
       "2019-04-04  1215.670044  1204.130005  1205.939941  1215.000000   950000   \n",
       "2019-04-05  1216.219971  1205.030029  1214.989990  1207.150024   907200   \n",
       "2019-04-08  1208.689941  1199.859985  1207.890015  1203.839966   860200   \n",
       "2019-04-09  1202.290039  1193.079956  1196.000000  1197.250000   876400   \n",
       "2019-04-10  1203.785034  1196.435059  1200.680054  1202.160034   724600   \n",
       "2019-04-11  1207.959961  1200.130005  1203.959961  1204.619995   710200   \n",
       "2019-04-12  1218.349976  1208.109985  1210.000000  1217.869995   933400   \n",
       "2019-04-15  1224.199951  1209.109985  1218.000000  1221.099976  1187400   \n",
       "2019-04-16  1230.819946  1220.119995  1225.000000  1227.130005   856300   \n",
       "2019-04-17  1240.560059  1227.819946  1233.000000  1236.339966  1221900   \n",
       "2019-04-18  1242.000000  1234.609985  1239.180054  1236.369995  1331800   \n",
       "2019-04-22  1249.089966  1228.310059  1235.989990  1248.839966   807300   \n",
       "2019-04-23  1269.000000  1246.380005  1250.689941  1264.550049  1319900   \n",
       "2019-04-24  1268.010010  1255.000000  1264.119995  1256.000000  1018800   \n",
       "2019-04-25  1267.407959  1252.030029  1264.770020  1263.449951  1107300   \n",
       "2019-04-26  1273.069946  1260.319946  1269.000000  1272.180054  1241400   \n",
       "2019-04-29  1289.270020  1266.295044  1274.000000  1287.579956  2499400   \n",
       "2019-04-30  1192.810059  1175.000000  1185.000000  1188.479980  6207000   \n",
       "2019-05-01  1188.050049  1167.180054  1188.050049  1168.079956  2639200   \n",
       "\n",
       "              Adj Close  \n",
       "Date                     \n",
       "2019-03-01  1140.989990  \n",
       "2019-03-04  1147.800049  \n",
       "2019-03-05  1162.030029  \n",
       "2019-03-06  1157.859985  \n",
       "2019-03-07  1143.300049  \n",
       "2019-03-08  1142.319946  \n",
       "2019-03-11  1175.760010  \n",
       "2019-03-12  1193.199951  \n",
       "2019-03-13  1193.319946  \n",
       "2019-03-14  1185.550049  \n",
       "2019-03-15  1184.459961  \n",
       "2019-03-18  1184.260010  \n",
       "2019-03-19  1198.849976  \n",
       "2019-03-20  1223.969971  \n",
       "2019-03-21  1231.540039  \n",
       "2019-03-22  1205.500000  \n",
       "2019-03-25  1193.000000  \n",
       "2019-03-26  1184.619995  \n",
       "2019-03-27  1173.020020  \n",
       "2019-03-28  1168.489990  \n",
       "2019-03-29  1173.310059  \n",
       "2019-04-01  1194.430054  \n",
       "2019-04-02  1200.489990  \n",
       "2019-04-03  1205.920044  \n",
       "2019-04-04  1215.000000  \n",
       "2019-04-05  1207.150024  \n",
       "2019-04-08  1203.839966  \n",
       "2019-04-09  1197.250000  \n",
       "2019-04-10  1202.160034  \n",
       "2019-04-11  1204.619995  \n",
       "2019-04-12  1217.869995  \n",
       "2019-04-15  1221.099976  \n",
       "2019-04-16  1227.130005  \n",
       "2019-04-17  1236.339966  \n",
       "2019-04-18  1236.369995  \n",
       "2019-04-22  1248.839966  \n",
       "2019-04-23  1264.550049  \n",
       "2019-04-24  1256.000000  \n",
       "2019-04-25  1263.449951  \n",
       "2019-04-26  1272.180054  \n",
       "2019-04-29  1287.579956  \n",
       "2019-04-30  1188.479980  \n",
       "2019-05-01  1168.079956  "
      ]
     },
     "execution_count": 20,
     "metadata": {},
     "output_type": "execute_result"
    }
   ],
   "source": [
    "stock_data_google"
   ]
  },
  {
   "cell_type": "code",
   "execution_count": 22,
   "metadata": {
    "ExecuteTime": {
     "end_time": "2019-05-16T23:19:52.958086Z",
     "start_time": "2019-05-16T23:19:52.952089Z"
    }
   },
   "outputs": [],
   "source": [
    "np_google_close = np.array(stock_data_google.loc[:,'Close'])"
   ]
  },
  {
   "cell_type": "code",
   "execution_count": 23,
   "metadata": {
    "ExecuteTime": {
     "end_time": "2019-05-16T23:19:55.856611Z",
     "start_time": "2019-05-16T23:19:55.849615Z"
    }
   },
   "outputs": [
    {
     "data": {
      "text/plain": [
       "array([1140.98999023, 1147.80004883, 1162.0300293 , 1157.85998535,\n",
       "       1143.30004883, 1142.31994629, 1175.76000977, 1193.19995117,\n",
       "       1193.31994629, 1185.55004883, 1184.45996094, 1184.26000977,\n",
       "       1198.84997559, 1223.9699707 , 1231.54003906, 1205.5       ,\n",
       "       1193.        , 1184.61999512, 1173.02001953, 1168.48999023,\n",
       "       1173.31005859, 1194.43005371, 1200.48999023, 1205.92004395,\n",
       "       1215.        , 1207.15002441, 1203.83996582, 1197.25      ,\n",
       "       1202.16003418, 1204.61999512, 1217.86999512, 1221.09997559,\n",
       "       1227.13000488, 1236.33996582, 1236.36999512, 1248.83996582,\n",
       "       1264.55004883, 1256.        , 1263.44995117, 1272.18005371,\n",
       "       1287.57995605, 1188.47998047, 1168.07995605])"
      ]
     },
     "execution_count": 23,
     "metadata": {},
     "output_type": "execute_result"
    }
   ],
   "source": [
    "np_google_close"
   ]
  },
  {
   "cell_type": "code",
   "execution_count": null,
   "metadata": {
    "ExecuteTime": {
     "end_time": "2019-02-19T09:56:31.831211Z",
     "start_time": "2019-02-19T09:56:31.823214Z"
    }
   },
   "outputs": [],
   "source": [
    "#-- np_google_close\n",
    "\"\"\"np.array([1140.98999023, 1147.80004883, 1162.0300293 , 1157.85998535,\n",
    "       1143.30004883, 1142.31994629, 1175.76000977, 1193.19995117,\n",
    "       1193.31994629, 1185.55004883, 1184.45996094, 1184.26000977,\n",
    "       1198.84997559, 1223.9699707 , 1231.54003906, 1205.5       ,\n",
    "       1193.        , 1184.61999512, 1173.02001953, 1168.48999023,\n",
    "       1173.31005859, 1194.43005371, 1200.48999023, 1205.92004395,\n",
    "       1215.        , 1207.15002441, 1203.83996582, 1197.25      ,\n",
    "       1202.16003418, 1204.61999512, 1217.86999512, 1221.09997559,\n",
    "       1227.13000488, 1236.33996582, 1236.36999512, 1248.83996582,\n",
    "       1264.55004883, 1256.        , 1263.44995117, 1272.18005371,\n",
    "       1287.57995605, 1188.47998047, 1168.07995605])"
   ]
  },
  {
   "cell_type": "code",
   "execution_count": 24,
   "metadata": {
    "ExecuteTime": {
     "end_time": "2019-05-16T23:21:34.967198Z",
     "start_time": "2019-05-16T23:21:34.960202Z"
    }
   },
   "outputs": [],
   "source": [
    "np_google_2d = np.array(stock_data_google.loc[:,['Close','Volume']])"
   ]
  },
  {
   "cell_type": "code",
   "execution_count": 25,
   "metadata": {
    "ExecuteTime": {
     "end_time": "2019-05-16T23:21:37.047274Z",
     "start_time": "2019-05-16T23:21:37.040279Z"
    }
   },
   "outputs": [
    {
     "data": {
      "text/plain": [
       "array([[1.14098999e+03, 1.45030000e+06],\n",
       "       [1.14780005e+03, 1.44600000e+06],\n",
       "       [1.16203003e+03, 1.44320000e+06],\n",
       "       [1.15785999e+03, 1.09930000e+06],\n",
       "       [1.14330005e+03, 1.16610000e+06],\n",
       "       [1.14231995e+03, 1.21240000e+06],\n",
       "       [1.17576001e+03, 1.71920000e+06],\n",
       "       [1.19319995e+03, 2.01310000e+06],\n",
       "       [1.19331995e+03, 1.43590000e+06],\n",
       "       [1.18555005e+03, 1.17280000e+06],\n",
       "       [1.18445996e+03, 2.46180000e+06],\n",
       "       [1.18426001e+03, 1.29260000e+06],\n",
       "       [1.19884998e+03, 1.52070000e+06],\n",
       "       [1.22396997e+03, 2.22740000e+06],\n",
       "       [1.23154004e+03, 1.20400000e+06],\n",
       "       [1.20550000e+03, 1.71420000e+06],\n",
       "       [1.19300000e+03, 1.49680000e+06],\n",
       "       [1.18462000e+03, 1.90120000e+06],\n",
       "       [1.17302002e+03, 1.40020000e+06],\n",
       "       [1.16848999e+03, 1.01240000e+06],\n",
       "       [1.17331006e+03, 1.26990000e+06],\n",
       "       [1.19443005e+03, 1.25250000e+06],\n",
       "       [1.20048999e+03, 8.27900000e+05],\n",
       "       [1.20592004e+03, 1.01780000e+06],\n",
       "       [1.21500000e+03, 9.50000000e+05],\n",
       "       [1.20715002e+03, 9.07200000e+05],\n",
       "       [1.20383997e+03, 8.60200000e+05],\n",
       "       [1.19725000e+03, 8.76400000e+05],\n",
       "       [1.20216003e+03, 7.24600000e+05],\n",
       "       [1.20462000e+03, 7.10200000e+05],\n",
       "       [1.21787000e+03, 9.33400000e+05],\n",
       "       [1.22109998e+03, 1.18740000e+06],\n",
       "       [1.22713000e+03, 8.56300000e+05],\n",
       "       [1.23633997e+03, 1.22190000e+06],\n",
       "       [1.23637000e+03, 1.33180000e+06],\n",
       "       [1.24883997e+03, 8.07300000e+05],\n",
       "       [1.26455005e+03, 1.31990000e+06],\n",
       "       [1.25600000e+03, 1.01880000e+06],\n",
       "       [1.26344995e+03, 1.10730000e+06],\n",
       "       [1.27218005e+03, 1.24140000e+06],\n",
       "       [1.28757996e+03, 2.49940000e+06],\n",
       "       [1.18847998e+03, 6.20700000e+06],\n",
       "       [1.16807996e+03, 2.63920000e+06]])"
      ]
     },
     "execution_count": 25,
     "metadata": {},
     "output_type": "execute_result"
    }
   ],
   "source": [
    "np_google_2d"
   ]
  },
  {
   "cell_type": "code",
   "execution_count": null,
   "metadata": {
    "ExecuteTime": {
     "end_time": "2019-02-19T09:56:15.998324Z",
     "start_time": "2019-02-19T09:56:15.984333Z"
    }
   },
   "outputs": [],
   "source": [
    "#-- np_google_2d\n",
    "\"\"\"np.array([[1.14098999e+03, 1.45030000e+06],\n",
    "       [1.14780005e+03, 1.44600000e+06],\n",
    "       [1.16203003e+03, 1.44320000e+06],\n",
    "       [1.15785999e+03, 1.09930000e+06],\n",
    "       [1.14330005e+03, 1.16610000e+06],\n",
    "       [1.14231995e+03, 1.21240000e+06],\n",
    "       [1.17576001e+03, 1.71920000e+06],\n",
    "       [1.19319995e+03, 2.01310000e+06],\n",
    "       [1.19331995e+03, 1.43590000e+06],\n",
    "       [1.18555005e+03, 1.17280000e+06],\n",
    "       [1.18445996e+03, 2.46180000e+06],\n",
    "       [1.18426001e+03, 1.29260000e+06],\n",
    "       [1.19884998e+03, 1.52070000e+06],\n",
    "       [1.22396997e+03, 2.22740000e+06],\n",
    "       [1.23154004e+03, 1.20400000e+06],\n",
    "       [1.20550000e+03, 1.71420000e+06],\n",
    "       [1.19300000e+03, 1.49680000e+06],\n",
    "       [1.18462000e+03, 1.90120000e+06],\n",
    "       [1.17302002e+03, 1.40020000e+06],\n",
    "       [1.16848999e+03, 1.01240000e+06],\n",
    "       [1.17331006e+03, 1.26990000e+06],\n",
    "       [1.19443005e+03, 1.25250000e+06],\n",
    "       [1.20048999e+03, 8.27900000e+05],\n",
    "       [1.20592004e+03, 1.01780000e+06],\n",
    "       [1.21500000e+03, 9.50000000e+05],\n",
    "       [1.20715002e+03, 9.07200000e+05],\n",
    "       [1.20383997e+03, 8.60200000e+05],\n",
    "       [1.19725000e+03, 8.76400000e+05],\n",
    "       [1.20216003e+03, 7.24600000e+05],\n",
    "       [1.20462000e+03, 7.10200000e+05],\n",
    "       [1.21787000e+03, 9.33400000e+05],\n",
    "       [1.22109998e+03, 1.18740000e+06],\n",
    "       [1.22713000e+03, 8.56300000e+05],\n",
    "       [1.23633997e+03, 1.22190000e+06],\n",
    "       [1.23637000e+03, 1.33180000e+06],\n",
    "       [1.24883997e+03, 8.07300000e+05],\n",
    "       [1.26455005e+03, 1.31990000e+06],\n",
    "       [1.25600000e+03, 1.01880000e+06],\n",
    "       [1.26344995e+03, 1.10730000e+06],\n",
    "       [1.27218005e+03, 1.24140000e+06],\n",
    "       [1.28757996e+03, 2.49940000e+06],\n",
    "       [1.18847998e+03, 6.20700000e+06],\n",
    "       [1.16807996e+03, 2.63920000e+06]])"
   ]
  },
  {
   "cell_type": "code",
   "execution_count": 27,
   "metadata": {
    "ExecuteTime": {
     "end_time": "2019-05-16T23:22:34.908550Z",
     "start_time": "2019-05-16T23:22:34.900556Z"
    }
   },
   "outputs": [],
   "source": [
    "google = np.array(stock_data_google.loc[:,['Close', 'Volume', 'Open']])"
   ]
  },
  {
   "cell_type": "code",
   "execution_count": null,
   "metadata": {
    "ExecuteTime": {
     "end_time": "2019-02-19T09:55:27.165770Z",
     "start_time": "2019-02-19T09:55:27.152781Z"
    }
   },
   "outputs": [],
   "source": [
    "#-- google\n",
    "\"\"\"np.array([[1.14098999e+03, 1.45030000e+06, 1.12490002e+03],\n",
    "       [1.14780005e+03, 1.44600000e+06, 1.14698999e+03],\n",
    "       [1.16203003e+03, 1.44320000e+06, 1.15006006e+03],\n",
    "       [1.15785999e+03, 1.09930000e+06, 1.16248999e+03],\n",
    "       [1.14330005e+03, 1.16610000e+06, 1.15571997e+03],\n",
    "       [1.14231995e+03, 1.21240000e+06, 1.12672998e+03],\n",
    "       [1.17576001e+03, 1.71920000e+06, 1.14444995e+03],\n",
    "       [1.19319995e+03, 2.01310000e+06, 1.17826001e+03],\n",
    "       [1.19331995e+03, 1.43590000e+06, 1.20064502e+03],\n",
    "       [1.18555005e+03, 1.17280000e+06, 1.19451001e+03],\n",
    "       [1.18445996e+03, 2.46180000e+06, 1.19338000e+03],\n",
    "       [1.18426001e+03, 1.29260000e+06, 1.18330005e+03],\n",
    "       [1.19884998e+03, 1.52070000e+06, 1.18881006e+03],\n",
    "       [1.22396997e+03, 2.22740000e+06, 1.19734998e+03],\n",
    "       [1.23154004e+03, 1.20400000e+06, 1.21600000e+03],\n",
    "       [1.20550000e+03, 1.71420000e+06, 1.22631995e+03],\n",
    "       [1.19300000e+03, 1.49680000e+06, 1.19693005e+03],\n",
    "       [1.18462000e+03, 1.90120000e+06, 1.19853003e+03],\n",
    "       [1.17302002e+03, 1.40020000e+06, 1.18550000e+03],\n",
    "       [1.16848999e+03, 1.01240000e+06, 1.17154004e+03],\n",
    "       [1.17331006e+03, 1.26990000e+06, 1.17490002e+03],\n",
    "       [1.19443005e+03, 1.25250000e+06, 1.18409998e+03],\n",
    "       [1.20048999e+03, 8.27900000e+05, 1.19531995e+03],\n",
    "       [1.20592004e+03, 1.01780000e+06, 1.20747998e+03],\n",
    "       [1.21500000e+03, 9.50000000e+05, 1.20593994e+03],\n",
    "       [1.20715002e+03, 9.07200000e+05, 1.21498999e+03],\n",
    "       [1.20383997e+03, 8.60200000e+05, 1.20789001e+03],\n",
    "       [1.19725000e+03, 8.76400000e+05, 1.19600000e+03],\n",
    "       [1.20216003e+03, 7.24600000e+05, 1.20068005e+03],\n",
    "       [1.20462000e+03, 7.10200000e+05, 1.20395996e+03],\n",
    "       [1.21787000e+03, 9.33400000e+05, 1.21000000e+03],\n",
    "       [1.22109998e+03, 1.18740000e+06, 1.21800000e+03],\n",
    "       [1.22713000e+03, 8.56300000e+05, 1.22500000e+03],\n",
    "       [1.23633997e+03, 1.22190000e+06, 1.23300000e+03],\n",
    "       [1.23637000e+03, 1.33180000e+06, 1.23918005e+03],\n",
    "       [1.24883997e+03, 8.07300000e+05, 1.23598999e+03],\n",
    "       [1.26455005e+03, 1.31990000e+06, 1.25068994e+03],\n",
    "       [1.25600000e+03, 1.01880000e+06, 1.26412000e+03],\n",
    "       [1.26344995e+03, 1.10730000e+06, 1.26477002e+03],\n",
    "       [1.27218005e+03, 1.24140000e+06, 1.26900000e+03],\n",
    "       [1.28757996e+03, 2.49940000e+06, 1.27400000e+03],\n",
    "       [1.18847998e+03, 6.20700000e+06, 1.18500000e+03],\n",
    "       [1.16807996e+03, 2.63920000e+06, 1.18805005e+03]])"
   ]
  },
  {
   "cell_type": "markdown",
   "metadata": {},
   "source": [
    "### Ferramentas legais\n",
    "**Dimensões (_rank_) de um _array_:**\n",
    "* Calendário: 2 dimensões\n",
    "* Gasto com alimentação todo mês: 1 dimensão\n",
    "* Jogo da velha ou batalha naval: 2 dimensões"
   ]
  },
  {
   "cell_type": "code",
   "execution_count": 28,
   "metadata": {
    "ExecuteTime": {
     "end_time": "2019-05-16T23:25:31.097044Z",
     "start_time": "2019-05-16T23:25:31.091047Z"
    }
   },
   "outputs": [
    {
     "data": {
      "text/plain": [
       "1"
      ]
     },
     "execution_count": 28,
     "metadata": {},
     "output_type": "execute_result"
    }
   ],
   "source": [
    "np_google_close.ndim"
   ]
  },
  {
   "cell_type": "code",
   "execution_count": 29,
   "metadata": {
    "ExecuteTime": {
     "end_time": "2019-05-16T23:26:02.494908Z",
     "start_time": "2019-05-16T23:26:02.487911Z"
    },
    "scrolled": true
   },
   "outputs": [
    {
     "data": {
      "text/plain": [
       "2"
      ]
     },
     "execution_count": 29,
     "metadata": {},
     "output_type": "execute_result"
    }
   ],
   "source": [
    "np_google_2d.ndim"
   ]
  },
  {
   "cell_type": "markdown",
   "metadata": {},
   "source": [
    "**Formato (_shape_) do _array_:**\n",
    "* Calendário: 5 x 7 (mas varia)\n",
    "* Gasto com alimentação todo mês: 12\n",
    "* Jogo da velha: 3 x 3\n",
    "* Sudoku: 9 x 9"
   ]
  },
  {
   "cell_type": "code",
   "execution_count": 30,
   "metadata": {
    "ExecuteTime": {
     "end_time": "2019-05-16T23:26:20.521694Z",
     "start_time": "2019-05-16T23:26:20.516696Z"
    }
   },
   "outputs": [
    {
     "data": {
      "text/plain": [
       "(43,)"
      ]
     },
     "execution_count": 30,
     "metadata": {},
     "output_type": "execute_result"
    }
   ],
   "source": [
    "np_google_close.shape"
   ]
  },
  {
   "cell_type": "code",
   "execution_count": 31,
   "metadata": {
    "ExecuteTime": {
     "end_time": "2019-05-16T23:26:30.411108Z",
     "start_time": "2019-05-16T23:26:30.406116Z"
    }
   },
   "outputs": [
    {
     "data": {
      "text/plain": [
       "(43, 2)"
      ]
     },
     "execution_count": 31,
     "metadata": {},
     "output_type": "execute_result"
    }
   ],
   "source": [
    "np_google_2d.shape"
   ]
  },
  {
   "cell_type": "markdown",
   "metadata": {},
   "source": [
    "### Jogo rápido:\n",
    "Quantas e quais são as dimensões desses _arrays_?"
   ]
  },
  {
   "cell_type": "code",
   "execution_count": 32,
   "metadata": {
    "ExecuteTime": {
     "end_time": "2019-05-16T23:30:34.197434Z",
     "start_time": "2019-05-16T23:30:34.193439Z"
    }
   },
   "outputs": [],
   "source": [
    "teste1 = np.array([[ 0.4519243 ,  0.17657074,  0.82173731,  0.73718558],\n",
    "          [ 0.37762179,  0.09939027,  0.84810815,  0.57109009]])"
   ]
  },
  {
   "cell_type": "code",
   "execution_count": 33,
   "metadata": {
    "ExecuteTime": {
     "end_time": "2019-05-16T23:30:53.395229Z",
     "start_time": "2019-05-16T23:30:53.390233Z"
    }
   },
   "outputs": [
    {
     "data": {
      "text/plain": [
       "2"
      ]
     },
     "execution_count": 33,
     "metadata": {},
     "output_type": "execute_result"
    }
   ],
   "source": [
    "#-- complete com o número de dimensões\n",
    "teste1.ndim"
   ]
  },
  {
   "cell_type": "code",
   "execution_count": 34,
   "metadata": {
    "ExecuteTime": {
     "end_time": "2019-05-16T23:31:09.545094Z",
     "start_time": "2019-05-16T23:31:09.541099Z"
    }
   },
   "outputs": [],
   "source": [
    "teste2 = np.array([9, 1, 8, 5, 0, 3])"
   ]
  },
  {
   "cell_type": "code",
   "execution_count": 38,
   "metadata": {
    "ExecuteTime": {
     "end_time": "2019-05-16T23:34:54.816869Z",
     "start_time": "2019-05-16T23:34:54.810872Z"
    }
   },
   "outputs": [
    {
     "data": {
      "text/plain": [
       "(6,)"
      ]
     },
     "execution_count": 38,
     "metadata": {},
     "output_type": "execute_result"
    }
   ],
   "source": [
    "#-- complete com o número de dimensões\n",
    "teste2.shape"
   ]
  },
  {
   "cell_type": "code",
   "execution_count": 40,
   "metadata": {
    "ExecuteTime": {
     "end_time": "2019-05-16T23:35:37.038219Z",
     "start_time": "2019-05-16T23:35:36.979252Z"
    }
   },
   "outputs": [
    {
     "data": {
      "text/html": [
       "<div>\n",
       "<style scoped>\n",
       "    .dataframe tbody tr th:only-of-type {\n",
       "        vertical-align: middle;\n",
       "    }\n",
       "\n",
       "    .dataframe tbody tr th {\n",
       "        vertical-align: top;\n",
       "    }\n",
       "\n",
       "    .dataframe thead th {\n",
       "        text-align: right;\n",
       "    }\n",
       "</style>\n",
       "<table border=\"1\" class=\"dataframe\">\n",
       "  <thead>\n",
       "    <tr style=\"text-align: right;\">\n",
       "      <th></th>\n",
       "      <th>0</th>\n",
       "    </tr>\n",
       "  </thead>\n",
       "  <tbody>\n",
       "    <tr>\n",
       "      <th>0</th>\n",
       "      <td>9</td>\n",
       "    </tr>\n",
       "    <tr>\n",
       "      <th>1</th>\n",
       "      <td>1</td>\n",
       "    </tr>\n",
       "    <tr>\n",
       "      <th>2</th>\n",
       "      <td>8</td>\n",
       "    </tr>\n",
       "    <tr>\n",
       "      <th>3</th>\n",
       "      <td>5</td>\n",
       "    </tr>\n",
       "    <tr>\n",
       "      <th>4</th>\n",
       "      <td>0</td>\n",
       "    </tr>\n",
       "    <tr>\n",
       "      <th>5</th>\n",
       "      <td>3</td>\n",
       "    </tr>\n",
       "  </tbody>\n",
       "</table>\n",
       "</div>"
      ],
      "text/plain": [
       "   0\n",
       "0  9\n",
       "1  1\n",
       "2  8\n",
       "3  5\n",
       "4  0\n",
       "5  3"
      ]
     },
     "execution_count": 40,
     "metadata": {},
     "output_type": "execute_result"
    }
   ],
   "source": [
    "pd.DataFrame(teste2)"
   ]
  },
  {
   "cell_type": "code",
   "execution_count": 36,
   "metadata": {
    "ExecuteTime": {
     "end_time": "2019-05-16T23:31:20.285319Z",
     "start_time": "2019-05-16T23:31:20.280323Z"
    }
   },
   "outputs": [],
   "source": [
    "teste3 = np.array([[[ 0,  1,  2],\n",
    "           [ 3,  4,  5],\n",
    "           [ 6,  7,  8]],\n",
    "\n",
    "          [[ 9, 10, 11],\n",
    "           [12, 13, 14],\n",
    "           [15, 16, 17]],\n",
    "\n",
    "          [[18, 19, 20],\n",
    "           [21, 22, 23],\n",
    "           [24, 25, 26]]])"
   ]
  },
  {
   "cell_type": "code",
   "execution_count": 37,
   "metadata": {
    "ExecuteTime": {
     "end_time": "2019-05-16T23:31:27.525816Z",
     "start_time": "2019-05-16T23:31:27.519819Z"
    }
   },
   "outputs": [
    {
     "data": {
      "text/plain": [
       "3"
      ]
     },
     "execution_count": 37,
     "metadata": {},
     "output_type": "execute_result"
    }
   ],
   "source": [
    "#-- complete com o número de dimensões\n",
    "teste3.ndim"
   ]
  },
  {
   "cell_type": "markdown",
   "metadata": {},
   "source": [
    "### _Array_ ou _list_?"
   ]
  },
  {
   "cell_type": "code",
   "execution_count": null,
   "metadata": {
    "ExecuteTime": {
     "end_time": "2019-02-19T09:37:31.804007Z",
     "start_time": "2019-02-19T09:37:31.797992Z"
    }
   },
   "outputs": [],
   "source": [
    "\"\"\"\n",
    ".\n",
    ".\n",
    ".\n",
    ".\n",
    ".\n",
    ".\n",
    ".\n",
    ".\n",
    ".\n",
    ".\n",
    ".\n",
    ".\n",
    ".\n",
    ".\n",
    ".\n",
    ".\n",
    ".\n",
    ".\n",
    ".\n",
    ".\n",
    ".\n",
    ".\n",
    ".\n",
    ".\n",
    ".\n",
    ".\n",
    ".\n",
    ".\n",
    ".\n",
    ".\n",
    ".\n",
    ".\n",
    ".\n",
    ".\n",
    ".\n",
    ".\n",
    ".\n",
    ".\n",
    ".\n",
    ".\n",
    ".\n",
    ".\"\"\""
   ]
  },
  {
   "cell_type": "markdown",
   "metadata": {
    "ExecuteTime": {
     "end_time": "2019-02-19T09:36:20.170725Z",
     "start_time": "2019-02-19T09:36:20.163733Z"
    }
   },
   "source": [
    "Listas comportam objetos de diferentes tipos:"
   ]
  },
  {
   "cell_type": "code",
   "execution_count": 41,
   "metadata": {
    "ExecuteTime": {
     "end_time": "2019-05-16T23:44:17.142363Z",
     "start_time": "2019-05-16T23:44:17.137367Z"
    }
   },
   "outputs": [
    {
     "name": "stdout",
     "output_type": "stream",
     "text": [
      "1 <class 'int'>\n",
      "1.0 <class 'float'>\n",
      "one <class 'str'>\n",
      "<class 'int'> <class 'type'>\n"
     ]
    }
   ],
   "source": [
    "lst = [1, 1., 'one', int]\n",
    "\n",
    "for item in lst:\n",
    "    print(item, type(item))"
   ]
  },
  {
   "cell_type": "markdown",
   "metadata": {},
   "source": [
    "_Arrays_, por outro lado, só podem ter objetos de um mesmo tipo (normalmente numéricos):"
   ]
  },
  {
   "cell_type": "code",
   "execution_count": 42,
   "metadata": {
    "ExecuteTime": {
     "end_time": "2019-05-16T23:44:34.664923Z",
     "start_time": "2019-05-16T23:44:34.658928Z"
    }
   },
   "outputs": [
    {
     "data": {
      "text/plain": [
       "array(['1.0', '2', '3', '4', '5', 'seis'], dtype='<U32')"
      ]
     },
     "execution_count": 42,
     "metadata": {},
     "output_type": "execute_result"
    }
   ],
   "source": [
    "c = np.array([1.0, 2, 3, 4, 5, 'seis'])\n",
    "c"
   ]
  },
  {
   "cell_type": "code",
   "execution_count": 43,
   "metadata": {
    "ExecuteTime": {
     "end_time": "2019-05-16T23:45:44.977379Z",
     "start_time": "2019-05-16T23:45:44.971384Z"
    }
   },
   "outputs": [
    {
     "data": {
      "text/plain": [
       "dtype('<U32')"
      ]
     },
     "execution_count": 43,
     "metadata": {},
     "output_type": "execute_result"
    }
   ],
   "source": [
    "c.dtype"
   ]
  },
  {
   "cell_type": "markdown",
   "metadata": {},
   "source": [
    "NumPy tenta inferir qual é o tipo que você quer e converte todos pro mesmo tipo (com preferência pelo mais flexível, claro).\n",
    "\n",
    "Listas suportam qualquer dimensão:"
   ]
  },
  {
   "cell_type": "code",
   "execution_count": 44,
   "metadata": {
    "ExecuteTime": {
     "end_time": "2019-05-16T23:46:11.326528Z",
     "start_time": "2019-05-16T23:46:11.318533Z"
    }
   },
   "outputs": [
    {
     "data": {
      "text/plain": [
       "[[1, 2, 3], ['one', 'two'], [1.0, 2.0, 3.0, 4.0, 5.0, 6.0], ['one', 2, 3.0]]"
      ]
     },
     "execution_count": 44,
     "metadata": {},
     "output_type": "execute_result"
    }
   ],
   "source": [
    "matrix_py = [[1,2,3], ['one', 'two'], [1., 2., 3., 4., 5., 6.], ['one', 2, 3.0]]\n",
    "matrix_py"
   ]
  },
  {
   "cell_type": "markdown",
   "metadata": {},
   "source": [
    "_Arrays_ exigem que toda linha tenha a mesma dimensão pra conseguir montar a matriz."
   ]
  },
  {
   "cell_type": "code",
   "execution_count": 45,
   "metadata": {
    "ExecuteTime": {
     "end_time": "2019-05-16T23:46:36.696480Z",
     "start_time": "2019-05-16T23:46:36.689484Z"
    }
   },
   "outputs": [
    {
     "name": "stdout",
     "output_type": "stream",
     "text": [
      "(2, 3)\n",
      "int32\n"
     ]
    },
    {
     "data": {
      "text/plain": [
       "array([[ 1,  2,  3],\n",
       "       [10, 20, 30]])"
      ]
     },
     "execution_count": 45,
     "metadata": {},
     "output_type": "execute_result"
    }
   ],
   "source": [
    "matrix_np = np.array([[1,2,3], [10,20,30]])\n",
    "print(matrix_np.shape)\n",
    "print(matrix_np.dtype)\n",
    "matrix_np"
   ]
  },
  {
   "cell_type": "markdown",
   "metadata": {},
   "source": [
    "### Geradores\n",
    "As magias NumPynianas incluem geradores de _arrays_ úteis:"
   ]
  },
  {
   "cell_type": "code",
   "execution_count": 46,
   "metadata": {
    "ExecuteTime": {
     "end_time": "2019-05-16T23:47:08.810311Z",
     "start_time": "2019-05-16T23:47:08.803315Z"
    }
   },
   "outputs": [
    {
     "data": {
      "text/plain": [
       "array([[1., 1., 1., 1.],\n",
       "       [1., 1., 1., 1.],\n",
       "       [1., 1., 1., 1.]])"
      ]
     },
     "execution_count": 46,
     "metadata": {},
     "output_type": "execute_result"
    }
   ],
   "source": [
    "np.ones((3, 4))"
   ]
  },
  {
   "cell_type": "code",
   "execution_count": 47,
   "metadata": {
    "ExecuteTime": {
     "end_time": "2019-05-16T23:47:23.095368Z",
     "start_time": "2019-05-16T23:47:23.089372Z"
    }
   },
   "outputs": [
    {
     "data": {
      "text/plain": [
       "array([[0, 0, 0, 0, 0, 0, 0, 0, 0, 0],\n",
       "       [0, 0, 0, 0, 0, 0, 0, 0, 0, 0]], dtype=int64)"
      ]
     },
     "execution_count": 47,
     "metadata": {},
     "output_type": "execute_result"
    }
   ],
   "source": [
    "np.zeros((2, 10), dtype = np.int64)"
   ]
  },
  {
   "cell_type": "code",
   "execution_count": 48,
   "metadata": {
    "ExecuteTime": {
     "end_time": "2019-05-16T23:47:44.449322Z",
     "start_time": "2019-05-16T23:47:44.442327Z"
    }
   },
   "outputs": [
    {
     "data": {
      "text/plain": [
       "array([[0.87856633, 0.20849995, 0.15893956, 0.029486  ],\n",
       "       [0.49828384, 0.47693779, 0.30131891, 0.11174725],\n",
       "       [0.6180931 , 0.57735064, 0.06040405, 0.86145886],\n",
       "       [0.74719859, 0.82969614, 0.45846987, 0.68310579],\n",
       "       [0.74612625, 0.06539347, 0.97617148, 0.10004091],\n",
       "       [0.05395758, 0.66750342, 0.5262383 , 0.25303151]])"
      ]
     },
     "execution_count": 48,
     "metadata": {},
     "output_type": "execute_result"
    }
   ],
   "source": [
    "np.random.random((6, 4))"
   ]
  },
  {
   "cell_type": "code",
   "execution_count": 49,
   "metadata": {
    "ExecuteTime": {
     "end_time": "2019-05-16T23:47:58.075825Z",
     "start_time": "2019-05-16T23:47:58.067830Z"
    }
   },
   "outputs": [
    {
     "data": {
      "text/plain": [
       "array([[1, 2, 1, 4],\n",
       "       [3, 3, 2, 2],\n",
       "       [4, 3, 2, 4]])"
      ]
     },
     "execution_count": 49,
     "metadata": {},
     "output_type": "execute_result"
    }
   ],
   "source": [
    "np.random.randint(1, 5, (3, 4))"
   ]
  },
  {
   "cell_type": "code",
   "execution_count": 50,
   "metadata": {
    "ExecuteTime": {
     "end_time": "2019-05-16T23:48:19.242943Z",
     "start_time": "2019-05-16T23:48:19.235948Z"
    }
   },
   "outputs": [
    {
     "data": {
      "text/plain": [
       "array([10, 15, 20, 25, 30, 35, 40, 45])"
      ]
     },
     "execution_count": 50,
     "metadata": {},
     "output_type": "execute_result"
    }
   ],
   "source": [
    "np.arange(10, 50, 5)      # Valores em sequência np.arange(primeiro inclusivo, último exclusivo, incremento)"
   ]
  },
  {
   "cell_type": "markdown",
   "metadata": {},
   "source": [
    "### Indexação e atribuições\n",
    "Para acessar o i-ésimo elemento de um _array_, basta fazer `a[i]`. Não se esqueça que todos os índices começam em zero!"
   ]
  },
  {
   "cell_type": "code",
   "execution_count": 51,
   "metadata": {
    "ExecuteTime": {
     "end_time": "2019-05-16T23:49:17.557471Z",
     "start_time": "2019-05-16T23:49:17.553474Z"
    }
   },
   "outputs": [],
   "source": [
    "a = np.array([0, 10, 20, 30, 40, 50])"
   ]
  },
  {
   "cell_type": "code",
   "execution_count": 52,
   "metadata": {
    "ExecuteTime": {
     "end_time": "2019-05-16T23:49:25.062896Z",
     "start_time": "2019-05-16T23:49:25.055901Z"
    }
   },
   "outputs": [
    {
     "data": {
      "text/plain": [
       "40"
      ]
     },
     "execution_count": 52,
     "metadata": {},
     "output_type": "execute_result"
    }
   ],
   "source": [
    "a[4]"
   ]
  },
  {
   "cell_type": "markdown",
   "metadata": {},
   "source": [
    "Da mesma forma, se temos duas dimensões e queremos acessar o elemento na linha `i` e coluna `j`, basta fazer `a[i, j]`."
   ]
  },
  {
   "cell_type": "code",
   "execution_count": 53,
   "metadata": {
    "ExecuteTime": {
     "end_time": "2019-05-16T23:49:46.078192Z",
     "start_time": "2019-05-16T23:49:46.070197Z"
    }
   },
   "outputs": [
    {
     "data": {
      "text/plain": [
       "array([[ 1,  2,  3,  4],\n",
       "       [ 5,  6,  7,  8],\n",
       "       [ 9, 10, 11, 12]])"
      ]
     },
     "execution_count": 53,
     "metadata": {},
     "output_type": "execute_result"
    }
   ],
   "source": [
    "a = np.array([[1,2,3,4], [5,6,7,8], [9,10,11,12]])\n",
    "a"
   ]
  },
  {
   "cell_type": "markdown",
   "metadata": {},
   "source": [
    "### Como podemos fazer para acessar o número 3?"
   ]
  },
  {
   "cell_type": "code",
   "execution_count": 55,
   "metadata": {
    "ExecuteTime": {
     "end_time": "2019-05-16T23:52:20.222609Z",
     "start_time": "2019-05-16T23:52:20.216613Z"
    }
   },
   "outputs": [
    {
     "data": {
      "text/plain": [
       "3"
      ]
     },
     "execution_count": 55,
     "metadata": {},
     "output_type": "execute_result"
    }
   ],
   "source": [
    "#-- escreva o código aqui\n",
    "a[0][2]"
   ]
  },
  {
   "cell_type": "markdown",
   "metadata": {},
   "source": [
    "E ainda por cima posso usar a indexação para fazer atribuições!"
   ]
  },
  {
   "cell_type": "code",
   "execution_count": 56,
   "metadata": {
    "ExecuteTime": {
     "end_time": "2019-05-16T23:52:30.951453Z",
     "start_time": "2019-05-16T23:52:30.945459Z"
    }
   },
   "outputs": [
    {
     "data": {
      "text/plain": [
       "array([0, 0, 0, 0, 0, 0, 0, 0, 0, 0])"
      ]
     },
     "execution_count": 56,
     "metadata": {},
     "output_type": "execute_result"
    }
   ],
   "source": [
    "z = np.zeros(10, dtype = int)\n",
    "z"
   ]
  },
  {
   "cell_type": "code",
   "execution_count": 57,
   "metadata": {
    "ExecuteTime": {
     "end_time": "2019-05-16T23:53:04.964362Z",
     "start_time": "2019-05-16T23:53:04.959364Z"
    }
   },
   "outputs": [
    {
     "data": {
      "text/plain": [
       "array([0, 0, 0, 0, 1, 0, 0, 0, 0, 0])"
      ]
     },
     "execution_count": 57,
     "metadata": {},
     "output_type": "execute_result"
    }
   ],
   "source": [
    "z[4] = 1\n",
    "z"
   ]
  },
  {
   "cell_type": "markdown",
   "metadata": {},
   "source": [
    "### _Slicing_\n",
    "É uma sintaxe que permite indexar intervalos e acessar sub-_arrays_ (fatias de _ arrays_)."
   ]
  },
  {
   "cell_type": "code",
   "execution_count": 58,
   "metadata": {
    "ExecuteTime": {
     "end_time": "2019-05-16T23:53:36.633528Z",
     "start_time": "2019-05-16T23:53:36.623535Z"
    }
   },
   "outputs": [
    {
     "data": {
      "text/plain": [
       "array([[0.2206555 , 0.34917299, 0.31856762, 0.56398351, 0.15770756],\n",
       "       [0.36028096, 0.04784932, 0.64807973, 0.32427883, 0.75846794],\n",
       "       [0.77876407, 0.75198799, 0.30648835, 0.99581203, 0.58917502],\n",
       "       [0.03266715, 0.23883382, 0.41789042, 0.80877993, 0.88535094],\n",
       "       [0.56414166, 0.48130626, 0.51948238, 0.02363509, 0.64533874],\n",
       "       [0.24954279, 0.25099435, 0.13231434, 0.1848358 , 0.00762118],\n",
       "       [0.02123967, 0.58386126, 0.0755777 , 0.84930061, 0.06138293],\n",
       "       [0.34520375, 0.08790577, 0.7279294 , 0.08763606, 0.50600273],\n",
       "       [0.95814548, 0.26787049, 0.37105464, 0.5094864 , 0.49201162],\n",
       "       [0.8069708 , 0.59012166, 0.80510731, 0.80395604, 0.28191645]])"
      ]
     },
     "execution_count": 58,
     "metadata": {},
     "output_type": "execute_result"
    }
   ],
   "source": [
    "m = np.random.random((10,5))\n",
    "m"
   ]
  },
  {
   "cell_type": "markdown",
   "metadata": {},
   "source": [
    "Para acessar as três primeiras linhas e as duas últimas colunas, "
   ]
  },
  {
   "cell_type": "code",
   "execution_count": 59,
   "metadata": {
    "ExecuteTime": {
     "end_time": "2019-05-16T23:53:59.963218Z",
     "start_time": "2019-05-16T23:53:59.957222Z"
    }
   },
   "outputs": [
    {
     "data": {
      "text/plain": [
       "array([[0.56398351, 0.15770756],\n",
       "       [0.32427883, 0.75846794],\n",
       "       [0.99581203, 0.58917502]])"
      ]
     },
     "execution_count": 59,
     "metadata": {},
     "output_type": "execute_result"
    }
   ],
   "source": [
    "m[0:3, 3:]"
   ]
  },
  {
   "cell_type": "markdown",
   "metadata": {},
   "source": [
    "Você também pode ignorar um dos limites:"
   ]
  },
  {
   "cell_type": "code",
   "execution_count": 60,
   "metadata": {
    "ExecuteTime": {
     "end_time": "2019-05-16T23:55:05.586099Z",
     "start_time": "2019-05-16T23:55:05.580101Z"
    }
   },
   "outputs": [
    {
     "data": {
      "text/plain": [
       "array([[0.15770756],\n",
       "       [0.75846794],\n",
       "       [0.58917502],\n",
       "       [0.88535094],\n",
       "       [0.64533874],\n",
       "       [0.00762118],\n",
       "       [0.06138293],\n",
       "       [0.50600273],\n",
       "       [0.49201162],\n",
       "       [0.28191645]])"
      ]
     },
     "execution_count": 60,
     "metadata": {},
     "output_type": "execute_result"
    }
   ],
   "source": [
    "m[:, 4:5]"
   ]
  },
  {
   "cell_type": "markdown",
   "metadata": {},
   "source": [
    "Ou usar índices negativos!"
   ]
  },
  {
   "cell_type": "code",
   "execution_count": 61,
   "metadata": {
    "ExecuteTime": {
     "end_time": "2019-05-16T23:55:15.953455Z",
     "start_time": "2019-05-16T23:55:15.947462Z"
    }
   },
   "outputs": [
    {
     "data": {
      "text/plain": [
       "array([[0.56398351, 0.15770756],\n",
       "       [0.32427883, 0.75846794],\n",
       "       [0.99581203, 0.58917502]])"
      ]
     },
     "execution_count": 61,
     "metadata": {},
     "output_type": "execute_result"
    }
   ],
   "source": [
    "m[:3, -2:]"
   ]
  },
  {
   "cell_type": "markdown",
   "metadata": {},
   "source": [
    "E combinar _slicing_ com índices:"
   ]
  },
  {
   "cell_type": "code",
   "execution_count": 62,
   "metadata": {
    "ExecuteTime": {
     "end_time": "2019-05-16T23:55:22.643034Z",
     "start_time": "2019-05-16T23:55:22.637040Z"
    }
   },
   "outputs": [
    {
     "data": {
      "text/plain": [
       "array([0.2206555 , 0.34917299, 0.31856762])"
      ]
     },
     "execution_count": 62,
     "metadata": {},
     "output_type": "execute_result"
    }
   ],
   "source": [
    "m[0, :3]"
   ]
  },
  {
   "cell_type": "markdown",
   "metadata": {},
   "source": [
    "Note que isso reduz a dimensão do seu _array_:"
   ]
  },
  {
   "cell_type": "code",
   "execution_count": 63,
   "metadata": {
    "ExecuteTime": {
     "end_time": "2019-05-16T23:55:46.446472Z",
     "start_time": "2019-05-16T23:55:46.438477Z"
    }
   },
   "outputs": [
    {
     "name": "stdout",
     "output_type": "stream",
     "text": [
      "2\n",
      "1\n",
      "1\n",
      "0\n"
     ]
    }
   ],
   "source": [
    "print(m.ndim)\n",
    "print(m[0].ndim)\n",
    "print(m[:2, 0].ndim)\n",
    "print(m[0,0].ndim)"
   ]
  },
  {
   "cell_type": "code",
   "execution_count": 64,
   "metadata": {
    "ExecuteTime": {
     "end_time": "2019-05-16T23:56:00.157971Z",
     "start_time": "2019-05-16T23:56:00.150976Z"
    }
   },
   "outputs": [
    {
     "name": "stdout",
     "output_type": "stream",
     "text": [
      "(10, 5)\n",
      "(5,)\n",
      "(2,)\n",
      "()\n"
     ]
    }
   ],
   "source": [
    "print(m.shape)\n",
    "print(m[0].shape)\n",
    "print(m[:2, 0].shape)\n",
    "print(m[0,0].shape)"
   ]
  },
  {
   "cell_type": "markdown",
   "metadata": {},
   "source": [
    "E atribuições com _slicing_? Pode também!"
   ]
  },
  {
   "cell_type": "code",
   "execution_count": 65,
   "metadata": {
    "ExecuteTime": {
     "end_time": "2019-05-16T23:56:20.740391Z",
     "start_time": "2019-05-16T23:56:20.733396Z"
    }
   },
   "outputs": [
    {
     "data": {
      "text/plain": [
       "array([[0.58023535, 0.06884675, 0.61062258],\n",
       "       [0.32618054, 0.42719838, 0.09513551],\n",
       "       [0.78600801, 0.11889943, 0.35004173]])"
      ]
     },
     "execution_count": 65,
     "metadata": {},
     "output_type": "execute_result"
    }
   ],
   "source": [
    "m = np.random.random((3,3))\n",
    "m"
   ]
  },
  {
   "cell_type": "code",
   "execution_count": 66,
   "metadata": {
    "ExecuteTime": {
     "end_time": "2019-05-16T23:56:31.922017Z",
     "start_time": "2019-05-16T23:56:31.916021Z"
    }
   },
   "outputs": [
    {
     "data": {
      "text/plain": [
       "array([[0.58023535, 0.06884675, 0.61062258],\n",
       "       [0.        , 0.        , 0.        ],\n",
       "       [0.78600801, 0.11889943, 0.35004173]])"
      ]
     },
     "execution_count": 66,
     "metadata": {},
     "output_type": "execute_result"
    }
   ],
   "source": [
    "m[1, ] = 0\n",
    "m"
   ]
  },
  {
   "cell_type": "markdown",
   "metadata": {},
   "source": [
    "Se as dimensões batem, ainda podemos atribuir um _array_ num _slice_ de outro _array_:"
   ]
  },
  {
   "cell_type": "code",
   "execution_count": 67,
   "metadata": {
    "ExecuteTime": {
     "end_time": "2019-05-16T23:56:50.291048Z",
     "start_time": "2019-05-16T23:56:50.284053Z"
    }
   },
   "outputs": [
    {
     "data": {
      "text/plain": [
       "array([[0., 0., 0., 0., 0.],\n",
       "       [0., 0., 0., 0., 0.],\n",
       "       [0., 0., 0., 0., 0.],\n",
       "       [0., 0., 0., 0., 0.]])"
      ]
     },
     "execution_count": 67,
     "metadata": {},
     "output_type": "execute_result"
    }
   ],
   "source": [
    "m = np.zeros((4, 5))\n",
    "m"
   ]
  },
  {
   "cell_type": "code",
   "execution_count": 68,
   "metadata": {
    "ExecuteTime": {
     "end_time": "2019-05-16T23:57:03.820441Z",
     "start_time": "2019-05-16T23:57:03.813465Z"
    }
   },
   "outputs": [
    {
     "data": {
      "text/plain": [
       "array([[0., 0., 0., 0., 1.],\n",
       "       [1., 2., 3., 4., 1.],\n",
       "       [0., 0., 0., 0., 1.],\n",
       "       [0., 0., 0., 0., 1.]])"
      ]
     },
     "execution_count": 68,
     "metadata": {},
     "output_type": "execute_result"
    }
   ],
   "source": [
    "m[1] = [1, 2, 3, 4, 5]\n",
    "m[:, -1] = np.ones(4)\n",
    "\n",
    "m"
   ]
  },
  {
   "cell_type": "markdown",
   "metadata": {},
   "source": [
    "## Bora trabalhar?\n",
    "Crie uma matriz com 5 colunas e 3 linhas de valores aleatórios entre 0 e 1. Depois, imprima o valor da segunda linha, terceira coluna."
   ]
  },
  {
   "cell_type": "code",
   "execution_count": 73,
   "metadata": {
    "ExecuteTime": {
     "end_time": "2019-05-17T00:10:30.479837Z",
     "start_time": "2019-05-17T00:10:30.473842Z"
    }
   },
   "outputs": [
    {
     "data": {
      "text/plain": [
       "array([[0.04449266, 0.09962292, 0.60929913, 0.78443833, 0.66813264],\n",
       "       [0.87773801, 0.49609817, 0.31570167, 0.74399761, 0.82479083],\n",
       "       [0.08735388, 0.37836253, 0.2907986 , 0.53567884, 0.65442834]])"
      ]
     },
     "execution_count": 73,
     "metadata": {},
     "output_type": "execute_result"
    }
   ],
   "source": [
    "m = np.random.random((3,5))\n",
    "m"
   ]
  },
  {
   "cell_type": "code",
   "execution_count": 72,
   "metadata": {
    "ExecuteTime": {
     "end_time": "2019-05-17T00:10:22.887794Z",
     "start_time": "2019-05-17T00:10:22.882799Z"
    }
   },
   "outputs": [
    {
     "data": {
      "text/plain": [
       "0.3276488464403875"
      ]
     },
     "execution_count": 72,
     "metadata": {},
     "output_type": "execute_result"
    }
   ],
   "source": [
    "m[1,2]"
   ]
  },
  {
   "cell_type": "markdown",
   "metadata": {},
   "source": [
    "Crie um _array_ que vai de 2 a 10 (inclusivos) com incrementos de 0.5 em 0.5 (Dica: `np.arange` e `np.linspace`)."
   ]
  },
  {
   "cell_type": "code",
   "execution_count": 78,
   "metadata": {
    "ExecuteTime": {
     "end_time": "2019-05-17T00:12:13.393465Z",
     "start_time": "2019-05-17T00:12:13.387472Z"
    }
   },
   "outputs": [
    {
     "data": {
      "text/plain": [
       "array([ 2. ,  2.5,  3. ,  3.5,  4. ,  4.5,  5. ,  5.5,  6. ,  6.5,  7. ,\n",
       "        7.5,  8. ,  8.5,  9. ,  9.5, 10. ])"
      ]
     },
     "execution_count": 78,
     "metadata": {},
     "output_type": "execute_result"
    }
   ],
   "source": [
    "np.arange(2, 10.5, 0.5)\n",
    "np.linspace(2, 10, 17)"
   ]
  },
  {
   "cell_type": "markdown",
   "metadata": {},
   "source": [
    "Crie um _array_ 2D com quatro linhas e cinco colunas de zeros, mas com a coluna central de uns."
   ]
  },
  {
   "cell_type": "code",
   "execution_count": 79,
   "metadata": {
    "ExecuteTime": {
     "end_time": "2019-05-17T00:13:34.743074Z",
     "start_time": "2019-05-17T00:13:34.735080Z"
    }
   },
   "outputs": [
    {
     "data": {
      "text/plain": [
       "array([[0., 0., 1., 0., 0.],\n",
       "       [0., 0., 1., 0., 0.],\n",
       "       [0., 0., 1., 0., 0.],\n",
       "       [0., 0., 1., 0., 0.]])"
      ]
     },
     "execution_count": 79,
     "metadata": {},
     "output_type": "execute_result"
    }
   ],
   "source": [
    "a = np.zeros((4,5))\n",
    "a[:, 2] = 1\n",
    "a"
   ]
  },
  {
   "cell_type": "markdown",
   "metadata": {},
   "source": [
    "Crie uma matriz 10 x 10 com valores aleatórios inteiros entre 0 e 9:"
   ]
  },
  {
   "cell_type": "code",
   "execution_count": 80,
   "metadata": {
    "ExecuteTime": {
     "end_time": "2019-05-17T00:14:40.735596Z",
     "start_time": "2019-05-17T00:14:40.727621Z"
    }
   },
   "outputs": [
    {
     "data": {
      "text/plain": [
       "array([[9, 9, 5, 9, 6, 2, 2, 0, 8, 1],\n",
       "       [5, 4, 2, 3, 2, 9, 5, 7, 5, 7],\n",
       "       [2, 3, 3, 8, 2, 3, 5, 9, 9, 4],\n",
       "       [4, 9, 0, 2, 3, 6, 9, 3, 8, 9],\n",
       "       [7, 1, 6, 6, 6, 9, 4, 3, 4, 5],\n",
       "       [6, 9, 0, 8, 0, 7, 7, 5, 7, 9],\n",
       "       [8, 8, 3, 6, 6, 5, 6, 2, 4, 7],\n",
       "       [4, 3, 3, 0, 2, 2, 1, 8, 6, 2],\n",
       "       [9, 7, 6, 9, 8, 8, 0, 2, 2, 7],\n",
       "       [4, 6, 8, 7, 9, 1, 5, 3, 0, 1]])"
      ]
     },
     "execution_count": 80,
     "metadata": {},
     "output_type": "execute_result"
    }
   ],
   "source": [
    "m = np.random.randint(0, 10, (10,10))\n",
    "m"
   ]
  },
  {
   "cell_type": "markdown",
   "metadata": {},
   "source": [
    "Imprima os três primeiros elementos da última linha:"
   ]
  },
  {
   "cell_type": "code",
   "execution_count": 83,
   "metadata": {
    "ExecuteTime": {
     "end_time": "2019-05-17T00:16:19.141401Z",
     "start_time": "2019-05-17T00:16:19.135404Z"
    }
   },
   "outputs": [
    {
     "data": {
      "text/plain": [
       "array([4, 6, 8])"
      ]
     },
     "execution_count": 83,
     "metadata": {},
     "output_type": "execute_result"
    }
   ],
   "source": [
    "m[-1, :3]"
   ]
  },
  {
   "cell_type": "markdown",
   "metadata": {},
   "source": [
    "Atribua esses elementos aos 3 últimos da última linha:"
   ]
  },
  {
   "cell_type": "code",
   "execution_count": 86,
   "metadata": {
    "ExecuteTime": {
     "end_time": "2019-05-17T00:18:35.347988Z",
     "start_time": "2019-05-17T00:18:35.339992Z"
    }
   },
   "outputs": [
    {
     "data": {
      "text/plain": [
       "array([[9, 9, 5, 9, 6, 2, 2, 0, 8, 1],\n",
       "       [5, 4, 2, 3, 2, 9, 5, 7, 5, 7],\n",
       "       [2, 3, 3, 8, 2, 3, 5, 9, 9, 4],\n",
       "       [4, 9, 0, 2, 3, 6, 9, 3, 8, 9],\n",
       "       [7, 1, 6, 6, 6, 9, 4, 3, 4, 5],\n",
       "       [6, 9, 0, 8, 0, 7, 7, 5, 7, 9],\n",
       "       [8, 8, 3, 6, 6, 5, 6, 2, 4, 7],\n",
       "       [4, 3, 3, 0, 2, 2, 1, 8, 6, 2],\n",
       "       [9, 7, 6, 9, 8, 8, 0, 2, 2, 7],\n",
       "       [4, 6, 8, 7, 9, 1, 5, 4, 6, 8]])"
      ]
     },
     "execution_count": 86,
     "metadata": {},
     "output_type": "execute_result"
    }
   ],
   "source": [
    "m[-1, -3:] = m[-1, :3]\n",
    "m"
   ]
  },
  {
   "cell_type": "markdown",
   "metadata": {},
   "source": [
    "E se eu quiser esses mesmos 3 elementos nos três primeiros de todas as linhas?"
   ]
  },
  {
   "cell_type": "code",
   "execution_count": 87,
   "metadata": {
    "ExecuteTime": {
     "end_time": "2019-05-17T00:19:27.892400Z",
     "start_time": "2019-05-17T00:19:27.884405Z"
    }
   },
   "outputs": [
    {
     "data": {
      "text/plain": [
       "array([[4, 6, 8, 9, 6, 2, 2, 0, 8, 1],\n",
       "       [4, 6, 8, 3, 2, 9, 5, 7, 5, 7],\n",
       "       [4, 6, 8, 8, 2, 3, 5, 9, 9, 4],\n",
       "       [4, 6, 8, 2, 3, 6, 9, 3, 8, 9],\n",
       "       [4, 6, 8, 6, 6, 9, 4, 3, 4, 5],\n",
       "       [4, 6, 8, 8, 0, 7, 7, 5, 7, 9],\n",
       "       [4, 6, 8, 6, 6, 5, 6, 2, 4, 7],\n",
       "       [4, 6, 8, 0, 2, 2, 1, 8, 6, 2],\n",
       "       [4, 6, 8, 9, 8, 8, 0, 2, 2, 7],\n",
       "       [4, 6, 8, 7, 9, 1, 5, 4, 6, 8]])"
      ]
     },
     "execution_count": 87,
     "metadata": {},
     "output_type": "execute_result"
    }
   ],
   "source": [
    "m[:, :3] = m[-1, :3]\n",
    "m"
   ]
  },
  {
   "cell_type": "markdown",
   "metadata": {},
   "source": [
    "### Acesso com máscaras booleanas"
   ]
  },
  {
   "cell_type": "code",
   "execution_count": 88,
   "metadata": {
    "ExecuteTime": {
     "end_time": "2019-05-17T00:19:47.156041Z",
     "start_time": "2019-05-17T00:19:47.148046Z"
    }
   },
   "outputs": [
    {
     "data": {
      "text/plain": [
       "array([[ 0,  1,  2,  3],\n",
       "       [ 4,  5,  6,  7],\n",
       "       [ 8,  9, 10, 11],\n",
       "       [12, 13, 14, 15],\n",
       "       [16, 17, 18, 19]])"
      ]
     },
     "execution_count": 88,
     "metadata": {},
     "output_type": "execute_result"
    }
   ],
   "source": [
    "a = np.arange(20).reshape(5,4)\n",
    "a"
   ]
  },
  {
   "cell_type": "markdown",
   "metadata": {},
   "source": [
    "Podemos acessar um _array_ com um _array_ de booleanos com o mesmo _shape_."
   ]
  },
  {
   "cell_type": "code",
   "execution_count": 89,
   "metadata": {
    "ExecuteTime": {
     "end_time": "2019-05-17T00:20:13.622662Z",
     "start_time": "2019-05-17T00:20:13.614668Z"
    }
   },
   "outputs": [
    {
     "data": {
      "text/plain": [
       "array([[ 0,  1,  2,  3],\n",
       "       [ 8,  9, 10, 11],\n",
       "       [12, 13, 14, 15]])"
      ]
     },
     "execution_count": 89,
     "metadata": {},
     "output_type": "execute_result"
    }
   ],
   "source": [
    "a[[True, False, True, True, False]]"
   ]
  },
  {
   "cell_type": "code",
   "execution_count": 90,
   "metadata": {
    "ExecuteTime": {
     "end_time": "2019-05-17T00:22:53.707013Z",
     "start_time": "2019-05-17T00:22:53.701015Z"
    }
   },
   "outputs": [
    {
     "data": {
      "text/plain": [
       "array([[ 0,  2],\n",
       "       [ 4,  6],\n",
       "       [ 8, 10],\n",
       "       [12, 14],\n",
       "       [16, 18]])"
      ]
     },
     "execution_count": 90,
     "metadata": {},
     "output_type": "execute_result"
    }
   ],
   "source": [
    "a[:, [True, False, True, False]]"
   ]
  },
  {
   "cell_type": "code",
   "execution_count": 92,
   "metadata": {
    "ExecuteTime": {
     "end_time": "2019-05-17T00:24:45.591780Z",
     "start_time": "2019-05-17T00:24:45.587782Z"
    }
   },
   "outputs": [
    {
     "data": {
      "text/plain": [
       "array([11, 12, 13, 14, 15, 16, 17, 18, 19])"
      ]
     },
     "execution_count": 92,
     "metadata": {},
     "output_type": "execute_result"
    }
   ],
   "source": [
    "a[a > 10]"
   ]
  },
  {
   "cell_type": "markdown",
   "metadata": {},
   "source": [
    "Parece estranho, eu sei... mas é bastante útil e fará sentido em breve!\n",
    "\n",
    "#### Lembrete rápido sobre _slicing_\n",
    "* Se você ignorar um dos limites, ele considera todo o restante\n",
    "* O limite inferior é inclusivo, já o limite superior é exclusivo\n",
    "* Você pode usar índices negativos\n",
    "* Diferente da indexação direta, índices inválidos vão retornar um _array_ vazio, e não um erro\n",
    "* _Slincing_ e acessos diretos podem ser combinados, porém lembre-se que seu _array_ perde dimensões com cada acesso\n",
    "\n",
    "### Operações matemáticas com _arrays_\n",
    "Já vimos como o NumPy facilita a vida ao lidar com operações matemáticas em _arrays_ de forma natural. NumPy suporta todas as operações tradicionais e mais muitas outras!\n",
    "\n",
    "A maioria das operações que fazemos é elemento por elemento (_element-wise_), ou seja, se C = A + B, temos que `A.shape == B.shape == C.shape` e para todo i, j temos que `C[i,j] = A[i,j] + B[i,j]`"
   ]
  },
  {
   "cell_type": "code",
   "execution_count": 93,
   "metadata": {
    "ExecuteTime": {
     "end_time": "2019-05-17T00:25:33.625661Z",
     "start_time": "2019-05-17T00:25:33.620665Z"
    }
   },
   "outputs": [],
   "source": [
    "google_np = np.array(google)"
   ]
  },
  {
   "cell_type": "code",
   "execution_count": 94,
   "metadata": {
    "ExecuteTime": {
     "end_time": "2019-05-17T00:25:35.414475Z",
     "start_time": "2019-05-17T00:25:35.404478Z"
    }
   },
   "outputs": [
    {
     "data": {
      "text/plain": [
       "array([[1.14098999e+03, 1.45030000e+06, 1.12490002e+03],\n",
       "       [1.14780005e+03, 1.44600000e+06, 1.14698999e+03],\n",
       "       [1.16203003e+03, 1.44320000e+06, 1.15006006e+03],\n",
       "       [1.15785999e+03, 1.09930000e+06, 1.16248999e+03],\n",
       "       [1.14330005e+03, 1.16610000e+06, 1.15571997e+03],\n",
       "       [1.14231995e+03, 1.21240000e+06, 1.12672998e+03],\n",
       "       [1.17576001e+03, 1.71920000e+06, 1.14444995e+03],\n",
       "       [1.19319995e+03, 2.01310000e+06, 1.17826001e+03],\n",
       "       [1.19331995e+03, 1.43590000e+06, 1.20064502e+03],\n",
       "       [1.18555005e+03, 1.17280000e+06, 1.19451001e+03],\n",
       "       [1.18445996e+03, 2.46180000e+06, 1.19338000e+03],\n",
       "       [1.18426001e+03, 1.29260000e+06, 1.18330005e+03],\n",
       "       [1.19884998e+03, 1.52070000e+06, 1.18881006e+03],\n",
       "       [1.22396997e+03, 2.22740000e+06, 1.19734998e+03],\n",
       "       [1.23154004e+03, 1.20400000e+06, 1.21600000e+03],\n",
       "       [1.20550000e+03, 1.71420000e+06, 1.22631995e+03],\n",
       "       [1.19300000e+03, 1.49680000e+06, 1.19693005e+03],\n",
       "       [1.18462000e+03, 1.90120000e+06, 1.19853003e+03],\n",
       "       [1.17302002e+03, 1.40020000e+06, 1.18550000e+03],\n",
       "       [1.16848999e+03, 1.01240000e+06, 1.17154004e+03],\n",
       "       [1.17331006e+03, 1.26990000e+06, 1.17490002e+03],\n",
       "       [1.19443005e+03, 1.25250000e+06, 1.18409998e+03],\n",
       "       [1.20048999e+03, 8.27900000e+05, 1.19531995e+03],\n",
       "       [1.20592004e+03, 1.01780000e+06, 1.20747998e+03],\n",
       "       [1.21500000e+03, 9.50000000e+05, 1.20593994e+03],\n",
       "       [1.20715002e+03, 9.07200000e+05, 1.21498999e+03],\n",
       "       [1.20383997e+03, 8.60200000e+05, 1.20789001e+03],\n",
       "       [1.19725000e+03, 8.76400000e+05, 1.19600000e+03],\n",
       "       [1.20216003e+03, 7.24600000e+05, 1.20068005e+03],\n",
       "       [1.20462000e+03, 7.10200000e+05, 1.20395996e+03],\n",
       "       [1.21787000e+03, 9.33400000e+05, 1.21000000e+03],\n",
       "       [1.22109998e+03, 1.18740000e+06, 1.21800000e+03],\n",
       "       [1.22713000e+03, 8.56300000e+05, 1.22500000e+03],\n",
       "       [1.23633997e+03, 1.22190000e+06, 1.23300000e+03],\n",
       "       [1.23637000e+03, 1.33180000e+06, 1.23918005e+03],\n",
       "       [1.24883997e+03, 8.07300000e+05, 1.23598999e+03],\n",
       "       [1.26455005e+03, 1.31990000e+06, 1.25068994e+03],\n",
       "       [1.25600000e+03, 1.01880000e+06, 1.26412000e+03],\n",
       "       [1.26344995e+03, 1.10730000e+06, 1.26477002e+03],\n",
       "       [1.27218005e+03, 1.24140000e+06, 1.26900000e+03],\n",
       "       [1.28757996e+03, 2.49940000e+06, 1.27400000e+03],\n",
       "       [1.18847998e+03, 6.20700000e+06, 1.18500000e+03],\n",
       "       [1.16807996e+03, 2.63920000e+06, 1.18805005e+03]])"
      ]
     },
     "execution_count": 94,
     "metadata": {},
     "output_type": "execute_result"
    }
   ],
   "source": [
    "google_np"
   ]
  },
  {
   "cell_type": "code",
   "execution_count": 159,
   "metadata": {
    "ExecuteTime": {
     "end_time": "2019-05-17T01:09:01.028232Z",
     "start_time": "2019-05-17T01:09:01.022236Z"
    }
   },
   "outputs": [],
   "source": [
    "x = google_np[:, 0]\n",
    "y = google_np[:, 1]\n",
    "z = google_np[:, 2]"
   ]
  },
  {
   "cell_type": "code",
   "execution_count": 96,
   "metadata": {
    "ExecuteTime": {
     "end_time": "2019-05-17T00:25:54.088379Z",
     "start_time": "2019-05-17T00:25:54.080383Z"
    }
   },
   "outputs": [
    {
     "data": {
      "text/plain": [
       "array([1140.98999023, 1147.80004883, 1162.0300293 , 1157.85998535,\n",
       "       1143.30004883, 1142.31994629, 1175.76000977, 1193.19995117,\n",
       "       1193.31994629, 1185.55004883, 1184.45996094, 1184.26000977,\n",
       "       1198.84997559, 1223.9699707 , 1231.54003906, 1205.5       ,\n",
       "       1193.        , 1184.61999512, 1173.02001953, 1168.48999023,\n",
       "       1173.31005859, 1194.43005371, 1200.48999023, 1205.92004395,\n",
       "       1215.        , 1207.15002441, 1203.83996582, 1197.25      ,\n",
       "       1202.16003418, 1204.61999512, 1217.86999512, 1221.09997559,\n",
       "       1227.13000488, 1236.33996582, 1236.36999512, 1248.83996582,\n",
       "       1264.55004883, 1256.        , 1263.44995117, 1272.18005371,\n",
       "       1287.57995605, 1188.47998047, 1168.07995605])"
      ]
     },
     "execution_count": 96,
     "metadata": {},
     "output_type": "execute_result"
    }
   ],
   "source": [
    "x"
   ]
  },
  {
   "cell_type": "code",
   "execution_count": 97,
   "metadata": {
    "ExecuteTime": {
     "end_time": "2019-05-17T00:25:55.574067Z",
     "start_time": "2019-05-17T00:25:55.566073Z"
    }
   },
   "outputs": [
    {
     "data": {
      "text/plain": [
       "array([1450300., 1446000., 1443200., 1099300., 1166100., 1212400.,\n",
       "       1719200., 2013100., 1435900., 1172800., 2461800., 1292600.,\n",
       "       1520700., 2227400., 1204000., 1714200., 1496800., 1901200.,\n",
       "       1400200., 1012400., 1269900., 1252500.,  827900., 1017800.,\n",
       "        950000.,  907200.,  860200.,  876400.,  724600.,  710200.,\n",
       "        933400., 1187400.,  856300., 1221900., 1331800.,  807300.,\n",
       "       1319900., 1018800., 1107300., 1241400., 2499400., 6207000.,\n",
       "       2639200.])"
      ]
     },
     "execution_count": 97,
     "metadata": {},
     "output_type": "execute_result"
    }
   ],
   "source": [
    "y"
   ]
  },
  {
   "cell_type": "code",
   "execution_count": 98,
   "metadata": {
    "ExecuteTime": {
     "end_time": "2019-05-17T00:25:56.406590Z",
     "start_time": "2019-05-17T00:25:56.398596Z"
    }
   },
   "outputs": [
    {
     "data": {
      "text/plain": [
       "array([1124.90002441, 1146.98999023, 1150.06005859, 1162.48999023,\n",
       "       1155.7199707 , 1126.72998047, 1144.44995117, 1178.26000977,\n",
       "       1200.64501953, 1194.51000977, 1193.38000488, 1183.30004883,\n",
       "       1188.81005859, 1197.34997559, 1216.        , 1226.31994629,\n",
       "       1196.93005371, 1198.5300293 , 1185.5       , 1171.54003906,\n",
       "       1174.90002441, 1184.09997559, 1195.31994629, 1207.47998047,\n",
       "       1205.93994141, 1214.98999023, 1207.89001465, 1196.        ,\n",
       "       1200.68005371, 1203.95996094, 1210.        , 1218.        ,\n",
       "       1225.        , 1233.        , 1239.18005371, 1235.98999023,\n",
       "       1250.68994141, 1264.11999512, 1264.77001953, 1269.        ,\n",
       "       1274.        , 1185.        , 1188.05004883])"
      ]
     },
     "execution_count": 98,
     "metadata": {},
     "output_type": "execute_result"
    }
   ],
   "source": [
    "z"
   ]
  },
  {
   "cell_type": "markdown",
   "metadata": {
    "ExecuteTime": {
     "end_time": "2019-02-17T11:21:30.490753Z",
     "start_time": "2019-02-17T11:21:30.482755Z"
    }
   },
   "source": [
    "### Valorização?"
   ]
  },
  {
   "cell_type": "code",
   "execution_count": 99,
   "metadata": {
    "ExecuteTime": {
     "end_time": "2019-05-17T00:26:18.279407Z",
     "start_time": "2019-05-17T00:26:18.272411Z"
    }
   },
   "outputs": [
    {
     "data": {
      "text/plain": [
       "array([ 16.08996582,   0.81005859,  11.9699707 ,  -4.63000488,\n",
       "       -12.41992188,  15.58996582,  31.31005859,  14.93994141,\n",
       "        -7.32507324,  -8.95996094,  -8.92004395,   0.95996094,\n",
       "        10.03991699,  26.61999512,  15.54003906, -20.81994629,\n",
       "        -3.93005371, -13.91003418, -12.47998047,  -3.05004883,\n",
       "        -1.58996582,  10.33007812,   5.17004395,  -1.55993652,\n",
       "         9.06005859,  -7.83996582,  -4.05004883,   1.25      ,\n",
       "         1.47998047,   0.66003418,   7.86999512,   3.09997559,\n",
       "         2.13000488,   3.33996582,  -2.81005859,  12.84997559,\n",
       "        13.86010742,  -8.11999512,  -1.32006836,   3.18005371,\n",
       "        13.57995605,   3.47998047, -19.97009277])"
      ]
     },
     "execution_count": 99,
     "metadata": {},
     "output_type": "execute_result"
    }
   ],
   "source": [
    "x - z"
   ]
  },
  {
   "cell_type": "markdown",
   "metadata": {},
   "source": [
    "### Valor total ganho por dia de operação?"
   ]
  },
  {
   "cell_type": "code",
   "execution_count": 100,
   "metadata": {
    "ExecuteTime": {
     "end_time": "2019-05-17T00:26:42.849868Z",
     "start_time": "2019-05-17T00:26:42.841875Z"
    }
   },
   "outputs": [
    {
     "data": {
      "text/plain": [
       "array([ 23335277.42919922,   1171344.7265625 ,  17275061.71875   ,\n",
       "        -5089764.36767578, -14482870.8984375 ,  18901274.56054688,\n",
       "        53828252.734375  ,  30075596.04492188, -10518072.66845703,\n",
       "       -10508242.1875    , -21959364.18457031,   1240845.5078125 ,\n",
       "        15267701.77001953,  59293377.12402344,  18710207.03125   ,\n",
       "       -35689551.92871094,  -5882504.39453125, -26445756.98242188,\n",
       "       -17474468.65234375,  -3087869.43359375,  -2019097.59521484,\n",
       "        12938422.8515625 ,   4280279.38232422,  -1587703.39355469,\n",
       "         8607055.6640625 ,  -7112416.9921875 ,  -3483852.00195312,\n",
       "         1095500.        ,   1072393.84765625,    468756.27441406,\n",
       "         7345853.44238281,   3680911.01074219,   1823923.18115234,\n",
       "         4081104.23583984,  -3742436.03515625,  10373785.29052734,\n",
       "        18293955.78613281,  -8272651.02539062,  -1461711.69433594,\n",
       "         3947718.67675781,  33941742.16308594,  21600238.76953125,\n",
       "       -52705068.84765625])"
      ]
     },
     "execution_count": 100,
     "metadata": {},
     "output_type": "execute_result"
    }
   ],
   "source": [
    "(x - z)*y"
   ]
  },
  {
   "cell_type": "markdown",
   "metadata": {},
   "source": [
    "Há também outras formas de se operar _arrays_:"
   ]
  },
  {
   "cell_type": "code",
   "execution_count": 101,
   "metadata": {
    "ExecuteTime": {
     "end_time": "2019-05-17T00:27:01.552891Z",
     "start_time": "2019-05-17T00:27:01.545895Z"
    }
   },
   "outputs": [
    {
     "data": {
      "text/plain": [
       "array([ 16.08996582,   0.81005859,  11.9699707 ,  -4.63000488,\n",
       "       -12.41992188,  15.58996582,  31.31005859,  14.93994141,\n",
       "        -7.32507324,  -8.95996094,  -8.92004395,   0.95996094,\n",
       "        10.03991699,  26.61999512,  15.54003906, -20.81994629,\n",
       "        -3.93005371, -13.91003418, -12.47998047,  -3.05004883,\n",
       "        -1.58996582,  10.33007812,   5.17004395,  -1.55993652,\n",
       "         9.06005859,  -7.83996582,  -4.05004883,   1.25      ,\n",
       "         1.47998047,   0.66003418,   7.86999512,   3.09997559,\n",
       "         2.13000488,   3.33996582,  -2.81005859,  12.84997559,\n",
       "        13.86010742,  -8.11999512,  -1.32006836,   3.18005371,\n",
       "        13.57995605,   3.47998047, -19.97009277])"
      ]
     },
     "execution_count": 101,
     "metadata": {},
     "output_type": "execute_result"
    }
   ],
   "source": [
    "np.subtract(x, z)"
   ]
  },
  {
   "cell_type": "code",
   "execution_count": 102,
   "metadata": {
    "ExecuteTime": {
     "end_time": "2019-05-17T00:27:04.633378Z",
     "start_time": "2019-05-17T00:27:04.627383Z"
    }
   },
   "outputs": [
    {
     "data": {
      "text/plain": [
       "array([1.65477778e+09, 1.65971887e+09, 1.67704174e+09, 1.27283548e+09,\n",
       "       1.33320219e+09, 1.38494870e+09, 2.02136661e+09, 2.40203082e+09,\n",
       "       1.71348811e+09, 1.39041310e+09, 2.91590353e+09, 1.53077449e+09,\n",
       "       1.82309116e+09, 2.72627071e+09, 1.48277421e+09, 2.06646810e+09,\n",
       "       1.78568240e+09, 2.25219953e+09, 1.64246263e+09, 1.18297927e+09,\n",
       "       1.48998644e+09, 1.49602364e+09, 9.93885663e+08, 1.22738542e+09,\n",
       "       1.15425000e+09, 1.09512650e+09, 1.03554314e+09, 1.04926990e+09,\n",
       "       8.71085161e+08, 8.55521121e+08, 1.13675985e+09, 1.44993411e+09,\n",
       "       1.05079142e+09, 1.51068380e+09, 1.64659756e+09, 1.00818850e+09,\n",
       "       1.66907961e+09, 1.27961280e+09, 1.39901813e+09, 1.57928432e+09,\n",
       "       3.21817734e+09, 7.37689524e+09, 3.08279662e+09])"
      ]
     },
     "execution_count": 102,
     "metadata": {},
     "output_type": "execute_result"
    }
   ],
   "source": [
    "np.multiply(x, y)"
   ]
  },
  {
   "cell_type": "markdown",
   "metadata": {},
   "source": [
    "Também podemos fazer operações entre um escalar e um _array_, aí o escalar é aplicado a todos os elementos do _array_."
   ]
  },
  {
   "cell_type": "code",
   "execution_count": 103,
   "metadata": {
    "ExecuteTime": {
     "end_time": "2019-05-17T00:27:36.395949Z",
     "start_time": "2019-05-17T00:27:36.387952Z"
    }
   },
   "outputs": [
    {
     "data": {
      "text/plain": [
       "array([8.18288252e+08, 8.31906793e+08, 8.32556147e+08, 6.41654624e+08,\n",
       "       6.76485198e+08, 6.85597886e+08, 9.86460375e+08, 1.18878941e+09,\n",
       "       8.64868599e+08, 7.03292973e+08, 1.47175847e+09, 7.67569491e+08,\n",
       "       9.06762138e+08, 1.33641971e+09, 7.35027105e+08, 1.05403548e+09,\n",
       "       8.98638327e+08, 1.14216225e+09, 8.32749780e+08, 5.95771433e+08,\n",
       "       7.48759815e+08, 7.44371259e+08, 4.97672631e+08, 6.17398811e+08,\n",
       "       5.75751906e+08, 5.54052810e+08, 5.22421708e+08, 5.26951022e+08,\n",
       "       4.37893203e+08, 4.30426811e+08, 5.67654245e+08, 7.26101200e+08,\n",
       "       5.27490219e+08, 7.56350164e+08, 8.28234168e+08, 5.01994467e+08,\n",
       "       8.28555947e+08, 6.47118195e+08, 7.03435869e+08, 7.90897093e+08,\n",
       "       1.59539855e+09, 3.68046420e+09, 1.57052632e+09])"
      ]
     },
     "execution_count": 103,
     "metadata": {},
     "output_type": "execute_result"
    }
   ],
   "source": [
    "(2*x + y/2)*z"
   ]
  },
  {
   "cell_type": "markdown",
   "metadata": {},
   "source": [
    "NumPy também tem várias funções de comparação:"
   ]
  },
  {
   "cell_type": "code",
   "execution_count": 104,
   "metadata": {
    "ExecuteTime": {
     "end_time": "2019-05-17T00:27:48.686486Z",
     "start_time": "2019-05-17T00:27:48.678493Z"
    }
   },
   "outputs": [
    {
     "data": {
      "text/plain": [
       "1287.5799560546875"
      ]
     },
     "execution_count": 104,
     "metadata": {},
     "output_type": "execute_result"
    }
   ],
   "source": [
    "np.max(x)"
   ]
  },
  {
   "cell_type": "code",
   "execution_count": 105,
   "metadata": {
    "ExecuteTime": {
     "end_time": "2019-05-17T00:28:01.779880Z",
     "start_time": "2019-05-17T00:28:01.771884Z"
    }
   },
   "outputs": [
    {
     "data": {
      "text/plain": [
       "array([1140.98999023, 1147.80004883, 1162.0300293 , 1162.48999023,\n",
       "       1155.7199707 , 1142.31994629, 1175.76000977, 1193.19995117,\n",
       "       1200.64501953, 1194.51000977, 1193.38000488, 1184.26000977,\n",
       "       1198.84997559, 1223.9699707 , 1231.54003906, 1226.31994629,\n",
       "       1196.93005371, 1198.5300293 , 1185.5       , 1171.54003906,\n",
       "       1174.90002441, 1194.43005371, 1200.48999023, 1207.47998047,\n",
       "       1215.        , 1214.98999023, 1207.89001465, 1197.25      ,\n",
       "       1202.16003418, 1204.61999512, 1217.86999512, 1221.09997559,\n",
       "       1227.13000488, 1236.33996582, 1239.18005371, 1248.83996582,\n",
       "       1264.55004883, 1264.11999512, 1264.77001953, 1272.18005371,\n",
       "       1287.57995605, 1188.47998047, 1188.05004883])"
      ]
     },
     "execution_count": 105,
     "metadata": {},
     "output_type": "execute_result"
    }
   ],
   "source": [
    "np.maximum(x, z)"
   ]
  },
  {
   "cell_type": "code",
   "execution_count": 106,
   "metadata": {
    "ExecuteTime": {
     "end_time": "2019-05-17T00:28:17.646925Z",
     "start_time": "2019-05-17T00:28:17.638916Z"
    }
   },
   "outputs": [
    {
     "data": {
      "text/plain": [
       "array([1124.90002441, 1146.98999023, 1150.06005859, 1157.85998535,\n",
       "       1143.30004883, 1126.72998047, 1144.44995117, 1178.26000977,\n",
       "       1193.31994629, 1185.55004883, 1184.45996094, 1183.30004883,\n",
       "       1188.81005859, 1197.34997559, 1216.        , 1205.5       ,\n",
       "       1193.        , 1184.61999512, 1173.02001953, 1168.48999023,\n",
       "       1173.31005859, 1184.09997559, 1195.31994629, 1205.92004395,\n",
       "       1205.93994141, 1207.15002441, 1203.83996582, 1196.        ,\n",
       "       1200.68005371, 1203.95996094, 1210.        , 1218.        ,\n",
       "       1225.        , 1233.        , 1236.36999512, 1235.98999023,\n",
       "       1250.68994141, 1256.        , 1263.44995117, 1269.        ,\n",
       "       1274.        , 1185.        , 1168.07995605])"
      ]
     },
     "execution_count": 106,
     "metadata": {},
     "output_type": "execute_result"
    }
   ],
   "source": [
    "np.minimum(x, z)"
   ]
  },
  {
   "cell_type": "markdown",
   "metadata": {},
   "source": [
    "### Operações lógicas\n",
    "Operações lógicas são bastante comuns em _arrays_ também:"
   ]
  },
  {
   "cell_type": "code",
   "execution_count": 110,
   "metadata": {
    "ExecuteTime": {
     "end_time": "2019-05-17T00:30:07.940014Z",
     "start_time": "2019-05-17T00:30:07.933020Z"
    }
   },
   "outputs": [
    {
     "data": {
      "text/plain": [
       "array([False, False, False,  True,  True, False, False, False,  True,\n",
       "        True,  True, False, False, False, False,  True,  True,  True,\n",
       "        True,  True,  True, False, False,  True, False,  True,  True,\n",
       "       False, False, False, False, False, False, False,  True, False,\n",
       "       False,  True,  True, False, False, False,  True])"
      ]
     },
     "execution_count": 110,
     "metadata": {},
     "output_type": "execute_result"
    }
   ],
   "source": [
    "x < z"
   ]
  },
  {
   "cell_type": "code",
   "execution_count": 108,
   "metadata": {
    "ExecuteTime": {
     "end_time": "2019-05-17T00:29:01.143158Z",
     "start_time": "2019-05-17T00:29:01.137161Z"
    }
   },
   "outputs": [
    {
     "data": {
      "text/plain": [
       "array([False, False, False,  True,  True, False, False, False,  True,\n",
       "        True,  True, False, False, False, False,  True,  True,  True,\n",
       "        True,  True,  True, False, False,  True, False,  True,  True,\n",
       "       False, False, False, False, False, False, False,  True, False,\n",
       "       False,  True,  True, False, False, False,  True])"
      ]
     },
     "execution_count": 108,
     "metadata": {},
     "output_type": "execute_result"
    }
   ],
   "source": [
    "(z > x) & (y > x)"
   ]
  },
  {
   "cell_type": "markdown",
   "metadata": {},
   "source": [
    "São úteis para contar valores que tornam alguma condição verdade (isso porque o NumPy considera `True = 1` e `False = 0`)"
   ]
  },
  {
   "cell_type": "code",
   "execution_count": 109,
   "metadata": {
    "ExecuteTime": {
     "end_time": "2019-05-17T00:29:40.273768Z",
     "start_time": "2019-05-17T00:29:40.266773Z"
    }
   },
   "outputs": [
    {
     "data": {
      "text/plain": [
       "18"
      ]
     },
     "execution_count": 109,
     "metadata": {},
     "output_type": "execute_result"
    }
   ],
   "source": [
    "np.sum(x < z)"
   ]
  },
  {
   "cell_type": "markdown",
   "metadata": {},
   "source": [
    "Também são incrivelmente úteis para indexação e atribuição:"
   ]
  },
  {
   "cell_type": "code",
   "execution_count": 111,
   "metadata": {
    "ExecuteTime": {
     "end_time": "2019-05-17T00:30:22.476451Z",
     "start_time": "2019-05-17T00:30:22.470455Z"
    }
   },
   "outputs": [
    {
     "data": {
      "text/plain": [
       "array([1140.98999023, 1147.80004883, 1162.0300293 , 1142.31994629,\n",
       "       1175.76000977, 1193.19995117, 1184.26000977, 1198.84997559,\n",
       "       1223.9699707 , 1231.54003906, 1194.43005371, 1200.48999023,\n",
       "       1215.        , 1197.25      , 1202.16003418, 1204.61999512,\n",
       "       1217.86999512, 1221.09997559, 1227.13000488, 1236.33996582,\n",
       "       1248.83996582, 1264.55004883, 1272.18005371, 1287.57995605,\n",
       "       1188.47998047])"
      ]
     },
     "execution_count": 111,
     "metadata": {},
     "output_type": "execute_result"
    }
   ],
   "source": [
    "x[x > z]"
   ]
  },
  {
   "cell_type": "markdown",
   "metadata": {},
   "source": [
    "### Exercícios!\n",
    "Dado o array abaixo, o que é retornado por `a[[True, False, False, False, True]]`? (pense antes de rodar)"
   ]
  },
  {
   "cell_type": "code",
   "execution_count": 112,
   "metadata": {
    "ExecuteTime": {
     "end_time": "2019-05-17T00:40:49.435553Z",
     "start_time": "2019-05-17T00:40:49.428563Z"
    }
   },
   "outputs": [
    {
     "data": {
      "text/plain": [
       "array([[ 0,  1,  2,  3],\n",
       "       [ 4,  5,  6,  7],\n",
       "       [ 8,  9, 10, 11],\n",
       "       [12, 13, 14, 15],\n",
       "       [16, 17, 18, 19]])"
      ]
     },
     "execution_count": 112,
     "metadata": {},
     "output_type": "execute_result"
    }
   ],
   "source": [
    "a = np.arange(20).reshape(5,4)\n",
    "a"
   ]
  },
  {
   "cell_type": "code",
   "execution_count": 113,
   "metadata": {
    "ExecuteTime": {
     "end_time": "2019-05-17T00:41:03.762767Z",
     "start_time": "2019-05-17T00:41:03.754773Z"
    }
   },
   "outputs": [
    {
     "data": {
      "text/plain": [
       "array([[ 0,  1,  2,  3],\n",
       "       [16, 17, 18, 19]])"
      ]
     },
     "execution_count": 113,
     "metadata": {},
     "output_type": "execute_result"
    }
   ],
   "source": [
    "a[[True, False, False, False, True]]"
   ]
  },
  {
   "cell_type": "markdown",
   "metadata": {},
   "source": [
    "Quantos elementos estão entre 40 e 60?"
   ]
  },
  {
   "cell_type": "code",
   "execution_count": 114,
   "metadata": {
    "ExecuteTime": {
     "end_time": "2019-05-17T00:41:11.089200Z",
     "start_time": "2019-05-17T00:41:11.084203Z"
    }
   },
   "outputs": [],
   "source": [
    "a = np.array([[17, 18, 34, 78, 65],\n",
    "              [26, 92, 48, 56,  6],\n",
    "              [19, 41, 97, 52, 43],\n",
    "              [62, 49, 74, 97,  5],\n",
    "              [65, 93,  3, 15, 22]])"
   ]
  },
  {
   "cell_type": "code",
   "execution_count": 115,
   "metadata": {
    "ExecuteTime": {
     "end_time": "2019-05-17T00:41:51.436511Z",
     "start_time": "2019-05-17T00:41:51.429516Z"
    }
   },
   "outputs": [
    {
     "data": {
      "text/plain": [
       "6"
      ]
     },
     "execution_count": 115,
     "metadata": {},
     "output_type": "execute_result"
    }
   ],
   "source": [
    "np.sum((a>40) & (a<60))"
   ]
  },
  {
   "cell_type": "markdown",
   "metadata": {},
   "source": [
    "Divida o array a em b e c, onde b tem as linhas que começam com valores menores que 5 e c as linhas que começam com valores maiores ou iguais a 5:"
   ]
  },
  {
   "cell_type": "code",
   "execution_count": 116,
   "metadata": {
    "ExecuteTime": {
     "end_time": "2019-05-17T00:42:10.402155Z",
     "start_time": "2019-05-17T00:42:10.395143Z"
    }
   },
   "outputs": [
    {
     "data": {
      "text/plain": [
       "array([[3, 3, 7, 4, 7, 3],\n",
       "       [9, 7, 2, 6, 7, 8],\n",
       "       [2, 2, 8, 4, 8, 8],\n",
       "       [6, 3, 4, 9, 8, 2],\n",
       "       [5, 1, 7, 3, 5, 3],\n",
       "       [7, 6, 7, 5, 1, 9],\n",
       "       [2, 4, 1, 4, 6, 2],\n",
       "       [2, 8, 7, 7, 9, 9],\n",
       "       [6, 9, 9, 1, 3, 4],\n",
       "       [2, 2, 5, 7, 9, 8],\n",
       "       [2, 7, 9, 4, 9, 5],\n",
       "       [2, 3, 5, 9, 9, 3],\n",
       "       [5, 4, 8, 8, 9, 1],\n",
       "       [8, 6, 7, 9, 7, 9],\n",
       "       [4, 9, 4, 5, 8, 4]])"
      ]
     },
     "execution_count": 116,
     "metadata": {},
     "output_type": "execute_result"
    }
   ],
   "source": [
    "a = np.random.randint(1, 10, 90).reshape(15,6)\n",
    "a"
   ]
  },
  {
   "cell_type": "code",
   "execution_count": 117,
   "metadata": {
    "ExecuteTime": {
     "end_time": "2019-05-17T00:42:35.653853Z",
     "start_time": "2019-05-17T00:42:35.647856Z"
    }
   },
   "outputs": [
    {
     "data": {
      "text/plain": [
       "array([3, 3, 4, 3, 2, 2, 2, 4, 3, 4, 2, 1, 3, 3, 1, 2, 4, 1, 4, 2, 2, 1,\n",
       "       3, 4, 2, 2, 2, 4, 2, 3, 3, 4, 1, 4, 4, 4])"
      ]
     },
     "execution_count": 117,
     "metadata": {},
     "output_type": "execute_result"
    }
   ],
   "source": [
    "b = a[a<5]\n",
    "b"
   ]
  },
  {
   "cell_type": "code",
   "execution_count": 118,
   "metadata": {
    "ExecuteTime": {
     "end_time": "2019-05-17T00:42:47.589766Z",
     "start_time": "2019-05-17T00:42:47.582769Z"
    }
   },
   "outputs": [
    {
     "data": {
      "text/plain": [
       "array([[3, 3, 7, 4, 7, 3],\n",
       "       [2, 2, 8, 4, 8, 8],\n",
       "       [2, 4, 1, 4, 6, 2],\n",
       "       [2, 8, 7, 7, 9, 9],\n",
       "       [2, 2, 5, 7, 9, 8],\n",
       "       [2, 7, 9, 4, 9, 5],\n",
       "       [2, 3, 5, 9, 9, 3],\n",
       "       [4, 9, 4, 5, 8, 4]])"
      ]
     },
     "execution_count": 118,
     "metadata": {},
     "output_type": "execute_result"
    }
   ],
   "source": [
    "b_mask = a[:, 0] < 5\n",
    "a[b_mask]"
   ]
  },
  {
   "cell_type": "code",
   "execution_count": 119,
   "metadata": {
    "ExecuteTime": {
     "end_time": "2019-05-17T00:43:28.395494Z",
     "start_time": "2019-05-17T00:43:28.388496Z"
    }
   },
   "outputs": [
    {
     "data": {
      "text/plain": [
       "array([[9, 7, 2, 6, 7, 8],\n",
       "       [6, 3, 4, 9, 8, 2],\n",
       "       [5, 1, 7, 3, 5, 3],\n",
       "       [7, 6, 7, 5, 1, 9],\n",
       "       [6, 9, 9, 1, 3, 4],\n",
       "       [5, 4, 8, 8, 9, 1],\n",
       "       [8, 6, 7, 9, 7, 9]])"
      ]
     },
     "execution_count": 119,
     "metadata": {},
     "output_type": "execute_result"
    }
   ],
   "source": [
    "c_mask = a[:, 0] >= 5\n",
    "a[c_mask]"
   ]
  },
  {
   "cell_type": "markdown",
   "metadata": {},
   "source": [
    "Crie uma matriz 5 x 5 com números inteiros entre 0 e 9. Agora retorne a primeira linha somada com a última, subtraída pelo número exatamente no centro da matriz:"
   ]
  },
  {
   "cell_type": "code",
   "execution_count": 121,
   "metadata": {
    "ExecuteTime": {
     "end_time": "2019-05-17T00:45:49.967010Z",
     "start_time": "2019-05-17T00:45:49.959015Z"
    }
   },
   "outputs": [
    {
     "data": {
      "text/plain": [
       "array([[1, 7, 1, 5, 8],\n",
       "       [0, 9, 6, 1, 2],\n",
       "       [8, 2, 5, 5, 7],\n",
       "       [8, 3, 1, 7, 1],\n",
       "       [8, 9, 9, 6, 5]])"
      ]
     },
     "execution_count": 121,
     "metadata": {},
     "output_type": "execute_result"
    }
   ],
   "source": [
    "m5_5 = np.random.randint(0, 10, (5,5))\n",
    "m5_5"
   ]
  },
  {
   "cell_type": "code",
   "execution_count": 122,
   "metadata": {
    "ExecuteTime": {
     "end_time": "2019-05-17T00:46:15.699152Z",
     "start_time": "2019-05-17T00:46:15.692159Z"
    }
   },
   "outputs": [
    {
     "data": {
      "text/plain": [
       "array([1, 7, 1, 5, 8])"
      ]
     },
     "execution_count": 122,
     "metadata": {},
     "output_type": "execute_result"
    }
   ],
   "source": [
    "m5_5[0, ]"
   ]
  },
  {
   "cell_type": "code",
   "execution_count": 123,
   "metadata": {
    "ExecuteTime": {
     "end_time": "2019-05-17T00:46:34.101377Z",
     "start_time": "2019-05-17T00:46:34.095381Z"
    }
   },
   "outputs": [
    {
     "data": {
      "text/plain": [
       "array([8, 9, 9, 6, 5])"
      ]
     },
     "execution_count": 123,
     "metadata": {},
     "output_type": "execute_result"
    }
   ],
   "source": [
    "m5_5[-1, ]"
   ]
  },
  {
   "cell_type": "code",
   "execution_count": 124,
   "metadata": {
    "ExecuteTime": {
     "end_time": "2019-05-17T00:47:26.668909Z",
     "start_time": "2019-05-17T00:47:26.662916Z"
    }
   },
   "outputs": [
    {
     "data": {
      "text/plain": [
       "array([ 4, 10,  4,  8, 11])"
      ]
     },
     "execution_count": 124,
     "metadata": {},
     "output_type": "execute_result"
    }
   ],
   "source": [
    "(m5_5[0, ] + m5_5[-1, 0]) - m5_5[2, 2]"
   ]
  },
  {
   "cell_type": "markdown",
   "metadata": {},
   "source": [
    "### _Views_ vs _Copy_\n",
    "NumPy evita fazer cópias desnecessárias dos dados. Apesar disso ser super eficiente, também facilita para cometermos erros:"
   ]
  },
  {
   "cell_type": "code",
   "execution_count": 125,
   "metadata": {
    "ExecuteTime": {
     "end_time": "2019-05-17T00:47:55.502666Z",
     "start_time": "2019-05-17T00:47:55.495670Z"
    }
   },
   "outputs": [
    {
     "data": {
      "text/plain": [
       "array([[ 0,  1,  2,  3],\n",
       "       [ 4,  5,  6,  7],\n",
       "       [ 8,  9, 10, 11]])"
      ]
     },
     "execution_count": 125,
     "metadata": {},
     "output_type": "execute_result"
    }
   ],
   "source": [
    "a = np.arange(12).reshape(3,4)\n",
    "a"
   ]
  },
  {
   "cell_type": "code",
   "execution_count": 126,
   "metadata": {
    "ExecuteTime": {
     "end_time": "2019-05-17T00:48:11.333042Z",
     "start_time": "2019-05-17T00:48:11.327046Z"
    }
   },
   "outputs": [
    {
     "data": {
      "text/plain": [
       "array([[ 1,  2],\n",
       "       [ 5,  6],\n",
       "       [ 9, 10]])"
      ]
     },
     "execution_count": 126,
     "metadata": {},
     "output_type": "execute_result"
    }
   ],
   "source": [
    "v = a[:,1:3]\n",
    "v"
   ]
  },
  {
   "cell_type": "markdown",
   "metadata": {},
   "source": [
    "`v` é uma _view_ de `a` (um pedaço), mas não uma cópia."
   ]
  },
  {
   "cell_type": "code",
   "execution_count": 127,
   "metadata": {
    "ExecuteTime": {
     "end_time": "2019-05-17T00:48:25.463406Z",
     "start_time": "2019-05-17T00:48:25.457411Z"
    }
   },
   "outputs": [
    {
     "data": {
      "text/plain": [
       "array([[100, 100],\n",
       "       [100, 100],\n",
       "       [100, 100]])"
      ]
     },
     "execution_count": 127,
     "metadata": {},
     "output_type": "execute_result"
    }
   ],
   "source": [
    "v[:] = 100\n",
    "v"
   ]
  },
  {
   "cell_type": "markdown",
   "metadata": {},
   "source": [
    "O que isso significa?"
   ]
  },
  {
   "cell_type": "code",
   "execution_count": null,
   "metadata": {},
   "outputs": [],
   "source": [
    "\"\"\"\n",
    ".\n",
    ".\n",
    ".\n",
    ".\n",
    ".\n",
    ".\n",
    ".\n",
    ".\n",
    ".\n",
    ".\n",
    ".\n",
    ".\n",
    ".\n",
    ".\n",
    ".\n",
    ".\n",
    ".\n",
    ".\n",
    ".\n",
    ".\n",
    ".\n",
    ".\n",
    ".\n",
    ".\n",
    ".\n",
    ".\n",
    ".\n",
    ".\n",
    ".\n",
    ".\n",
    ".\n",
    ".\n",
    ".\n",
    ".\n",
    ".\n",
    ".\n",
    ".\n",
    ".\n",
    ".\n",
    ".\n",
    ".\n",
    ".\"\"\""
   ]
  },
  {
   "cell_type": "code",
   "execution_count": 128,
   "metadata": {
    "ExecuteTime": {
     "end_time": "2019-05-17T00:48:42.401804Z",
     "start_time": "2019-05-17T00:48:42.395807Z"
    }
   },
   "outputs": [
    {
     "data": {
      "text/plain": [
       "array([[  0, 100, 100,   3],\n",
       "       [  4, 100, 100,   7],\n",
       "       [  8, 100, 100,  11]])"
      ]
     },
     "execution_count": 128,
     "metadata": {},
     "output_type": "execute_result"
    }
   ],
   "source": [
    "a"
   ]
  },
  {
   "cell_type": "markdown",
   "metadata": {},
   "source": [
    "Para resolver isso, você pode usar o método `copy` (mas só se precisar mesmo):"
   ]
  },
  {
   "cell_type": "code",
   "execution_count": 129,
   "metadata": {
    "ExecuteTime": {
     "end_time": "2019-05-17T00:49:11.574717Z",
     "start_time": "2019-05-17T00:49:11.568720Z"
    }
   },
   "outputs": [
    {
     "data": {
      "text/plain": [
       "array([[ 1,  2],\n",
       "       [ 5,  6],\n",
       "       [ 9, 10]])"
      ]
     },
     "execution_count": 129,
     "metadata": {},
     "output_type": "execute_result"
    }
   ],
   "source": [
    "a = np.arange(12).reshape(3,4)\n",
    "\n",
    "c = a[:,1:3].copy()\n",
    "c"
   ]
  },
  {
   "cell_type": "markdown",
   "metadata": {},
   "source": [
    "Agora `c` é uma cópia de `a`."
   ]
  },
  {
   "cell_type": "code",
   "execution_count": 130,
   "metadata": {
    "ExecuteTime": {
     "end_time": "2019-05-17T00:49:14.245550Z",
     "start_time": "2019-05-17T00:49:14.239553Z"
    }
   },
   "outputs": [
    {
     "data": {
      "text/plain": [
       "array([[ 0,  1,  2,  3],\n",
       "       [ 4,  5,  6,  7],\n",
       "       [ 8,  9, 10, 11]])"
      ]
     },
     "execution_count": 130,
     "metadata": {},
     "output_type": "execute_result"
    }
   ],
   "source": [
    "c[:] = 100\n",
    "a"
   ]
  },
  {
   "cell_type": "markdown",
   "metadata": {},
   "source": [
    "## Usando imagens para explorar _arrays_"
   ]
  },
  {
   "cell_type": "code",
   "execution_count": 131,
   "metadata": {
    "ExecuteTime": {
     "end_time": "2019-05-17T00:49:55.467569Z",
     "start_time": "2019-05-17T00:49:55.461575Z"
    }
   },
   "outputs": [],
   "source": [
    "from matplotlib.image import imread\n",
    "from matplotlib.pyplot import imshow"
   ]
  },
  {
   "cell_type": "code",
   "execution_count": 132,
   "metadata": {
    "ExecuteTime": {
     "end_time": "2019-05-17T00:50:03.148327Z",
     "start_time": "2019-05-17T00:50:01.953391Z"
    }
   },
   "outputs": [
    {
     "data": {
      "text/plain": [
       "<matplotlib.image.AxesImage at 0x187d1852278>"
      ]
     },
     "execution_count": 132,
     "metadata": {},
     "output_type": "execute_result"
    },
    {
     "data": {
      "image/png": "[encoded data removed]",
      "text/plain": [
       "<Figure size 432x288 with 1 Axes>"
      ]
     },
     "metadata": {
      "needs_background": "light"
     },
     "output_type": "display_data"
    }
   ],
   "source": [
    "img = imread('cat.png')\n",
    "imshow(img)"
   ]
  },
  {
   "cell_type": "markdown",
   "metadata": {},
   "source": [
    "Investigando um pouco mais o que é uma imagem, vemos que é apenas um array de três dimensões:"
   ]
  },
  {
   "cell_type": "code",
   "execution_count": 133,
   "metadata": {
    "ExecuteTime": {
     "end_time": "2019-05-17T00:50:14.684614Z",
     "start_time": "2019-05-17T00:50:14.679617Z"
    }
   },
   "outputs": [
    {
     "name": "stdout",
     "output_type": "stream",
     "text": [
      "(177, 167, 4)\n",
      "float32\n"
     ]
    }
   ],
   "source": [
    "print(img.shape)\n",
    "print(img.dtype)"
   ]
  },
  {
   "cell_type": "markdown",
   "metadata": {},
   "source": [
    "Assim sendo, podemos manipular os valores da imagem da forma que bem entendermos!"
   ]
  },
  {
   "cell_type": "code",
   "execution_count": 134,
   "metadata": {
    "ExecuteTime": {
     "end_time": "2019-05-17T00:50:48.969885Z",
     "start_time": "2019-05-17T00:50:48.665063Z"
    }
   },
   "outputs": [
    {
     "data": {
      "text/plain": [
       "<matplotlib.image.AxesImage at 0x187d00faa58>"
      ]
     },
     "execution_count": 134,
     "metadata": {},
     "output_type": "execute_result"
    },
    {
     "data": {
      "image/png": "[encoded data removed]",
      "text/plain": [
       "<Figure size 432x288 with 1 Axes>"
      ]
     },
     "metadata": {
      "needs_background": "light"
     },
     "output_type": "display_data"
    }
   ],
   "source": [
    "imshow(img[:100, :200])"
   ]
  },
  {
   "cell_type": "markdown",
   "metadata": {},
   "source": [
    "### Exercícios com imagens\n",
    "_Because we can._ \n",
    "\n",
    "Faça um close dramático nos olhos do gato!"
   ]
  },
  {
   "cell_type": "code",
   "execution_count": 135,
   "metadata": {
    "ExecuteTime": {
     "end_time": "2019-05-17T00:56:30.061970Z",
     "start_time": "2019-05-17T00:56:29.817111Z"
    }
   },
   "outputs": [
    {
     "data": {
      "text/plain": [
       "<matplotlib.image.AxesImage at 0x187cff9bcf8>"
      ]
     },
     "execution_count": 135,
     "metadata": {},
     "output_type": "execute_result"
    },
    {
     "data": {
      "image/png": "[encoded data removed]",
      "text/plain": [
       "<Figure size 432x288 with 1 Axes>"
      ]
     },
     "metadata": {
      "needs_background": "light"
     },
     "output_type": "display_data"
    }
   ],
   "source": [
    "imshow(img[65:85, 50:130])"
   ]
  },
  {
   "cell_type": "markdown",
   "metadata": {},
   "source": [
    "O gato não quer ser identificada. Vamos esconder seus mustache com uma tarja preta."
   ]
  },
  {
   "cell_type": "code",
   "execution_count": 145,
   "metadata": {
    "ExecuteTime": {
     "end_time": "2019-05-17T01:04:39.356029Z",
     "start_time": "2019-05-17T01:04:39.350035Z"
    }
   },
   "outputs": [],
   "source": [
    "i = img.copy()"
   ]
  },
  {
   "cell_type": "code",
   "execution_count": 146,
   "metadata": {
    "ExecuteTime": {
     "end_time": "2019-05-17T01:05:15.409139Z",
     "start_time": "2019-05-17T01:05:15.044348Z"
    }
   },
   "outputs": [
    {
     "data": {
      "text/plain": [
       "<matplotlib.image.AxesImage at 0x187d2acf9b0>"
      ]
     },
     "execution_count": 146,
     "metadata": {},
     "output_type": "execute_result"
    },
    {
     "data": {
      "image/png": "[encoded data removed]",
      "text/plain": [
       "<Figure size 432x288 with 1 Axes>"
      ]
     },
     "metadata": {
      "needs_background": "light"
     },
     "output_type": "display_data"
    }
   ],
   "source": [
    "i[100:125, 60:120, :3] = 0\n",
    "imshow(i)"
   ]
  },
  {
   "cell_type": "markdown",
   "metadata": {},
   "source": [
    "O gato quer ser um astro de cinema. Faça sua imagem parecer um tela _widescreen_ (tarjas pretas inferiores e superiores)."
   ]
  },
  {
   "cell_type": "markdown",
   "metadata": {},
   "source": [
    "Como seria essa imagem sem nenhum tom verde? Coloque 0 no canal verde e plote a imagem:"
   ]
  },
  {
   "cell_type": "code",
   "execution_count": 144,
   "metadata": {
    "ExecuteTime": {
     "end_time": "2019-05-17T01:03:52.284624Z",
     "start_time": "2019-05-17T01:03:51.929829Z"
    }
   },
   "outputs": [
    {
     "data": {
      "text/plain": [
       "<matplotlib.image.AxesImage at 0x187d21f9080>"
      ]
     },
     "execution_count": 144,
     "metadata": {},
     "output_type": "execute_result"
    },
    {
     "data": {
      "image/png": "[encoded data removed]",
      "text/plain": [
       "<Figure size 432x288 with 1 Axes>"
      ]
     },
     "metadata": {
      "needs_background": "light"
     },
     "output_type": "display_data"
    }
   ],
   "source": [
    "i = img.copy()\n",
    "i[:, :, 0] = 0\n",
    "i[:, :, 1] = 0\n",
    "imshow(i)"
   ]
  },
  {
   "cell_type": "markdown",
   "metadata": {},
   "source": [
    "## Funções\n",
    "NumPy oferece várias funções matemáticas clássicas e todas estão prontas para operar em _arrays_, elemento a elemento:"
   ]
  },
  {
   "cell_type": "code",
   "execution_count": 147,
   "metadata": {
    "ExecuteTime": {
     "end_time": "2019-05-17T01:06:21.432610Z",
     "start_time": "2019-05-17T01:06:21.424616Z"
    }
   },
   "outputs": [
    {
     "data": {
      "text/plain": [
       "array([ 2,  4,  1, 16])"
      ]
     },
     "execution_count": 147,
     "metadata": {},
     "output_type": "execute_result"
    }
   ],
   "source": [
    "a = np.array([2, 4, 1, 16])\n",
    "a"
   ]
  },
  {
   "cell_type": "code",
   "execution_count": 148,
   "metadata": {
    "ExecuteTime": {
     "end_time": "2019-05-17T01:06:31.009999Z",
     "start_time": "2019-05-17T01:06:31.004006Z"
    }
   },
   "outputs": [
    {
     "data": {
      "text/plain": [
       "array([1., 2., 0., 4.])"
      ]
     },
     "execution_count": 148,
     "metadata": {},
     "output_type": "execute_result"
    }
   ],
   "source": [
    "np.log2(a)"
   ]
  },
  {
   "cell_type": "code",
   "execution_count": 149,
   "metadata": {
    "ExecuteTime": {
     "end_time": "2019-05-17T01:06:33.047246Z",
     "start_time": "2019-05-17T01:06:33.042249Z"
    }
   },
   "outputs": [
    {
     "data": {
      "text/plain": [
       "array([1.41421356, 2.        , 1.        , 4.        ])"
      ]
     },
     "execution_count": 149,
     "metadata": {},
     "output_type": "execute_result"
    }
   ],
   "source": [
    "np.sqrt(a)"
   ]
  },
  {
   "cell_type": "code",
   "execution_count": 150,
   "metadata": {
    "ExecuteTime": {
     "end_time": "2019-05-17T01:06:36.806067Z",
     "start_time": "2019-05-17T01:06:36.800072Z"
    }
   },
   "outputs": [
    {
     "data": {
      "text/plain": [
       "array([  4,  16,   1, 256], dtype=int32)"
      ]
     },
     "execution_count": 150,
     "metadata": {},
     "output_type": "execute_result"
    }
   ],
   "source": [
    "np.power(a, 2)"
   ]
  },
  {
   "cell_type": "code",
   "execution_count": 151,
   "metadata": {
    "ExecuteTime": {
     "end_time": "2019-05-17T01:06:48.981370Z",
     "start_time": "2019-05-17T01:06:48.975375Z"
    }
   },
   "outputs": [
    {
     "data": {
      "text/plain": [
       "array([  4,  16,   1, 256], dtype=int32)"
      ]
     },
     "execution_count": 151,
     "metadata": {},
     "output_type": "execute_result"
    }
   ],
   "source": [
    "a**2"
   ]
  },
  {
   "cell_type": "markdown",
   "metadata": {},
   "source": [
    "## Gráficos!\n",
    "Vamos aprender o básico do básico de Matplotlib para podermos visualizar algumas das nossas análises. O principal método da biblioteca é o `plt.plot(x, y)`."
   ]
  },
  {
   "cell_type": "code",
   "execution_count": 152,
   "metadata": {
    "ExecuteTime": {
     "end_time": "2019-05-17T01:07:20.874503Z",
     "start_time": "2019-05-17T01:07:20.870506Z"
    }
   },
   "outputs": [],
   "source": [
    "import matplotlib.pyplot as plt"
   ]
  },
  {
   "cell_type": "markdown",
   "metadata": {},
   "source": [
    "Se quisermos plotar os pontos (1, 1), (2, 2) e (3, 3) com diferentes tipos de plot:"
   ]
  },
  {
   "cell_type": "code",
   "execution_count": 154,
   "metadata": {
    "ExecuteTime": {
     "end_time": "2019-05-17T01:07:53.663769Z",
     "start_time": "2019-05-17T01:07:53.297980Z"
    }
   },
   "outputs": [
    {
     "data": {
      "text/plain": [
       "[<matplotlib.lines.Line2D at 0x187d2d74b70>]"
      ]
     },
     "execution_count": 154,
     "metadata": {},
     "output_type": "execute_result"
    },
    {
     "data": {
      "image/png": "[encoded data removed]",
      "text/plain": [
       "<Figure size 432x288 with 1 Axes>"
      ]
     },
     "metadata": {
      "needs_background": "light"
     },
     "output_type": "display_data"
    }
   ],
   "source": [
    "plt.plot([1,2,3], [1,2,3])"
   ]
  },
  {
   "cell_type": "markdown",
   "metadata": {},
   "source": [
    "É bem simples, como vimos, só lembre-se que cada eixo fica em um _array_ separado, ao invés de passarmos os pontos juntos:"
   ]
  },
  {
   "cell_type": "code",
   "execution_count": 155,
   "metadata": {
    "ExecuteTime": {
     "end_time": "2019-05-17T01:07:58.349927Z",
     "start_time": "2019-05-17T01:07:58.026114Z"
    }
   },
   "outputs": [
    {
     "data": {
      "text/plain": [
       "[<matplotlib.lines.Line2D at 0x187d2dc2358>]"
      ]
     },
     "execution_count": 155,
     "metadata": {},
     "output_type": "execute_result"
    },
    {
     "data": {
      "image/png": "[encoded data removed]",
      "text/plain": [
       "<Figure size 432x288 with 1 Axes>"
      ]
     },
     "metadata": {
      "needs_background": "light"
     },
     "output_type": "display_data"
    }
   ],
   "source": [
    "x = np.array([-3,-2,-1,-0,1,2,3])\n",
    "plt.plot(x, x**2)"
   ]
  },
  {
   "cell_type": "markdown",
   "metadata": {},
   "source": [
    "Nosso plot parece meio quadradão :/\n",
    "\n",
    "Podemos combinar os geradores de _arrays_ com as funções NumPy para plotar mais pontos e visualizar diferentes funções:"
   ]
  },
  {
   "cell_type": "code",
   "execution_count": 156,
   "metadata": {
    "ExecuteTime": {
     "end_time": "2019-05-17T01:08:14.725080Z",
     "start_time": "2019-05-17T01:08:14.339304Z"
    }
   },
   "outputs": [
    {
     "data": {
      "text/plain": [
       "[<matplotlib.lines.Line2D at 0x187d2e03128>]"
      ]
     },
     "execution_count": 156,
     "metadata": {},
     "output_type": "execute_result"
    },
    {
     "data": {
      "image/png": "[encoded data removed]",
      "text/plain": [
       "<Figure size 432x288 with 1 Axes>"
      ]
     },
     "metadata": {
      "needs_background": "light"
     },
     "output_type": "display_data"
    }
   ],
   "source": [
    "x = np.linspace(-4, 4, 100)\n",
    "plt.plot(x, x)\n",
    "plt.plot(x, 2*x)\n",
    "plt.plot(x, x**2 - 4, '--')\n",
    "plt.plot(x, np.sin(x))"
   ]
  },
  {
   "cell_type": "markdown",
   "metadata": {},
   "source": [
    "Matplolib é extremamente customizável, mas teremos tempo pra explorar suas funcionalidades em outra aula."
   ]
  },
  {
   "cell_type": "code",
   "execution_count": 157,
   "metadata": {
    "ExecuteTime": {
     "end_time": "2019-05-17T01:08:24.210105Z",
     "start_time": "2019-05-17T01:08:23.920269Z"
    }
   },
   "outputs": [
    {
     "data": {
      "text/plain": [
       "<matplotlib.legend.Legend at 0x187d30d57b8>"
      ]
     },
     "execution_count": 157,
     "metadata": {},
     "output_type": "execute_result"
    },
    {
     "data": {
      "image/png": "[encoded data removed]",
      "text/plain": [
       "<Figure size 432x288 with 1 Axes>"
      ]
     },
     "metadata": {
      "needs_background": "light"
     },
     "output_type": "display_data"
    }
   ],
   "source": [
    "x = np.linspace(-4, 4, 100)\n",
    "plt.plot(x, x, label = 'identidade')\n",
    "plt.plot(x, -2*x, label = 'linear')\n",
    "plt.plot(x, x**2 - 1, label = 'quadrática')\n",
    "plt.title('Título')\n",
    "plt.xlabel('Eixo x')\n",
    "plt.ylabel('Eixo y')\n",
    "plt.xlim((-3, 4))\n",
    "plt.ylim((-2, 4))\n",
    "plt.legend()"
   ]
  },
  {
   "cell_type": "markdown",
   "metadata": {},
   "source": [
    "### Com os dados obtidos do Google, monte um grafico com a diferença da valorização diária"
   ]
  },
  {
   "cell_type": "code",
   "execution_count": 160,
   "metadata": {
    "ExecuteTime": {
     "end_time": "2019-05-17T01:09:11.833768Z",
     "start_time": "2019-05-17T01:09:11.462980Z"
    }
   },
   "outputs": [
    {
     "data": {
      "text/plain": [
       "(array([ 2.,  3.,  5.,  8., 11.,  4.,  7.,  1.,  0.,  2.]),\n",
       " array([-20.81994629, -15.6069458 , -10.39394531,  -5.18094482,\n",
       "          0.03205566,   5.24505615,  10.45805664,  15.67105713,\n",
       "         20.88405762,  26.09705811,  31.31005859]),\n",
       " <a list of 10 Patch objects>)"
      ]
     },
     "execution_count": 160,
     "metadata": {},
     "output_type": "execute_result"
    },
    {
     "data": {
      "image/png": "[encoded data removed]",
      "text/plain": [
       "<Figure size 432x288 with 1 Axes>"
      ]
     },
     "metadata": {
      "needs_background": "light"
     },
     "output_type": "display_data"
    }
   ],
   "source": [
    "plt.hist(x-z)"
   ]
  },
  {
   "cell_type": "markdown",
   "metadata": {},
   "source": [
    "## Agregações\n",
    "NumPy oferece funções que agregam múltiplos valores em um único valor, como `sum` e `mean`:"
   ]
  },
  {
   "cell_type": "markdown",
   "metadata": {},
   "source": [
    "> Ah, lembram de Desvio Padrão?"
   ]
  },
  {
   "cell_type": "code",
   "execution_count": null,
   "metadata": {},
   "outputs": [],
   "source": [
    "\"\"\"\n",
    ".\n",
    ".\n",
    ".\n",
    ".\n",
    ".\n",
    ".\n",
    ".\n",
    ".\n",
    ".\n",
    ".\n",
    ".\n",
    ".\n",
    ".\n",
    ".\n",
    ".\n",
    ".\n",
    ".\n",
    ".\n",
    ".\n",
    ".\n",
    ".\n",
    ".\n",
    ".\n",
    ".\n",
    ".\n",
    ".\n",
    ".\n",
    ".\n",
    ".\n",
    ".\n",
    ".\n",
    ".\n",
    ".\n",
    ".\n",
    ".\n",
    ".\n",
    ".\n",
    ".\n",
    ".\n",
    ".\n",
    ".\n",
    ".\"\"\""
   ]
  },
  {
   "cell_type": "markdown",
   "metadata": {},
   "source": [
    "#### Desvio Padrão\n",
    "![image.png](https://calculareconverter.com.br/wp-content/uploads/2018/08/formula-desvio-padrao.png)"
   ]
  },
  {
   "cell_type": "code",
   "execution_count": 161,
   "metadata": {
    "ExecuteTime": {
     "end_time": "2019-05-17T01:11:01.639208Z",
     "start_time": "2019-05-17T01:11:00.866652Z"
    }
   },
   "outputs": [
    {
     "data": {
      "text/plain": [
       "<matplotlib.image.AxesImage at 0x187d317a160>"
      ]
     },
     "execution_count": 161,
     "metadata": {},
     "output_type": "execute_result"
    },
    {
     "data": {
      "image/png": "[encoded data removed]",
      "text/plain": [
       "<Figure size 1080x1440 with 1 Axes>"
      ]
     },
     "metadata": {
      "needs_background": "light"
     },
     "output_type": "display_data"
    }
   ],
   "source": [
    "img = imread('Desvio Padrão.png')\n",
    "plt.figure(figsize=(15,20))\n",
    "imshow(img)"
   ]
  },
  {
   "cell_type": "code",
   "execution_count": 163,
   "metadata": {
    "ExecuteTime": {
     "end_time": "2019-05-17T01:12:17.903704Z",
     "start_time": "2019-05-17T01:12:17.898708Z"
    }
   },
   "outputs": [
    {
     "data": {
      "text/plain": [
       "array([0, 1, 2, 3, 4, 5, 6, 7, 8, 9])"
      ]
     },
     "execution_count": 163,
     "metadata": {},
     "output_type": "execute_result"
    }
   ],
   "source": [
    "a"
   ]
  },
  {
   "cell_type": "code",
   "execution_count": 162,
   "metadata": {
    "ExecuteTime": {
     "end_time": "2019-05-17T01:12:09.249858Z",
     "start_time": "2019-05-17T01:12:09.240864Z"
    }
   },
   "outputs": [
    {
     "name": "stdout",
     "output_type": "stream",
     "text": [
      " sum: 45\n",
      " min: 0\n",
      " max: 9\n",
      " cum: [ 0  1  3  6 10 15 21 28 36 45]\n",
      "mean: 4.5\n",
      " std:  2.8722813232690143\n"
     ]
    }
   ],
   "source": [
    "a = np.arange(10)\n",
    "\n",
    "print(' sum:', a.sum())\n",
    "print(' min:', a.min())\n",
    "print(' max:', a.max())\n",
    "print(' cum:', a.cumsum())\n",
    "print('mean:', a.mean())\n",
    "print(' std: ', a.std())"
   ]
  },
  {
   "cell_type": "markdown",
   "metadata": {},
   "source": [
    "Notem como é possível chamar tanto `np.func(a)`, ou `a.func()`.\n",
    "\n",
    "Quando temos mais de uma dimensão podemos fazer agregações em dimensões específicas usando o argumento `axis`:"
   ]
  },
  {
   "cell_type": "code",
   "execution_count": 164,
   "metadata": {
    "ExecuteTime": {
     "end_time": "2019-05-17T01:13:07.999631Z",
     "start_time": "2019-05-17T01:13:07.991636Z"
    }
   },
   "outputs": [
    {
     "data": {
      "text/plain": [
       "array([[ 0,  1,  2,  3],\n",
       "       [ 4,  5,  6,  7],\n",
       "       [ 8,  9, 10, 11]])"
      ]
     },
     "execution_count": 164,
     "metadata": {},
     "output_type": "execute_result"
    }
   ],
   "source": [
    "m = np.arange(12).reshape(3,4)\n",
    "m"
   ]
  },
  {
   "cell_type": "code",
   "execution_count": 167,
   "metadata": {
    "ExecuteTime": {
     "end_time": "2019-05-17T01:13:48.640706Z",
     "start_time": "2019-05-17T01:13:48.633713Z"
    }
   },
   "outputs": [
    {
     "data": {
      "text/plain": [
       "66"
      ]
     },
     "execution_count": 167,
     "metadata": {},
     "output_type": "execute_result"
    }
   ],
   "source": [
    "np.sum(m, axis=None)"
   ]
  },
  {
   "attachments": {
    "image.png": {
     "image/png": "[encoded data removed]"
    }
   },
   "cell_type": "markdown",
   "metadata": {},
   "source": [
    "![image.png](attachment:image.png)\n",
    "\n",
    "\n",
    "Muitos métodos oferecem um opção `arg`, que ao invés de retornar o valor, retorna o índice:"
   ]
  },
  {
   "cell_type": "code",
   "execution_count": 168,
   "metadata": {
    "ExecuteTime": {
     "end_time": "2019-05-17T01:13:56.018939Z",
     "start_time": "2019-05-17T01:13:56.008945Z"
    }
   },
   "outputs": [
    {
     "data": {
      "text/plain": [
       "(array([1, 2], dtype=int64),)"
      ]
     },
     "execution_count": 168,
     "metadata": {},
     "output_type": "execute_result"
    }
   ],
   "source": [
    "a = np.array([4, 8, 8, 2, 5, 6, 0])\n",
    "np.where(np.max(a) == a)"
   ]
  },
  {
   "cell_type": "markdown",
   "metadata": {},
   "source": [
    "## Outliers\n",
    "Um outlier é um valor anormalmente maior ou menor que os outros valores de uma mesma variável (_array_). Eles costumam atrapalhar análises e métodos estatísticos por serem uma anomalia. Vamos definirmos um outlier como qualquer valor da variável X que esteja distante da média de X por mais de 3 vezes o desvio padrão de X. Liste os outliers da variável abaixo:"
   ]
  },
  {
   "cell_type": "markdown",
   "metadata": {},
   "source": [
    "![image.png](https://www.wellbeingatschool.org.nz/sites/default/files/W@S_boxplot-labels.png)"
   ]
  },
  {
   "cell_type": "code",
   "execution_count": 169,
   "metadata": {
    "ExecuteTime": {
     "end_time": "2019-05-17T01:18:49.639429Z",
     "start_time": "2019-05-17T01:18:49.632435Z"
    }
   },
   "outputs": [],
   "source": [
    "a = np.array([-16.6, -145.72, 66.36, -197.01, -118.13, 133.02, 117.31, 83.64, 103.38, \n",
    "              61.06, 129.33, -85.02, -202.67, 86.2, -66.51, -40.59, 39.86, 24.75, 15.58, \n",
    "              3023.3, 59.52, -89.94, 61.73, -55.74, -31.21, -150.92, 122.08, 44.03, 6.66, \n",
    "              129.76, -105.09, 113.48, -178.97, -71.71, -66.32, 55.31, 41.04, 107.6, 81.87, \n",
    "              2430.6, -140.71, -98.84, 52.57, 3.2, 22.77, -81.76, -49.85, 162.47, 167.89, 75.32])"
   ]
  },
  {
   "cell_type": "code",
   "execution_count": 170,
   "metadata": {
    "ExecuteTime": {
     "end_time": "2019-05-17T01:18:50.766783Z",
     "start_time": "2019-05-17T01:18:50.758789Z"
    }
   },
   "outputs": [
    {
     "data": {
      "text/plain": [
       "array([3023.3, 2430.6])"
      ]
     },
     "execution_count": 170,
     "metadata": {},
     "output_type": "execute_result"
    }
   ],
   "source": [
    "outliers_mask = np.abs(a-a.mean()) > 3*a.std()\n",
    "a[outliers_mask]"
   ]
  }
 ],
 "metadata": {
  "kernelspec": {
   "display_name": "Python 3",
   "language": "python",
   "name": "python3"
  },
  "language_info": {
   "codemirror_mode": {
    "name": "ipython",
    "version": 3
   },
   "file_extension": ".py",
   "mimetype": "text/x-python",
   "name": "python",
   "nbconvert_exporter": "python",
   "pygments_lexer": "ipython3",
   "version": "3.6.8"
  },
  "toc": {
   "base_numbering": 1,
   "nav_menu": {},
   "number_sections": true,
   "sideBar": true,
   "skip_h1_title": false,
   "title_cell": "Table of Contents",
   "title_sidebar": "Contents",
   "toc_cell": false,
   "toc_position": {
    "height": "calc(100% - 180px)",
    "left": "10px",
    "top": "150px",
    "width": "426.667px"
   },
   "toc_section_display": true,
   "toc_window_display": false
  },
  "varInspector": {
   "cols": {
    "lenName": 16,
    "lenType": 16,
    "lenVar": 40
   },
   "kernels_config": {
    "python": {
     "delete_cmd_postfix": "",
     "delete_cmd_prefix": "del ",
     "library": "var_list.py",
     "varRefreshCmd": "print(var_dic_list())"
    },
    "r": {
     "delete_cmd_postfix": ") ",
     "delete_cmd_prefix": "rm(",
     "library": "var_list.r",
     "varRefreshCmd": "cat(var_dic_list()) "
    }
   },
   "types_to_exclude": [
    "module",
    "function",
    "builtin_function_or_method",
    "instance",
    "_Feature"
   ],
   "window_display": false
  }
 },
 "nbformat": 4,
 "nbformat_minor": 2
}
