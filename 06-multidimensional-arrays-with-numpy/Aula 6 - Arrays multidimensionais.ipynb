{
 "cells": [
  {
   "cell_type": "markdown",
   "metadata": {},
   "source": [
    "# Aula 6 - Análise de dados com ARRAYS Multidimensionais\n",
    "![image.png](https://somostera.com/wp-content/uploads/2017/08/Tera_logo_250.jpg)"
   ]
  },
  {
   "cell_type": "markdown",
   "metadata": {
    "ExecuteTime": {
     "end_time": "2019-02-19T01:18:38.427639Z",
     "start_time": "2019-02-19T01:18:38.419642Z"
    }
   },
   "source": [
    "## Warm Up\n",
    "\n",
    "![image.png](https://media.giphy.com/media/xUA7b71qSL8niEMWU8/giphy.gif)"
   ]
  },
  {
   "cell_type": "markdown",
   "metadata": {},
   "source": [
    "## Expectativas!\n",
    "\n",
    "O que vocês esperam da aula de hoje?\n",
    "\n",
    "![image.png](https://img.buzzfeed.com/buzzfeed-static/static/enhanced/web04/2012/2/14/17/enhanced-buzz-8358-1329258536-95.jpg?downsize=800:*&output-format=auto&output-quality=auto)"
   ]
  },
  {
   "cell_type": "markdown",
   "metadata": {
    "ExecuteTime": {
     "end_time": "2019-02-19T01:25:09.915383Z",
     "start_time": "2019-02-19T01:25:09.907385Z"
    }
   },
   "source": [
    "# Índice\n",
    "\n",
    "- [WTF](#WTF??)\n",
    "- [Vantagem](#Tá,-qual-é-a-vantagem?)\n",
    "- [Universo Mágico das matrizes e álgebra linear](#NumPy-e-o-mágico-universo-das-matrizes-e-álgebra-linear)\n",
    "- [Mãos na massa](#Mãos-na-massa)\n",
    "- [Ferramentas legais](#Ferramentas-legais)\n",
    "- [Jogo rápido](#Jogo-rápido:)\n",
    "- [Array ou list?](#Array-ou-list?)\n",
    "- [Geradores](#Geradores)\n",
    "- [Indexação e atribuições](#Indexação-e-atribuições)\n",
    "- [Slicing](#Slicing)\n",
    "- [Bora trabalhar?](#Bora-trabalhar?)\n",
    "- [Máscaras Booleanas](#Acesso-com-máscaras-booleanas)\n",
    "- [Operações Matemáticas](#Operações-matemáticas-com-arrays)\n",
    "- [Operações Lógicas](#Operações-lógicas)\n",
    "- [Exercícios](#Exercícios!)\n",
    "- [Diferença entre View e Copy](#Views-vs-Copy)\n",
    "- [Usando imagens para explorar arrays](#Usando-imagens-para-explorar-arrays)\n",
    "- [Funções](#Funções)\n",
    "- [Gráficos](#Gráficos!)\n",
    "- [Exercícios](#Exercícios)\n",
    "- [Agregações](#Agregações)\n",
    "- [Outliers](#Outliers)"
   ]
  },
  {
   "cell_type": "markdown",
   "metadata": {
    "ExecuteTime": {
     "end_time": "2019-02-19T01:12:07.330827Z",
     "start_time": "2019-02-19T01:12:07.202841Z"
    }
   },
   "source": [
    "### WTF??\n",
    "\n",
    "![image.png](https://media.giphy.com/media/1PRfJv5tXRive/giphy.gif)"
   ]
  },
  {
   "cell_type": "markdown",
   "metadata": {},
   "source": [
    "Por partes:\n",
    "* _array_ é um vetor. Um vetor é uma lista!\n",
    "\n",
    "![image.png](https://imagens-revista.vivadecora.com.br/uploads/2018/04/Lista-de-compras-no-papel.jpg)\n",
    "\n",
    "* Um _array_ de duas dimensões é uma lista de listas.\n",
    "\n",
    "* _array_ multidimensional é um _array_ de _arrays_ ou uma lista de listas.\n",
    "![image.png](https://media.giphy.com/media/nMiaaz3g6SjrW/giphy.gif)\n",
    "\n",
    "### Tá, qual é a vantagem?"
   ]
  },
  {
   "cell_type": "code",
   "execution_count": null,
   "metadata": {
    "ExecuteTime": {
     "end_time": "2019-02-19T09:34:53.253960Z",
     "start_time": "2019-02-19T09:34:53.226972Z"
    }
   },
   "outputs": [],
   "source": [
    "\"\"\"\n",
    ".\n",
    ".\n",
    ".\n",
    ".\n",
    ".\n",
    ".\n",
    ".\n",
    ".\n",
    ".\n",
    ".\n",
    ".\n",
    ".\n",
    ".\n",
    ".\n",
    ".\n",
    ".\n",
    ".\n",
    ".\n",
    ".\n",
    ".\n",
    ".\n",
    ".\n",
    ".\n",
    ".\n",
    ".\n",
    ".\n",
    ".\n",
    ".\n",
    ".\n",
    ".\n",
    ".\n",
    ".\n",
    ".\n",
    ".\n",
    ".\n",
    ".\n",
    ".\n",
    ".\n",
    ".\n",
    ".\n",
    ".\n",
    ".\"\"\""
   ]
  },
  {
   "cell_type": "markdown",
   "metadata": {},
   "source": [
    "> - Alocação na memória\n",
    "- Operações com vetores\n",
    "- Seleções booleanas\n",
    "- Seleção e filtros\n",
    "\n",
    "![image.png](https://cdn-images-1.medium.com/max/1250/1*Ikn1J6siiiCSk4ivYUhdgw.png)\n",
    "\n",
    "\n",
    "## NumPy e o mágico universo das matrizes e álgebra linear\n",
    "NumPy vem de _Numerical Python_ e é uma biblioteca que permite a manipulação de dados em _arrays_.\n",
    "* Agora podemos ter sequências de valores n-dimensionais!\n",
    "* Construção de matrizes e, por sua vez, usar álgebra linear (cenas dos próximos episódios, em _machine learning_).\n",
    "    * Pandas <3\n",
    "* Um mundo de facilidade na manipulação de dados!\n",
    "\n",
    "Mais detalhes em: http://www.numpy.org/"
   ]
  },
  {
   "cell_type": "markdown",
   "metadata": {},
   "source": [
    ">Antes do NumPy, coisas muito simples ficavam consideravelmente complexas.\n",
    "Vamos criar um vetor e multiplicar cada um dos elementos dele por 2 e depois somar 5"
   ]
  },
  {
   "cell_type": "markdown",
   "metadata": {
    "ExecuteTime": {
     "end_time": "2019-02-16T21:05:22.681338Z",
     "start_time": "2019-02-16T21:05:22.677343Z"
    }
   },
   "source": [
    "### Ah! Sem NUMPY"
   ]
  },
  {
   "cell_type": "code",
   "execution_count": null,
   "metadata": {
    "ExecuteTime": {
     "end_time": "2019-02-16T21:07:13.887296Z",
     "start_time": "2019-02-16T21:07:13.883302Z"
    }
   },
   "outputs": [],
   "source": [
    "vector = [-3, 10, 0, -15, -6]"
   ]
  },
  {
   "cell_type": "markdown",
   "metadata": {},
   "source": [
    "> Exercício"
   ]
  },
  {
   "cell_type": "code",
   "execution_count": null,
   "metadata": {
    "ExecuteTime": {
     "end_time": "2019-02-16T21:07:14.737507Z",
     "start_time": "2019-02-16T21:07:14.733509Z"
    }
   },
   "outputs": [],
   "source": []
  },
  {
   "cell_type": "code",
   "execution_count": null,
   "metadata": {
    "ExecuteTime": {
     "end_time": "2019-02-16T21:07:15.417293Z",
     "start_time": "2019-02-16T21:07:15.413314Z"
    }
   },
   "outputs": [],
   "source": []
  },
  {
   "cell_type": "markdown",
   "metadata": {},
   "source": [
    "**E com NumPy?**"
   ]
  },
  {
   "cell_type": "code",
   "execution_count": null,
   "metadata": {
    "ExecuteTime": {
     "end_time": "2019-02-19T10:06:50.209206Z",
     "start_time": "2019-02-19T10:06:50.103269Z"
    }
   },
   "outputs": [],
   "source": [
    "# mais práticas de programação: vamos importar as bibliotecas agora\n",
    "import numpy as np\n",
    "import matplotlib.pyplot as plt\n",
    "import utils\n",
    "import pandas as pd\n",
    "\n",
    "%matplotlib inline"
   ]
  },
  {
   "cell_type": "code",
   "execution_count": null,
   "metadata": {
    "ExecuteTime": {
     "end_time": "2019-02-16T21:07:18.285891Z",
     "start_time": "2019-02-16T21:07:18.280895Z"
    }
   },
   "outputs": [],
   "source": [
    "vector_np = np.array(vector)"
   ]
  },
  {
   "cell_type": "code",
   "execution_count": null,
   "metadata": {
    "ExecuteTime": {
     "end_time": "2019-02-16T21:07:18.949854Z",
     "start_time": "2019-02-16T21:07:18.944857Z"
    }
   },
   "outputs": [],
   "source": [
    "print(type(vector))\n",
    "print(type(vector_np))"
   ]
  },
  {
   "cell_type": "code",
   "execution_count": null,
   "metadata": {
    "ExecuteTime": {
     "end_time": "2019-02-16T21:07:19.672373Z",
     "start_time": "2019-02-16T21:07:19.621404Z"
    }
   },
   "outputs": [],
   "source": [
    "(vector_np * 2) + 5"
   ]
  },
  {
   "cell_type": "markdown",
   "metadata": {},
   "source": [
    "### Hum, e como o Python entende um vetor do tipo lista??"
   ]
  },
  {
   "cell_type": "code",
   "execution_count": null,
   "metadata": {
    "ExecuteTime": {
     "end_time": "2019-02-16T23:44:06.371847Z",
     "start_time": "2019-02-16T23:44:06.363850Z"
    }
   },
   "outputs": [],
   "source": [
    "vector * 2\n",
    "\n",
    "\"\"\"\n",
    ".\n",
    ".\n",
    ".\n",
    ".\n",
    ".\n",
    ".\n",
    ".\n",
    ".\n",
    ".\n",
    ".\n",
    ".\n",
    ".\n",
    ".\n",
    ".\n",
    ".\n",
    ".\n",
    ".\n",
    ".\n",
    ".\n",
    ".\n",
    ".\n",
    ".\n",
    ".\n",
    ".\n",
    ".\n",
    ".\n",
    ".\n",
    ".\n",
    ".\n",
    ".\n",
    ".\n",
    ".\n",
    ".\n",
    ".\n",
    ".\n",
    ".\n",
    ".\n",
    ".\n",
    ".\n",
    ".\n",
    ".\n",
    ".\"\"\""
   ]
  },
  {
   "cell_type": "markdown",
   "metadata": {},
   "source": [
    "#### A vida é mais bonita e natural com NumPy\n",
    "\n",
    "![img](http://gifs.eco.br/wp-content/uploads/2017/12/Gif-de-Cora%C3%A7%C3%A3o-Batendo.gif)\n",
    "\n",
    "### Mãos na massa\n",
    "Você é responsável pelo estoque de uma distribuidora e precisa calcular o preço total de uma compra. Como faz? (Nota: pensar em algoritmos é quebrar um grande problema em problemas menores.)\n",
    "* Cada item tem um preço.\n",
    "* Se mais de uma unidade de um item é comprada, o preço é multiplicado pela quantidade de itens.\n",
    "* Total da compra é a soma da multiplicação."
   ]
  },
  {
   "cell_type": "code",
   "execution_count": null,
   "metadata": {
    "ExecuteTime": {
     "end_time": "2019-02-17T10:24:35.730356Z",
     "start_time": "2019-02-17T10:24:35.722361Z"
    }
   },
   "outputs": [],
   "source": [
    "n_items = np.array([101,   42,   18,   12,   5,  134])           # quantidade de itens comprados\n",
    "prices  = np.array([12.2, 3.9, 15.0, 2.75, 1.1, 0.99])"
   ]
  },
  {
   "cell_type": "markdown",
   "metadata": {},
   "source": [
    "![image.png](https://www.ethic.ninja/wp-content/uploads/2017/11/challenge-accepted-gif-9.gif)"
   ]
  },
  {
   "cell_type": "code",
   "execution_count": null,
   "metadata": {
    "ExecuteTime": {
     "end_time": "2019-02-17T10:24:37.927671Z",
     "start_time": "2019-02-17T10:24:37.886697Z"
    }
   },
   "outputs": [],
   "source": [
    "# sem vantagens NumPy\n"
   ]
  },
  {
   "cell_type": "code",
   "execution_count": null,
   "metadata": {
    "ExecuteTime": {
     "end_time": "2019-02-17T10:25:03.067739Z",
     "start_time": "2019-02-17T10:25:03.060742Z"
    }
   },
   "outputs": [],
   "source": [
    "# com vantagens NumPy\n"
   ]
  },
  {
   "cell_type": "markdown",
   "metadata": {},
   "source": [
    "#### Convencidos?\n",
    "E a mágica não para por aí...\n",
    "\n",
    "Podemos definir _arrays_ NumPy passando listas, como já vimos:"
   ]
  },
  {
   "cell_type": "code",
   "execution_count": null,
   "metadata": {},
   "outputs": [],
   "source": [
    "#-- bibliotecas para instalar\n",
    "#!pip install pandas-datareader\n",
    "#!conda install -c anaconda pandas-datareader \n",
    "#import sys\n",
    "#!conda install --yes --prefix {sys.prefix} pandas-datareader"
   ]
  },
  {
   "cell_type": "code",
   "execution_count": null,
   "metadata": {
    "ExecuteTime": {
     "end_time": "2019-02-19T09:53:38.197916Z",
     "start_time": "2019-02-19T09:53:27.187186Z"
    }
   },
   "outputs": [],
   "source": [
    "from datetime import date\n",
    "from pandas_datareader.data import DataReader"
   ]
  },
  {
   "cell_type": "code",
   "execution_count": null,
   "metadata": {
    "ExecuteTime": {
     "end_time": "2019-02-19T09:53:38.228402Z",
     "start_time": "2019-02-19T09:53:38.223403Z"
    }
   },
   "outputs": [],
   "source": [
    "#-- difinindo as datas de exportação\n",
    "start = date(2019, 3, 1)\n",
    "end = date(2019, 4, 30)"
   ]
  },
  {
   "cell_type": "code",
   "execution_count": null,
   "metadata": {
    "ExecuteTime": {
     "end_time": "2019-02-19T09:53:40.339988Z",
     "start_time": "2019-02-19T09:53:38.249388Z"
    }
   },
   "outputs": [],
   "source": [
    "#-- pegando os dados do google\n",
    "ticker = 'GOOG'\n",
    "data_source = 'yahoo'\n",
    "stock_data_google = DataReader(ticker, data_source, start, end)"
   ]
  },
  {
   "cell_type": "code",
   "execution_count": null,
   "metadata": {
    "ExecuteTime": {
     "end_time": "2019-02-19T09:53:48.648910Z",
     "start_time": "2019-02-19T09:53:48.521982Z"
    }
   },
   "outputs": [],
   "source": [
    "stock_data_google"
   ]
  },
  {
   "cell_type": "code",
   "execution_count": null,
   "metadata": {
    "ExecuteTime": {
     "end_time": "2019-02-19T09:53:58.771727Z",
     "start_time": "2019-02-19T09:53:58.768729Z"
    }
   },
   "outputs": [],
   "source": [
    "np_google_close = np.array(stock_data_google.loc[:,'Close'])"
   ]
  },
  {
   "cell_type": "code",
   "execution_count": null,
   "metadata": {
    "ExecuteTime": {
     "end_time": "2019-02-19T09:53:59.440074Z",
     "start_time": "2019-02-19T09:53:59.435075Z"
    }
   },
   "outputs": [],
   "source": [
    "np_google_close"
   ]
  },
  {
   "cell_type": "code",
   "execution_count": null,
   "metadata": {
    "ExecuteTime": {
     "end_time": "2019-02-19T09:56:31.831211Z",
     "start_time": "2019-02-19T09:56:31.823214Z"
    }
   },
   "outputs": [],
   "source": [
    "#-- np_google_close\n",
    "\"\"\"np.array([1140.98999023, 1147.80004883, 1162.0300293 , 1157.85998535,\n",
    "       1143.30004883, 1142.31994629, 1175.76000977, 1193.19995117,\n",
    "       1193.31994629, 1185.55004883, 1184.45996094, 1184.26000977,\n",
    "       1198.84997559, 1223.9699707 , 1231.54003906, 1205.5       ,\n",
    "       1193.        , 1184.61999512, 1173.02001953, 1168.48999023,\n",
    "       1173.31005859, 1194.43005371, 1200.48999023, 1205.92004395,\n",
    "       1215.        , 1207.15002441, 1203.83996582, 1197.25      ,\n",
    "       1202.16003418, 1204.61999512, 1217.86999512, 1221.09997559,\n",
    "       1227.13000488, 1236.33996582, 1236.36999512, 1248.83996582,\n",
    "       1264.55004883, 1256.        , 1263.44995117, 1272.18005371,\n",
    "       1287.57995605, 1188.47998047, 1168.07995605])"
   ]
  },
  {
   "cell_type": "code",
   "execution_count": null,
   "metadata": {
    "ExecuteTime": {
     "end_time": "2019-02-19T09:54:00.239127Z",
     "start_time": "2019-02-19T09:54:00.233133Z"
    }
   },
   "outputs": [],
   "source": [
    "np_google_2d = np.array(stock_data_google.loc[:,['Close','Volume']])"
   ]
  },
  {
   "cell_type": "code",
   "execution_count": null,
   "metadata": {
    "ExecuteTime": {
     "end_time": "2019-02-19T09:54:09.842220Z",
     "start_time": "2019-02-19T09:54:09.836224Z"
    }
   },
   "outputs": [],
   "source": [
    "np_google_2d"
   ]
  },
  {
   "cell_type": "code",
   "execution_count": null,
   "metadata": {
    "ExecuteTime": {
     "end_time": "2019-02-19T09:56:15.998324Z",
     "start_time": "2019-02-19T09:56:15.984333Z"
    }
   },
   "outputs": [],
   "source": [
    "#-- np_google_2d\n",
    "\"\"\"np.array([[1.14098999e+03, 1.45030000e+06],\n",
    "       [1.14780005e+03, 1.44600000e+06],\n",
    "       [1.16203003e+03, 1.44320000e+06],\n",
    "       [1.15785999e+03, 1.09930000e+06],\n",
    "       [1.14330005e+03, 1.16610000e+06],\n",
    "       [1.14231995e+03, 1.21240000e+06],\n",
    "       [1.17576001e+03, 1.71920000e+06],\n",
    "       [1.19319995e+03, 2.01310000e+06],\n",
    "       [1.19331995e+03, 1.43590000e+06],\n",
    "       [1.18555005e+03, 1.17280000e+06],\n",
    "       [1.18445996e+03, 2.46180000e+06],\n",
    "       [1.18426001e+03, 1.29260000e+06],\n",
    "       [1.19884998e+03, 1.52070000e+06],\n",
    "       [1.22396997e+03, 2.22740000e+06],\n",
    "       [1.23154004e+03, 1.20400000e+06],\n",
    "       [1.20550000e+03, 1.71420000e+06],\n",
    "       [1.19300000e+03, 1.49680000e+06],\n",
    "       [1.18462000e+03, 1.90120000e+06],\n",
    "       [1.17302002e+03, 1.40020000e+06],\n",
    "       [1.16848999e+03, 1.01240000e+06],\n",
    "       [1.17331006e+03, 1.26990000e+06],\n",
    "       [1.19443005e+03, 1.25250000e+06],\n",
    "       [1.20048999e+03, 8.27900000e+05],\n",
    "       [1.20592004e+03, 1.01780000e+06],\n",
    "       [1.21500000e+03, 9.50000000e+05],\n",
    "       [1.20715002e+03, 9.07200000e+05],\n",
    "       [1.20383997e+03, 8.60200000e+05],\n",
    "       [1.19725000e+03, 8.76400000e+05],\n",
    "       [1.20216003e+03, 7.24600000e+05],\n",
    "       [1.20462000e+03, 7.10200000e+05],\n",
    "       [1.21787000e+03, 9.33400000e+05],\n",
    "       [1.22109998e+03, 1.18740000e+06],\n",
    "       [1.22713000e+03, 8.56300000e+05],\n",
    "       [1.23633997e+03, 1.22190000e+06],\n",
    "       [1.23637000e+03, 1.33180000e+06],\n",
    "       [1.24883997e+03, 8.07300000e+05],\n",
    "       [1.26455005e+03, 1.31990000e+06],\n",
    "       [1.25600000e+03, 1.01880000e+06],\n",
    "       [1.26344995e+03, 1.10730000e+06],\n",
    "       [1.27218005e+03, 1.24140000e+06],\n",
    "       [1.28757996e+03, 2.49940000e+06],\n",
    "       [1.18847998e+03, 6.20700000e+06],\n",
    "       [1.16807996e+03, 2.63920000e+06]])"
   ]
  },
  {
   "cell_type": "code",
   "execution_count": null,
   "metadata": {
    "ExecuteTime": {
     "end_time": "2019-02-19T09:54:01.288587Z",
     "start_time": "2019-02-19T09:54:01.282589Z"
    }
   },
   "outputs": [],
   "source": [
    "google = stock_data_google.loc[:,['Close', 'Volume', 'Open']]"
   ]
  },
  {
   "cell_type": "code",
   "execution_count": null,
   "metadata": {
    "ExecuteTime": {
     "end_time": "2019-02-19T09:55:27.165770Z",
     "start_time": "2019-02-19T09:55:27.152781Z"
    }
   },
   "outputs": [],
   "source": [
    "#-- google\n",
    "\"\"\"np.array([[1.14098999e+03, 1.45030000e+06, 1.12490002e+03],\n",
    "       [1.14780005e+03, 1.44600000e+06, 1.14698999e+03],\n",
    "       [1.16203003e+03, 1.44320000e+06, 1.15006006e+03],\n",
    "       [1.15785999e+03, 1.09930000e+06, 1.16248999e+03],\n",
    "       [1.14330005e+03, 1.16610000e+06, 1.15571997e+03],\n",
    "       [1.14231995e+03, 1.21240000e+06, 1.12672998e+03],\n",
    "       [1.17576001e+03, 1.71920000e+06, 1.14444995e+03],\n",
    "       [1.19319995e+03, 2.01310000e+06, 1.17826001e+03],\n",
    "       [1.19331995e+03, 1.43590000e+06, 1.20064502e+03],\n",
    "       [1.18555005e+03, 1.17280000e+06, 1.19451001e+03],\n",
    "       [1.18445996e+03, 2.46180000e+06, 1.19338000e+03],\n",
    "       [1.18426001e+03, 1.29260000e+06, 1.18330005e+03],\n",
    "       [1.19884998e+03, 1.52070000e+06, 1.18881006e+03],\n",
    "       [1.22396997e+03, 2.22740000e+06, 1.19734998e+03],\n",
    "       [1.23154004e+03, 1.20400000e+06, 1.21600000e+03],\n",
    "       [1.20550000e+03, 1.71420000e+06, 1.22631995e+03],\n",
    "       [1.19300000e+03, 1.49680000e+06, 1.19693005e+03],\n",
    "       [1.18462000e+03, 1.90120000e+06, 1.19853003e+03],\n",
    "       [1.17302002e+03, 1.40020000e+06, 1.18550000e+03],\n",
    "       [1.16848999e+03, 1.01240000e+06, 1.17154004e+03],\n",
    "       [1.17331006e+03, 1.26990000e+06, 1.17490002e+03],\n",
    "       [1.19443005e+03, 1.25250000e+06, 1.18409998e+03],\n",
    "       [1.20048999e+03, 8.27900000e+05, 1.19531995e+03],\n",
    "       [1.20592004e+03, 1.01780000e+06, 1.20747998e+03],\n",
    "       [1.21500000e+03, 9.50000000e+05, 1.20593994e+03],\n",
    "       [1.20715002e+03, 9.07200000e+05, 1.21498999e+03],\n",
    "       [1.20383997e+03, 8.60200000e+05, 1.20789001e+03],\n",
    "       [1.19725000e+03, 8.76400000e+05, 1.19600000e+03],\n",
    "       [1.20216003e+03, 7.24600000e+05, 1.20068005e+03],\n",
    "       [1.20462000e+03, 7.10200000e+05, 1.20395996e+03],\n",
    "       [1.21787000e+03, 9.33400000e+05, 1.21000000e+03],\n",
    "       [1.22109998e+03, 1.18740000e+06, 1.21800000e+03],\n",
    "       [1.22713000e+03, 8.56300000e+05, 1.22500000e+03],\n",
    "       [1.23633997e+03, 1.22190000e+06, 1.23300000e+03],\n",
    "       [1.23637000e+03, 1.33180000e+06, 1.23918005e+03],\n",
    "       [1.24883997e+03, 8.07300000e+05, 1.23598999e+03],\n",
    "       [1.26455005e+03, 1.31990000e+06, 1.25068994e+03],\n",
    "       [1.25600000e+03, 1.01880000e+06, 1.26412000e+03],\n",
    "       [1.26344995e+03, 1.10730000e+06, 1.26477002e+03],\n",
    "       [1.27218005e+03, 1.24140000e+06, 1.26900000e+03],\n",
    "       [1.28757996e+03, 2.49940000e+06, 1.27400000e+03],\n",
    "       [1.18847998e+03, 6.20700000e+06, 1.18500000e+03],\n",
    "       [1.16807996e+03, 2.63920000e+06, 1.18805005e+03]])"
   ]
  },
  {
   "cell_type": "markdown",
   "metadata": {},
   "source": [
    "### Ferramentas legais\n",
    "**Dimensões (_rank_) de um _array_:**\n",
    "* Calendário: 2 dimensões\n",
    "* Gasto com alimentação todo mês: 1 dimensão\n",
    "* Jogo da velha ou batalha naval: 2 dimensões"
   ]
  },
  {
   "cell_type": "code",
   "execution_count": null,
   "metadata": {
    "ExecuteTime": {
     "end_time": "2019-02-17T22:22:10.931033Z",
     "start_time": "2019-02-17T22:22:10.926033Z"
    }
   },
   "outputs": [],
   "source": [
    "np_google_close.ndim"
   ]
  },
  {
   "cell_type": "code",
   "execution_count": null,
   "metadata": {
    "ExecuteTime": {
     "end_time": "2019-02-17T22:22:16.556634Z",
     "start_time": "2019-02-17T22:22:16.551637Z"
    },
    "scrolled": true
   },
   "outputs": [],
   "source": [
    "np_google_2d.ndim"
   ]
  },
  {
   "cell_type": "markdown",
   "metadata": {},
   "source": [
    "**Formato (_shape_) do _array_:**\n",
    "* Calendário: 5 x 7 (mas varia)\n",
    "* Gasto com alimentação todo mês: 12\n",
    "* Jogo da velha: 3 x 3\n",
    "* Sudoku: 9 x 9"
   ]
  },
  {
   "cell_type": "code",
   "execution_count": null,
   "metadata": {
    "ExecuteTime": {
     "end_time": "2019-02-17T22:22:31.822653Z",
     "start_time": "2019-02-17T22:22:31.815657Z"
    }
   },
   "outputs": [],
   "source": [
    "np_google_close.shape"
   ]
  },
  {
   "cell_type": "code",
   "execution_count": null,
   "metadata": {
    "ExecuteTime": {
     "end_time": "2019-02-17T22:22:35.524144Z",
     "start_time": "2019-02-17T22:22:35.518149Z"
    }
   },
   "outputs": [],
   "source": [
    "np_google_2d.shape"
   ]
  },
  {
   "cell_type": "markdown",
   "metadata": {},
   "source": [
    "### Jogo rápido:\n",
    "Quantas e quais são as dimensões desses _arrays_?"
   ]
  },
  {
   "cell_type": "code",
   "execution_count": null,
   "metadata": {},
   "outputs": [],
   "source": [
    "np.array([[ 0.4519243 ,  0.17657074,  0.82173731,  0.73718558],\n",
    "          [ 0.37762179,  0.09939027,  0.84810815,  0.57109009]])"
   ]
  },
  {
   "cell_type": "code",
   "execution_count": null,
   "metadata": {},
   "outputs": [],
   "source": [
    "#-- complete com o número de dimensões\n"
   ]
  },
  {
   "cell_type": "code",
   "execution_count": null,
   "metadata": {},
   "outputs": [],
   "source": [
    "np.array([9, 1, 8, 5, 0, 3])"
   ]
  },
  {
   "cell_type": "code",
   "execution_count": null,
   "metadata": {},
   "outputs": [],
   "source": [
    "#-- complete com o número de dimensões\n"
   ]
  },
  {
   "cell_type": "code",
   "execution_count": null,
   "metadata": {
    "ExecuteTime": {
     "end_time": "2019-02-17T10:46:17.020769Z",
     "start_time": "2019-02-17T10:46:17.015771Z"
    }
   },
   "outputs": [],
   "source": [
    "teste3 = np.array([[[ 0,  1,  2],\n",
    "           [ 3,  4,  5],\n",
    "           [ 6,  7,  8]],\n",
    "\n",
    "          [[ 9, 10, 11],\n",
    "           [12, 13, 14],\n",
    "           [15, 16, 17]],\n",
    "\n",
    "          [[18, 19, 20],\n",
    "           [21, 22, 23],\n",
    "           [24, 25, 26]]])"
   ]
  },
  {
   "cell_type": "code",
   "execution_count": null,
   "metadata": {
    "ExecuteTime": {
     "end_time": "2019-02-17T22:23:00.562212Z",
     "start_time": "2019-02-17T22:23:00.558215Z"
    }
   },
   "outputs": [],
   "source": [
    "#-- complete com o número de dimensões\n"
   ]
  },
  {
   "cell_type": "markdown",
   "metadata": {},
   "source": [
    "### _Array_ ou _list_?"
   ]
  },
  {
   "cell_type": "code",
   "execution_count": null,
   "metadata": {
    "ExecuteTime": {
     "end_time": "2019-02-19T09:37:31.804007Z",
     "start_time": "2019-02-19T09:37:31.797992Z"
    }
   },
   "outputs": [],
   "source": [
    "\"\"\"\n",
    ".\n",
    ".\n",
    ".\n",
    ".\n",
    ".\n",
    ".\n",
    ".\n",
    ".\n",
    ".\n",
    ".\n",
    ".\n",
    ".\n",
    ".\n",
    ".\n",
    ".\n",
    ".\n",
    ".\n",
    ".\n",
    ".\n",
    ".\n",
    ".\n",
    ".\n",
    ".\n",
    ".\n",
    ".\n",
    ".\n",
    ".\n",
    ".\n",
    ".\n",
    ".\n",
    ".\n",
    ".\n",
    ".\n",
    ".\n",
    ".\n",
    ".\n",
    ".\n",
    ".\n",
    ".\n",
    ".\n",
    ".\n",
    ".\"\"\""
   ]
  },
  {
   "cell_type": "markdown",
   "metadata": {
    "ExecuteTime": {
     "end_time": "2019-02-19T09:36:20.170725Z",
     "start_time": "2019-02-19T09:36:20.163733Z"
    }
   },
   "source": [
    "Listas comportam objetos de diferentes tipos:"
   ]
  },
  {
   "cell_type": "code",
   "execution_count": null,
   "metadata": {},
   "outputs": [],
   "source": [
    "lst = [1, 1., 'one', int]\n",
    "\n",
    "for item in lst:\n",
    "    print(item, type(item))"
   ]
  },
  {
   "cell_type": "markdown",
   "metadata": {},
   "source": [
    "_Arrays_, por outro lado, só podem ter objetos de um mesmo tipo (normalmente numéricos):"
   ]
  },
  {
   "cell_type": "code",
   "execution_count": null,
   "metadata": {},
   "outputs": [],
   "source": [
    "c = np.array([1.0, 2, 3, 4, 5, 'seis'])\n",
    "c"
   ]
  },
  {
   "cell_type": "code",
   "execution_count": null,
   "metadata": {},
   "outputs": [],
   "source": [
    "c.dtype"
   ]
  },
  {
   "cell_type": "markdown",
   "metadata": {},
   "source": [
    "NumPy tenta inferir qual é o tipo que você quer e converte todos pro mesmo tipo (com preferência pelo mais flexível, claro).\n",
    "\n",
    "Listas suportam qualquer dimensão:"
   ]
  },
  {
   "cell_type": "code",
   "execution_count": null,
   "metadata": {},
   "outputs": [],
   "source": [
    "matrix_py = [[1,2,3], ['one', 'two'], [1., 2., 3., 4., 5., 6.], ['one', 2, 3.0]]\n",
    "matrix_py"
   ]
  },
  {
   "cell_type": "markdown",
   "metadata": {},
   "source": [
    "_Arrays_ exigem que toda linha tenha a mesma dimensão pra conseguir montar a matriz."
   ]
  },
  {
   "cell_type": "code",
   "execution_count": null,
   "metadata": {
    "ExecuteTime": {
     "end_time": "2019-02-17T10:45:25.072250Z",
     "start_time": "2019-02-17T10:45:25.065258Z"
    }
   },
   "outputs": [],
   "source": [
    "matrix_np = np.array([[1,2,3], [10,20,30]])\n",
    "print(matrix_np.shape)\n",
    "print(matrix_np.dtype)\n",
    "matrix_np"
   ]
  },
  {
   "cell_type": "markdown",
   "metadata": {},
   "source": [
    "### Geradores\n",
    "As magias NumPynianas incluem geradores de _arrays_ úteis:"
   ]
  },
  {
   "cell_type": "code",
   "execution_count": null,
   "metadata": {},
   "outputs": [],
   "source": [
    "np.ones((3, 4))"
   ]
  },
  {
   "cell_type": "code",
   "execution_count": null,
   "metadata": {},
   "outputs": [],
   "source": [
    "np.zeros((2, 10), dtype = np.int64)"
   ]
  },
  {
   "cell_type": "code",
   "execution_count": null,
   "metadata": {},
   "outputs": [],
   "source": [
    "np.random.random((6, 4))"
   ]
  },
  {
   "cell_type": "code",
   "execution_count": null,
   "metadata": {},
   "outputs": [],
   "source": [
    "np.random.randint(1, 5, (3, 4))"
   ]
  },
  {
   "cell_type": "code",
   "execution_count": null,
   "metadata": {},
   "outputs": [],
   "source": [
    "np.arange(10, 50, 5)      # Valores em sequência np.arange(primeiro inclusivo, último exclusivo, incremento)"
   ]
  },
  {
   "cell_type": "markdown",
   "metadata": {},
   "source": [
    "### Indexação e atribuições\n",
    "Para acessar o i-ésimo elemento de um _array_, basta fazer `a[i]`. Não se esqueça que todos os índices começam em zero!"
   ]
  },
  {
   "cell_type": "code",
   "execution_count": null,
   "metadata": {},
   "outputs": [],
   "source": [
    "a = np.array([0, 10, 20, 30, 40, 50])"
   ]
  },
  {
   "cell_type": "code",
   "execution_count": null,
   "metadata": {},
   "outputs": [],
   "source": [
    "a[4]"
   ]
  },
  {
   "cell_type": "markdown",
   "metadata": {},
   "source": [
    "Da mesma forma, se temos duas dimensões e queremos acessar o elemento na linha `i` e coluna `j`, basta fazer `a[i, j]`."
   ]
  },
  {
   "cell_type": "code",
   "execution_count": null,
   "metadata": {},
   "outputs": [],
   "source": [
    "a = np.array([[1,2,3,4], [5,6,7,8], [9,10,11,12]])\n",
    "a"
   ]
  },
  {
   "cell_type": "markdown",
   "metadata": {},
   "source": [
    "### Como podemos fazer para acessar o número 3?"
   ]
  },
  {
   "cell_type": "code",
   "execution_count": null,
   "metadata": {
    "ExecuteTime": {
     "end_time": "2019-02-17T22:23:43.297448Z",
     "start_time": "2019-02-17T22:23:43.293452Z"
    }
   },
   "outputs": [],
   "source": [
    "#-- escreva o código aqui\n"
   ]
  },
  {
   "cell_type": "markdown",
   "metadata": {},
   "source": [
    "E ainda por cima posso usar a indexação para fazer atribuições!"
   ]
  },
  {
   "cell_type": "code",
   "execution_count": null,
   "metadata": {},
   "outputs": [],
   "source": [
    "z = np.zeros(10, dtype = int)\n",
    "z"
   ]
  },
  {
   "cell_type": "code",
   "execution_count": null,
   "metadata": {},
   "outputs": [],
   "source": [
    "z[4] = 1\n",
    "z"
   ]
  },
  {
   "cell_type": "markdown",
   "metadata": {},
   "source": [
    "### _Slicing_\n",
    "É uma sintaxe que permite indexar intervalos e acessar sub-_arrays_ (fatias de _ arrays_)."
   ]
  },
  {
   "cell_type": "code",
   "execution_count": null,
   "metadata": {
    "ExecuteTime": {
     "end_time": "2019-02-17T10:49:29.384418Z",
     "start_time": "2019-02-17T10:49:29.376423Z"
    }
   },
   "outputs": [],
   "source": [
    "m = np.random.random((10,5))\n",
    "m"
   ]
  },
  {
   "cell_type": "markdown",
   "metadata": {},
   "source": [
    "Para acessar as três primeiras linhas e as duas últimas colunas, "
   ]
  },
  {
   "cell_type": "code",
   "execution_count": null,
   "metadata": {
    "ExecuteTime": {
     "end_time": "2019-02-17T10:51:38.163238Z",
     "start_time": "2019-02-17T10:51:38.156243Z"
    }
   },
   "outputs": [],
   "source": [
    "m[0:3, 3:]"
   ]
  },
  {
   "cell_type": "markdown",
   "metadata": {},
   "source": [
    "Você também pode ignorar um dos limites:"
   ]
  },
  {
   "cell_type": "code",
   "execution_count": null,
   "metadata": {
    "ExecuteTime": {
     "end_time": "2019-02-17T10:50:42.823962Z",
     "start_time": "2019-02-17T10:50:42.815967Z"
    }
   },
   "outputs": [],
   "source": [
    "m[:, 4:5]"
   ]
  },
  {
   "cell_type": "markdown",
   "metadata": {},
   "source": [
    "Ou usar índices negativos!"
   ]
  },
  {
   "cell_type": "code",
   "execution_count": null,
   "metadata": {},
   "outputs": [],
   "source": [
    "m[:3, -2:]"
   ]
  },
  {
   "cell_type": "markdown",
   "metadata": {},
   "source": [
    "E combinar _slicing_ com índices:"
   ]
  },
  {
   "cell_type": "code",
   "execution_count": null,
   "metadata": {},
   "outputs": [],
   "source": [
    "m[0, :3]"
   ]
  },
  {
   "cell_type": "markdown",
   "metadata": {},
   "source": [
    "Note que isso reduz a dimensão do seu _array_:"
   ]
  },
  {
   "cell_type": "code",
   "execution_count": null,
   "metadata": {},
   "outputs": [],
   "source": [
    "print(m.ndim)\n",
    "print(m[0].ndim)\n",
    "print(m[:2, 0].ndim)\n",
    "print(m[0,0].ndim)"
   ]
  },
  {
   "cell_type": "code",
   "execution_count": null,
   "metadata": {},
   "outputs": [],
   "source": [
    "print(m.shape)\n",
    "print(m[0].shape)\n",
    "print(m[:2, 0].shape)\n",
    "print(m[0,0].shape)"
   ]
  },
  {
   "cell_type": "markdown",
   "metadata": {},
   "source": [
    "E atribuições com _slicing_? Pode também!"
   ]
  },
  {
   "cell_type": "code",
   "execution_count": null,
   "metadata": {},
   "outputs": [],
   "source": [
    "m = np.random.random((3,3))\n",
    "m"
   ]
  },
  {
   "cell_type": "code",
   "execution_count": null,
   "metadata": {},
   "outputs": [],
   "source": [
    "m[1, ] = 0\n",
    "m"
   ]
  },
  {
   "cell_type": "markdown",
   "metadata": {},
   "source": [
    "Se as dimensões batem, ainda podemos atribuir um _array_ num _slice_ de outro _array_:"
   ]
  },
  {
   "cell_type": "code",
   "execution_count": null,
   "metadata": {
    "ExecuteTime": {
     "end_time": "2019-02-17T10:52:46.014747Z",
     "start_time": "2019-02-17T10:52:46.008749Z"
    }
   },
   "outputs": [],
   "source": [
    "m = np.zeros((4, 5))\n",
    "m"
   ]
  },
  {
   "cell_type": "code",
   "execution_count": null,
   "metadata": {
    "ExecuteTime": {
     "end_time": "2019-02-17T10:52:47.419629Z",
     "start_time": "2019-02-17T10:52:47.411635Z"
    }
   },
   "outputs": [],
   "source": [
    "m[1] = [1, 2, 3, 4, 5]\n",
    "m[:, -1] = np.ones(4)\n",
    "\n",
    "m"
   ]
  },
  {
   "cell_type": "markdown",
   "metadata": {},
   "source": [
    "## Bora trabalhar?\n",
    "Crie uma matriz com 5 colunas e 3 linhas de valores aleatórios entre 0 e 1. Depois, imprima o valor da segunda linha, terceira coluna."
   ]
  },
  {
   "cell_type": "code",
   "execution_count": null,
   "metadata": {},
   "outputs": [],
   "source": []
  },
  {
   "cell_type": "markdown",
   "metadata": {},
   "source": [
    "Crie um _array_ que vai de 2 a 10 (inclusivos) com incrementos de 0.5 em 0.5 (Dica: `np.arrange` e `np.linspace`)."
   ]
  },
  {
   "cell_type": "code",
   "execution_count": null,
   "metadata": {},
   "outputs": [],
   "source": []
  },
  {
   "cell_type": "markdown",
   "metadata": {},
   "source": [
    "Crie um _array_ 2D com quatro linhas e cinco colunas de zeros, mas com a coluna central de uns."
   ]
  },
  {
   "cell_type": "code",
   "execution_count": null,
   "metadata": {},
   "outputs": [],
   "source": []
  },
  {
   "cell_type": "markdown",
   "metadata": {},
   "source": [
    "Crie uma matriz 10 x 10 com valores aleatórios inteiros entre 0 e 9:"
   ]
  },
  {
   "cell_type": "code",
   "execution_count": null,
   "metadata": {},
   "outputs": [],
   "source": []
  },
  {
   "cell_type": "markdown",
   "metadata": {},
   "source": [
    "Imprima os três primeiros elementos da última linha:"
   ]
  },
  {
   "cell_type": "code",
   "execution_count": null,
   "metadata": {},
   "outputs": [],
   "source": []
  },
  {
   "cell_type": "markdown",
   "metadata": {},
   "source": [
    "Atribua esses elementos aos 3 primeiros da última linha:"
   ]
  },
  {
   "cell_type": "code",
   "execution_count": null,
   "metadata": {},
   "outputs": [],
   "source": []
  },
  {
   "cell_type": "markdown",
   "metadata": {},
   "source": [
    "E se eu quiser esses mesmos 3 elementos nos três primeiros de todas as linhas?"
   ]
  },
  {
   "cell_type": "code",
   "execution_count": null,
   "metadata": {},
   "outputs": [],
   "source": []
  },
  {
   "cell_type": "markdown",
   "metadata": {},
   "source": [
    "### Acesso com máscaras booleanas"
   ]
  },
  {
   "cell_type": "code",
   "execution_count": null,
   "metadata": {},
   "outputs": [],
   "source": [
    "a = np.arange(20).reshape(5,4)\n",
    "a"
   ]
  },
  {
   "cell_type": "markdown",
   "metadata": {},
   "source": [
    "Podemos acessar um _array_ com um _array_ de booleanos com o mesmo _shape_."
   ]
  },
  {
   "cell_type": "code",
   "execution_count": null,
   "metadata": {},
   "outputs": [],
   "source": [
    "a[[True, False, True, True, False]]"
   ]
  },
  {
   "cell_type": "code",
   "execution_count": null,
   "metadata": {},
   "outputs": [],
   "source": [
    "a[:, [True, False, True, False]]"
   ]
  },
  {
   "cell_type": "markdown",
   "metadata": {},
   "source": [
    "Parece estranho, eu sei... mas é bastante útil e fará sentido em breve!\n",
    "\n",
    "#### Lembrete rápido sobre _slicing_\n",
    "* Se você ignorar um dos limites, ele considera todo o restante\n",
    "* O limite inferior é inclusivo, já o limite superior é exclusivo\n",
    "* Você pode usar índices negativos\n",
    "* Diferente da indexação direta, índices inválidos vão retornar um _array_ vazio, e não um erro\n",
    "* _Slincing_ e acessos diretos podem ser combinados, porém lembre-se que seu _array_ perde dimensões com cada acesso\n",
    "\n",
    "### Operações matemáticas com _arrays_\n",
    "Já vimos como o NumPy facilita a vida ao lidar com operações matemáticas em _arrays_ de forma natural. NumPy suporta todas as operações tradicionais e mais muitas outras!\n",
    "\n",
    "A maioria das operações que fazemos é elemento por elemento (_element-wise_), ou seja, se C = A + B, temos que `A.shape == B.shape == C.shape` e para todo i, j temos que `C[i,j] = A[i,j] + B[i,j]`"
   ]
  },
  {
   "cell_type": "code",
   "execution_count": null,
   "metadata": {
    "ExecuteTime": {
     "end_time": "2019-02-17T22:31:17.114915Z",
     "start_time": "2019-02-17T22:31:17.108917Z"
    }
   },
   "outputs": [],
   "source": [
    "google_np = np.array(google)"
   ]
  },
  {
   "cell_type": "code",
   "execution_count": null,
   "metadata": {
    "ExecuteTime": {
     "end_time": "2019-02-18T01:53:26.603535Z",
     "start_time": "2019-02-18T01:53:26.595536Z"
    }
   },
   "outputs": [],
   "source": [
    "google_np"
   ]
  },
  {
   "cell_type": "code",
   "execution_count": null,
   "metadata": {
    "ExecuteTime": {
     "end_time": "2019-02-18T01:53:27.933209Z",
     "start_time": "2019-02-18T01:53:27.925212Z"
    }
   },
   "outputs": [],
   "source": [
    "x = google_np[:, 0]\n",
    "y = google_np[:, 1]\n",
    "z = google_np[:, 2]"
   ]
  },
  {
   "cell_type": "code",
   "execution_count": null,
   "metadata": {
    "ExecuteTime": {
     "end_time": "2019-02-18T01:53:29.938313Z",
     "start_time": "2019-02-18T01:53:29.930318Z"
    }
   },
   "outputs": [],
   "source": [
    "x"
   ]
  },
  {
   "cell_type": "code",
   "execution_count": null,
   "metadata": {
    "ExecuteTime": {
     "end_time": "2019-02-18T01:53:30.684292Z",
     "start_time": "2019-02-18T01:53:30.676312Z"
    }
   },
   "outputs": [],
   "source": [
    "y"
   ]
  },
  {
   "cell_type": "code",
   "execution_count": null,
   "metadata": {
    "ExecuteTime": {
     "end_time": "2019-02-18T01:53:31.473197Z",
     "start_time": "2019-02-18T01:53:31.465184Z"
    }
   },
   "outputs": [],
   "source": [
    "z"
   ]
  },
  {
   "cell_type": "markdown",
   "metadata": {
    "ExecuteTime": {
     "end_time": "2019-02-17T11:21:30.490753Z",
     "start_time": "2019-02-17T11:21:30.482755Z"
    }
   },
   "source": [
    "### Valorização?"
   ]
  },
  {
   "cell_type": "code",
   "execution_count": null,
   "metadata": {
    "ExecuteTime": {
     "end_time": "2019-02-18T01:53:33.383312Z",
     "start_time": "2019-02-18T01:53:33.375316Z"
    }
   },
   "outputs": [],
   "source": [
    "x - z"
   ]
  },
  {
   "cell_type": "markdown",
   "metadata": {},
   "source": [
    "### Valor total ganho por dia de operação?"
   ]
  },
  {
   "cell_type": "code",
   "execution_count": null,
   "metadata": {
    "ExecuteTime": {
     "end_time": "2019-02-18T01:53:17.033772Z",
     "start_time": "2019-02-18T01:53:17.021757Z"
    }
   },
   "outputs": [],
   "source": [
    "(x - z)*y"
   ]
  },
  {
   "cell_type": "markdown",
   "metadata": {},
   "source": [
    "Há também outras formas de se operar _arrays_:"
   ]
  },
  {
   "cell_type": "code",
   "execution_count": null,
   "metadata": {
    "ExecuteTime": {
     "end_time": "2019-02-17T22:31:32.611247Z",
     "start_time": "2019-02-17T22:31:32.604254Z"
    }
   },
   "outputs": [],
   "source": [
    "np.subtract(x, z)"
   ]
  },
  {
   "cell_type": "code",
   "execution_count": null,
   "metadata": {
    "ExecuteTime": {
     "end_time": "2019-02-17T22:31:33.394303Z",
     "start_time": "2019-02-17T22:31:33.385310Z"
    }
   },
   "outputs": [],
   "source": [
    "np.multiply(x, y)"
   ]
  },
  {
   "cell_type": "markdown",
   "metadata": {},
   "source": [
    "Também podemos fazer operações entre um escalar e um _array_, aí o escalar é aplicado a todos os elementos do _array_."
   ]
  },
  {
   "cell_type": "code",
   "execution_count": null,
   "metadata": {
    "ExecuteTime": {
     "end_time": "2019-02-17T22:31:34.792238Z",
     "start_time": "2019-02-17T22:31:34.785241Z"
    }
   },
   "outputs": [],
   "source": [
    "(2*x + y/2)*z"
   ]
  },
  {
   "cell_type": "markdown",
   "metadata": {},
   "source": [
    "NumPy também tem várias funções de comparação:"
   ]
  },
  {
   "cell_type": "code",
   "execution_count": null,
   "metadata": {
    "ExecuteTime": {
     "end_time": "2019-02-17T22:31:57.374455Z",
     "start_time": "2019-02-17T22:31:57.369457Z"
    }
   },
   "outputs": [],
   "source": [
    "np.max(x)"
   ]
  },
  {
   "cell_type": "code",
   "execution_count": null,
   "metadata": {
    "ExecuteTime": {
     "end_time": "2019-02-17T22:32:09.030785Z",
     "start_time": "2019-02-17T22:32:09.019790Z"
    }
   },
   "outputs": [],
   "source": [
    "np.maximum(x, z)"
   ]
  },
  {
   "cell_type": "code",
   "execution_count": null,
   "metadata": {
    "ExecuteTime": {
     "end_time": "2019-02-17T22:32:40.261571Z",
     "start_time": "2019-02-17T22:32:40.254574Z"
    }
   },
   "outputs": [],
   "source": [
    "np.minimum(x, z)"
   ]
  },
  {
   "cell_type": "markdown",
   "metadata": {},
   "source": [
    "### Operações lógicas\n",
    "Operações lógicas são bastante comuns em _arrays_ também:"
   ]
  },
  {
   "cell_type": "code",
   "execution_count": null,
   "metadata": {
    "ExecuteTime": {
     "end_time": "2019-02-17T22:33:01.262397Z",
     "start_time": "2019-02-17T22:33:01.256404Z"
    }
   },
   "outputs": [],
   "source": [
    "x > z"
   ]
  },
  {
   "cell_type": "code",
   "execution_count": null,
   "metadata": {
    "ExecuteTime": {
     "end_time": "2019-02-17T22:33:38.096343Z",
     "start_time": "2019-02-17T22:33:38.091341Z"
    }
   },
   "outputs": [],
   "source": [
    "(z > x) & (y > x)"
   ]
  },
  {
   "cell_type": "markdown",
   "metadata": {},
   "source": [
    "São úteis para contar valores que tornam alguma condição verdade (isso porque o NumPy considera `True = 1` e `False = 0`)"
   ]
  },
  {
   "cell_type": "code",
   "execution_count": null,
   "metadata": {
    "ExecuteTime": {
     "end_time": "2019-02-17T22:34:15.196593Z",
     "start_time": "2019-02-17T22:34:15.189598Z"
    }
   },
   "outputs": [],
   "source": [
    "np.sum(x < z)"
   ]
  },
  {
   "cell_type": "markdown",
   "metadata": {},
   "source": [
    "Também são incrivelmente úteis para indexação e atribuição:"
   ]
  },
  {
   "cell_type": "code",
   "execution_count": null,
   "metadata": {
    "ExecuteTime": {
     "end_time": "2019-02-17T22:34:27.048582Z",
     "start_time": "2019-02-17T22:34:27.042584Z"
    }
   },
   "outputs": [],
   "source": [
    "x[x > z]"
   ]
  },
  {
   "cell_type": "markdown",
   "metadata": {},
   "source": [
    "### Exercícios!\n",
    "Dado o array abaixo, o que é retornado por `a[[True, False, False, False, True]]`? (pense antes de rodar)"
   ]
  },
  {
   "cell_type": "code",
   "execution_count": null,
   "metadata": {},
   "outputs": [],
   "source": [
    "a = np.arange(20).reshape(5,4)\n",
    "a"
   ]
  },
  {
   "cell_type": "code",
   "execution_count": null,
   "metadata": {},
   "outputs": [],
   "source": []
  },
  {
   "cell_type": "markdown",
   "metadata": {},
   "source": [
    "Quantos elementos estão entre 40 e 60?"
   ]
  },
  {
   "cell_type": "code",
   "execution_count": null,
   "metadata": {},
   "outputs": [],
   "source": [
    "a = np.array([[17, 18, 34, 78, 65],\n",
    "              [26, 92, 48, 56,  6],\n",
    "              [19, 41, 97, 52, 43],\n",
    "              [62, 49, 74, 97,  5],\n",
    "              [65, 93,  3, 15, 22]])"
   ]
  },
  {
   "cell_type": "code",
   "execution_count": null,
   "metadata": {},
   "outputs": [],
   "source": []
  },
  {
   "cell_type": "markdown",
   "metadata": {},
   "source": [
    "Divida o array a em b e c, onde b tem as linhas que começam com valores menores que 5 e b as linhas que começam com valores maiores ou iguais a 5:"
   ]
  },
  {
   "cell_type": "code",
   "execution_count": null,
   "metadata": {},
   "outputs": [],
   "source": [
    "a = np.random.randint(1, 10, 90).reshape(15,6)\n",
    "a"
   ]
  },
  {
   "cell_type": "code",
   "execution_count": null,
   "metadata": {},
   "outputs": [],
   "source": []
  },
  {
   "cell_type": "markdown",
   "metadata": {},
   "source": [
    "Crie uma matriz 5 x 5 com números inteiros entre 0 e 9. Agora retorne a primeira linha somada com a última, subtraída pelo número exatamente no centro da matriz:"
   ]
  },
  {
   "cell_type": "code",
   "execution_count": null,
   "metadata": {},
   "outputs": [],
   "source": []
  },
  {
   "cell_type": "markdown",
   "metadata": {},
   "source": [
    "### _Views_ vs _Copy_\n",
    "NumPy evita fazer cópias desnecessárias dos dados. Apesar disso ser super eficiente, também facilita para cometermos erros:"
   ]
  },
  {
   "cell_type": "code",
   "execution_count": null,
   "metadata": {
    "ExecuteTime": {
     "end_time": "2019-02-17T22:45:17.995785Z",
     "start_time": "2019-02-17T22:45:17.988793Z"
    }
   },
   "outputs": [],
   "source": [
    "a = np.arange(12).reshape(3,4)\n",
    "a"
   ]
  },
  {
   "cell_type": "code",
   "execution_count": null,
   "metadata": {
    "ExecuteTime": {
     "end_time": "2019-02-17T22:45:25.559601Z",
     "start_time": "2019-02-17T22:45:25.551613Z"
    }
   },
   "outputs": [],
   "source": [
    "v = a[:,1:3]\n",
    "v"
   ]
  },
  {
   "cell_type": "markdown",
   "metadata": {},
   "source": [
    "`v` é uma _view_ de `a` (um pedaço), mas não uma cópia."
   ]
  },
  {
   "cell_type": "code",
   "execution_count": null,
   "metadata": {
    "ExecuteTime": {
     "end_time": "2019-02-17T22:45:27.296857Z",
     "start_time": "2019-02-17T22:45:27.290864Z"
    }
   },
   "outputs": [],
   "source": [
    "v[:] = 100\n",
    "v"
   ]
  },
  {
   "cell_type": "markdown",
   "metadata": {},
   "source": [
    "O que isso significa?"
   ]
  },
  {
   "cell_type": "code",
   "execution_count": null,
   "metadata": {},
   "outputs": [],
   "source": [
    "\"\"\"\n",
    ".\n",
    ".\n",
    ".\n",
    ".\n",
    ".\n",
    ".\n",
    ".\n",
    ".\n",
    ".\n",
    ".\n",
    ".\n",
    ".\n",
    ".\n",
    ".\n",
    ".\n",
    ".\n",
    ".\n",
    ".\n",
    ".\n",
    ".\n",
    ".\n",
    ".\n",
    ".\n",
    ".\n",
    ".\n",
    ".\n",
    ".\n",
    ".\n",
    ".\n",
    ".\n",
    ".\n",
    ".\n",
    ".\n",
    ".\n",
    ".\n",
    ".\n",
    ".\n",
    ".\n",
    ".\n",
    ".\n",
    ".\n",
    ".\"\"\""
   ]
  },
  {
   "cell_type": "code",
   "execution_count": null,
   "metadata": {
    "ExecuteTime": {
     "end_time": "2019-02-17T22:45:32.785215Z",
     "start_time": "2019-02-17T22:45:32.780219Z"
    }
   },
   "outputs": [],
   "source": [
    "a"
   ]
  },
  {
   "cell_type": "markdown",
   "metadata": {},
   "source": [
    "Para resolver isso, você pode usar o método `copy` (mas só se precisar mesmo):"
   ]
  },
  {
   "cell_type": "code",
   "execution_count": null,
   "metadata": {},
   "outputs": [],
   "source": [
    "a = np.arange(12).reshape(3,4)\n",
    "\n",
    "c = a[:,1:3].copy()\n",
    "c"
   ]
  },
  {
   "cell_type": "markdown",
   "metadata": {},
   "source": [
    "Agora `c` é uma cópia de `a`."
   ]
  },
  {
   "cell_type": "code",
   "execution_count": null,
   "metadata": {},
   "outputs": [],
   "source": [
    "c[:] = 100\n",
    "a"
   ]
  },
  {
   "cell_type": "markdown",
   "metadata": {},
   "source": [
    "## Usando imagens para explorar _arrays_"
   ]
  },
  {
   "cell_type": "code",
   "execution_count": null,
   "metadata": {
    "ExecuteTime": {
     "end_time": "2019-02-19T10:03:39.903685Z",
     "start_time": "2019-02-19T10:03:37.404105Z"
    }
   },
   "outputs": [],
   "source": [
    "from matplotlib.image import imread\n",
    "from matplotlib.pyplot import imshow"
   ]
  },
  {
   "cell_type": "code",
   "execution_count": null,
   "metadata": {
    "ExecuteTime": {
     "end_time": "2019-02-18T00:55:27.138825Z",
     "start_time": "2019-02-18T00:55:26.840996Z"
    }
   },
   "outputs": [],
   "source": [
    "img = imread('cat.png')\n",
    "imshow(img)"
   ]
  },
  {
   "cell_type": "markdown",
   "metadata": {},
   "source": [
    "Investigando um pouco mais o que é uma imagem, vemos que é apenas um array de três dimensões:"
   ]
  },
  {
   "cell_type": "code",
   "execution_count": null,
   "metadata": {
    "ExecuteTime": {
     "end_time": "2019-02-18T00:55:28.344641Z",
     "start_time": "2019-02-18T00:55:28.339644Z"
    }
   },
   "outputs": [],
   "source": [
    "print(img.shape)\n",
    "print(img.dtype)"
   ]
  },
  {
   "cell_type": "markdown",
   "metadata": {},
   "source": [
    "Assim sendo, podemos manipular os valores da imagem da forma que bem entendermos!"
   ]
  },
  {
   "cell_type": "code",
   "execution_count": null,
   "metadata": {
    "ExecuteTime": {
     "end_time": "2019-02-18T00:55:29.772841Z",
     "start_time": "2019-02-18T00:55:29.470012Z"
    }
   },
   "outputs": [],
   "source": [
    "imshow(img[:100, :200])"
   ]
  },
  {
   "cell_type": "markdown",
   "metadata": {},
   "source": [
    "### Exercícios com imagens\n",
    "_Because we can._ \n",
    "\n",
    "Faça um close dramático nos olhos do gato!"
   ]
  },
  {
   "cell_type": "code",
   "execution_count": null,
   "metadata": {},
   "outputs": [],
   "source": []
  },
  {
   "cell_type": "markdown",
   "metadata": {},
   "source": [
    "O gato não quer ser identificada. Vamos esconder seus mustache com uma tarja preta."
   ]
  },
  {
   "cell_type": "code",
   "execution_count": null,
   "metadata": {},
   "outputs": [],
   "source": []
  },
  {
   "cell_type": "markdown",
   "metadata": {},
   "source": [
    "O gato quer ser um astro de cinema. Faça sua imagem parecer um tela _widescreen_ (tarjas pretas inferiores e superiores)."
   ]
  },
  {
   "cell_type": "markdown",
   "metadata": {},
   "source": [
    "Como seria essa imagem sem nenhum tom verde? Coloque 0 no canal verde e plote a imagem:"
   ]
  },
  {
   "cell_type": "code",
   "execution_count": null,
   "metadata": {
    "ExecuteTime": {
     "end_time": "2019-02-18T00:58:12.818393Z",
     "start_time": "2019-02-18T00:58:12.507966Z"
    }
   },
   "outputs": [],
   "source": []
  },
  {
   "cell_type": "markdown",
   "metadata": {},
   "source": [
    "## Funções\n",
    "NumPy oferece várias funções matemáticas clássicas e todas estão prontas para operar em _arrays_, elemento a elemento:"
   ]
  },
  {
   "cell_type": "code",
   "execution_count": null,
   "metadata": {},
   "outputs": [],
   "source": [
    "a = np.array([2, 4, 1, 16])\n",
    "a"
   ]
  },
  {
   "cell_type": "code",
   "execution_count": null,
   "metadata": {},
   "outputs": [],
   "source": [
    "np.log2(a)"
   ]
  },
  {
   "cell_type": "code",
   "execution_count": null,
   "metadata": {},
   "outputs": [],
   "source": [
    "np.sqrt(a)"
   ]
  },
  {
   "cell_type": "code",
   "execution_count": null,
   "metadata": {},
   "outputs": [],
   "source": [
    "np.power(a, 2)"
   ]
  },
  {
   "cell_type": "code",
   "execution_count": null,
   "metadata": {},
   "outputs": [],
   "source": [
    "a**2"
   ]
  },
  {
   "cell_type": "markdown",
   "metadata": {},
   "source": [
    "## Gráficos!\n",
    "Vamos aprender o básico do básico de Matplotlib para podermos visualizar algumas das nossas análises. O principal método da biblioteca é o `plt.plot(x, y)`."
   ]
  },
  {
   "cell_type": "code",
   "execution_count": null,
   "metadata": {},
   "outputs": [],
   "source": [
    "import matplotlib.pyplot as plt"
   ]
  },
  {
   "cell_type": "markdown",
   "metadata": {},
   "source": [
    "Se quisermos plotar os pontos (1, 1), (2, 2) e (3, 3) com diferentes tipos de plot:"
   ]
  },
  {
   "cell_type": "code",
   "execution_count": null,
   "metadata": {},
   "outputs": [],
   "source": [
    "plt.plot([1,2,3], [1,2,3])"
   ]
  },
  {
   "cell_type": "markdown",
   "metadata": {},
   "source": [
    "É bem simples, como vimos, só lembre-se que cada eixo fica em um _array_ separado, ao invés de passarmos os pontos juntos:"
   ]
  },
  {
   "cell_type": "code",
   "execution_count": null,
   "metadata": {},
   "outputs": [],
   "source": [
    "x = np.array([-3,-2,-1,-0,1,2,3])\n",
    "plt.plot(x, x**2)"
   ]
  },
  {
   "cell_type": "markdown",
   "metadata": {},
   "source": [
    "Nosso plot parece meio quadradão :/\n",
    "\n",
    "Podemos combinar os geradores de _arrays_ com as funções NumPy para plotar mais pontos e visualizar diferentes funções:"
   ]
  },
  {
   "cell_type": "code",
   "execution_count": null,
   "metadata": {},
   "outputs": [],
   "source": [
    "x = np.linspace(-4, 4, 100)\n",
    "plt.plot(x, x)\n",
    "plt.plot(x, 2*x)\n",
    "plt.plot(x, x**2 - 4, '--')\n",
    "plt.plot(x, np.sin(x))"
   ]
  },
  {
   "cell_type": "markdown",
   "metadata": {},
   "source": [
    "Matplolib é extremamente customizável, mas teremos tempo pra explorar suas funcionalidades em outra aula."
   ]
  },
  {
   "cell_type": "code",
   "execution_count": null,
   "metadata": {},
   "outputs": [],
   "source": [
    "x = np.linspace(-4, 4, 100)\n",
    "plt.plot(x, x, label = 'identidade')\n",
    "plt.plot(x, -2*x, label = 'linear')\n",
    "plt.plot(x, x**2 - 1, label = 'quadrática')\n",
    "plt.title('Título')\n",
    "plt.xlabel('Eixo x')\n",
    "plt.ylabel('Eixo y')\n",
    "plt.xlim((-3, 4))\n",
    "plt.ylim((-2, 4))\n",
    "plt.legend()"
   ]
  },
  {
   "cell_type": "markdown",
   "metadata": {},
   "source": [
    "### Com os dados obtidos do Google, monte um grafico com a diferença da valorização diária"
   ]
  },
  {
   "cell_type": "code",
   "execution_count": null,
   "metadata": {
    "ExecuteTime": {
     "end_time": "2019-02-18T01:54:09.278013Z",
     "start_time": "2019-02-18T01:54:08.966094Z"
    }
   },
   "outputs": [],
   "source": [
    "plt.hist(x-z)"
   ]
  },
  {
   "cell_type": "markdown",
   "metadata": {},
   "source": [
    "## Agregações\n",
    "NumPy oferece funções que agregam múltiplos valores em um único valor, como `sum` e `mean`:"
   ]
  },
  {
   "cell_type": "markdown",
   "metadata": {},
   "source": [
    "> Ah, lembram de Desvio Padrão?"
   ]
  },
  {
   "cell_type": "code",
   "execution_count": null,
   "metadata": {},
   "outputs": [],
   "source": [
    "\"\"\"\n",
    ".\n",
    ".\n",
    ".\n",
    ".\n",
    ".\n",
    ".\n",
    ".\n",
    ".\n",
    ".\n",
    ".\n",
    ".\n",
    ".\n",
    ".\n",
    ".\n",
    ".\n",
    ".\n",
    ".\n",
    ".\n",
    ".\n",
    ".\n",
    ".\n",
    ".\n",
    ".\n",
    ".\n",
    ".\n",
    ".\n",
    ".\n",
    ".\n",
    ".\n",
    ".\n",
    ".\n",
    ".\n",
    ".\n",
    ".\n",
    ".\n",
    ".\n",
    ".\n",
    ".\n",
    ".\n",
    ".\n",
    ".\n",
    ".\"\"\""
   ]
  },
  {
   "cell_type": "markdown",
   "metadata": {},
   "source": [
    "#### Desvio Padrão\n",
    "![image.png](https://calculareconverter.com.br/wp-content/uploads/2018/08/formula-desvio-padrao.png)"
   ]
  },
  {
   "cell_type": "code",
   "execution_count": null,
   "metadata": {
    "ExecuteTime": {
     "end_time": "2019-02-19T10:07:07.605572Z",
     "start_time": "2019-02-19T10:07:07.111551Z"
    }
   },
   "outputs": [],
   "source": [
    "img = imread('Desvio Padrão.png')\n",
    "plt.figure(figsize=(15,20))\n",
    "imshow(img)"
   ]
  },
  {
   "cell_type": "code",
   "execution_count": null,
   "metadata": {},
   "outputs": [],
   "source": [
    "a = np.arange(10)\n",
    "\n",
    "print(' sum:', a.sum())\n",
    "print(' min:', a.min())\n",
    "print(' max:', a.max())\n",
    "print(' cum:', a.cumsum())\n",
    "print('mean:', a.mean())\n",
    "print(' std: ', a.std())"
   ]
  },
  {
   "cell_type": "markdown",
   "metadata": {},
   "source": [
    "Notem como é possível chamar tanto `np.func(a)`, ou `a.func()`.\n",
    "\n",
    "Quando temos mais de uma dimensão podemos fazer agregações em dimensões específicas usando o argumento `axis`:"
   ]
  },
  {
   "cell_type": "code",
   "execution_count": null,
   "metadata": {},
   "outputs": [],
   "source": [
    "m = np.arange(12).reshape(3,4)\n",
    "m"
   ]
  },
  {
   "cell_type": "code",
   "execution_count": null,
   "metadata": {},
   "outputs": [],
   "source": [
    "np.sum(m, axis=0)"
   ]
  },
  {
   "attachments": {
    "image.png": {
     "image/png": "[encoded data removed]"
    }
   },
   "cell_type": "markdown",
   "metadata": {},
   "source": [
    "![image.png](attachment:image.png)\n",
    "\n",
    "\n",
    "Muitos métodos oferecem um opção `arg`, que ao invés de retornar o valor, retorna o índice:"
   ]
  },
  {
   "cell_type": "code",
   "execution_count": null,
   "metadata": {},
   "outputs": [],
   "source": [
    "a = np.array([4, 8, 8, 2, 5, 6, 0])\n",
    "np.where(np.max(a) == a)"
   ]
  },
  {
   "cell_type": "markdown",
   "metadata": {},
   "source": [
    "## Outliers\n",
    "Um outlier é um valor anormalmente maior ou menor que os outros valores de uma mesma variável (_array_). Eles costumam atrapalhar análises e métodos estatísticos por serem uma anomalia. Vamos definirmos um outlier como qualquer valor da variável X que esteja distante da média de X por mais de 3 vezes o desvio padrão de X. Liste os outliers da variável abaixo:"
   ]
  },
  {
   "cell_type": "markdown",
   "metadata": {},
   "source": [
    "![image.png](https://www.wellbeingatschool.org.nz/sites/default/files/W@S_boxplot-labels.png)"
   ]
  },
  {
   "cell_type": "code",
   "execution_count": null,
   "metadata": {},
   "outputs": [],
   "source": [
    "a = np.array([-16.6, -145.72, 66.36, -197.01, -118.13, 133.02, 117.31, 83.64, 103.38, \n",
    "              61.06, 129.33, -85.02, -202.67, 86.2, -66.51, -40.59, 39.86, 24.75, 15.58, \n",
    "              3023.3, 59.52, -89.94, 61.73, -55.74, -31.21, -150.92, 122.08, 44.03, 6.66, \n",
    "              129.76, -105.09, 113.48, -178.97, -71.71, -66.32, 55.31, 41.04, 107.6, 81.87, \n",
    "              2430.6, -140.71, -98.84, 52.57, 3.2, 22.77, -81.76, -49.85, 162.47, 167.89, 75.32])"
   ]
  },
  {
   "cell_type": "code",
   "execution_count": null,
   "metadata": {},
   "outputs": [],
   "source": [
    "outliers_mask = np.abs(a-a.mean()) > 3*a.std()\n",
    "a[outliers_mask]"
   ]
  }
 ],
 "metadata": {
  "kernelspec": {
   "display_name": "Python 3",
   "language": "python",
   "name": "python3"
  },
  "language_info": {
   "codemirror_mode": {
    "name": "ipython",
    "version": 3
   },
   "file_extension": ".py",
   "mimetype": "text/x-python",
   "name": "python",
   "nbconvert_exporter": "python",
   "pygments_lexer": "ipython3",
   "version": "3.6.8"
  },
  "toc": {
   "base_numbering": 1,
   "nav_menu": {},
   "number_sections": true,
   "sideBar": true,
   "skip_h1_title": false,
   "title_cell": "Table of Contents",
   "title_sidebar": "Contents",
   "toc_cell": false,
   "toc_position": {
    "height": "calc(100% - 180px)",
    "left": "10px",
    "top": "150px",
    "width": "426.667px"
   },
   "toc_section_display": true,
   "toc_window_display": false
  },
  "varInspector": {
   "cols": {
    "lenName": 16,
    "lenType": 16,
    "lenVar": 40
   },
   "kernels_config": {
    "python": {
     "delete_cmd_postfix": "",
     "delete_cmd_prefix": "del ",
     "library": "var_list.py",
     "varRefreshCmd": "print(var_dic_list())"
    },
    "r": {
     "delete_cmd_postfix": ") ",
     "delete_cmd_prefix": "rm(",
     "library": "var_list.r",
     "varRefreshCmd": "cat(var_dic_list()) "
    }
   },
   "types_to_exclude": [
    "module",
    "function",
    "builtin_function_or_method",
    "instance",
    "_Feature"
   ],
   "window_display": false
  }
 },
 "nbformat": 4,
 "nbformat_minor": 2
}
