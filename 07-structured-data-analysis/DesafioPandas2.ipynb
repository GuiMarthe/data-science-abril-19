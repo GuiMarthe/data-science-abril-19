{
 "cells": [
  {
   "cell_type": "markdown",
   "metadata": {},
   "source": [
    "## Selecionando por índice"
   ]
  },
  {
   "cell_type": "markdown",
   "metadata": {},
   "source": [
    "E se eu quiser pegar os valores de uma linha específica do dataframe?"
   ]
  },
  {
   "cell_type": "code",
   "execution_count": 2,
   "metadata": {
    "collapsed": true
   },
   "outputs": [],
   "source": [
    "# Qual comando eu usaria para pegar o registro da linha 11?"
   ]
  },
  {
   "cell_type": "markdown",
   "metadata": {},
   "source": [
    "Também posso ver só o valor de uma coluna, sem escrever o nome, somente pela sua posição"
   ]
  },
  {
   "cell_type": "code",
   "execution_count": 95,
   "metadata": {
    "collapsed": true,
    "scrolled": true
   },
   "outputs": [],
   "source": [
    "# E para pegar a primeira coluna do dataset?"
   ]
  },
  {
   "cell_type": "markdown",
   "metadata": {},
   "source": [
    "Mais detalhes sobre `loc`, `iloc` e `ix` podem ser vistas nesse [link](https://www.shanelynn.ie/select-pandas-dataframe-rows-and-columns-using-iloc-loc-and-ix/)"
   ]
  },
  {
   "cell_type": "markdown",
   "metadata": {},
   "source": [
    "### Desafio 2"
   ]
  },
  {
   "cell_type": "markdown",
   "metadata": {},
   "source": [
    "Será que temos uma quantidade gigante de nulos nesse dataset porque as pessoas não preencheram essas perguntas por multipla escolha ou por que responderam no modo livre? \n",
    "\n",
    "Para validar essa hipótese teremos que carregar o outro dataset, que contém as respostas das perguntas em forma livre e juntar (Pelo menos uma das variáveis) dos dois os datasets. Eu escolhi `DataScienceIdentity`"
   ]
  },
  {
   "cell_type": "markdown",
   "metadata": {},
   "source": [
    "![challenge_panda](https://media.giphy.com/media/K9z3im98oo9Ve/giphy.gif)"
   ]
  },
  {
   "cell_type": "code",
   "execution_count": 2,
   "metadata": {
    "collapsed": true
   },
   "outputs": [],
   "source": [
    "# a ideia do desafio é verificar se quando o índice de um dataset tem resposta no outro dataset esse índice é nulo \n",
    "#- Ou seja: Vamos comparar as linhas dos datasets"
   ]
  }
 ],
 "metadata": {
  "kernelspec": {
   "display_name": "Python 2",
   "language": "python",
   "name": "python2"
  },
  "language_info": {
   "codemirror_mode": {
    "name": "ipython",
    "version": 2
   },
   "file_extension": ".py",
   "mimetype": "text/x-python",
   "name": "python",
   "nbconvert_exporter": "python",
   "pygments_lexer": "ipython2",
   "version": "2.7.15"
  }
 },
 "nbformat": 4,
 "nbformat_minor": 2
}
